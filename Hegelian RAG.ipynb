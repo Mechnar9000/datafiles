{
 "cells": [
  {
   "cell_type": "code",
   "execution_count": 142,
   "id": "880060a8-abd9-4879-b2dd-102b91ecc424",
   "metadata": {},
   "outputs": [],
   "source": [
    "import os\n",
    "import re\n",
    "from openai import OpenAI\n",
    "import pandas as pd\n",
    "from sklearn.metrics.pairwise import cosine_similarity\n",
    "import numpy as np"
   ]
  },
  {
   "cell_type": "markdown",
   "id": "9226effd-56c1-4757-a5d3-a833b43f529e",
   "metadata": {},
   "source": [
    "The task here was to make a basic retrieval-augmented generation tool in as little time as possible. To do this, I called the OpenAI API for the LLM to avoid running anything on my side. It only took a couple of hours and, I hope, demonstrates the principles of RAG. \n",
    "\n",
    "Note: only data from the Phenomenology of Spirit was used here! So don't complain if it's not the best Hegelian! "
   ]
  },
  {
   "cell_type": "markdown",
   "id": "94084aef-9c86-4716-9136-87942278e946",
   "metadata": {},
   "source": [
    "# Importing the raw text data from a markdown file taken from a pdf parsed by llama"
   ]
  },
  {
   "cell_type": "code",
   "execution_count": 201,
   "id": "1ff4f573-4240-4224-a4c6-f2e39bb1bf76",
   "metadata": {},
   "outputs": [],
   "source": [
    "with open(\"hegelpos.md\", \"r\", encoding=\"utf8\") as ff:\n",
    "    data = ff.read()"
   ]
  },
  {
   "cell_type": "code",
   "execution_count": 202,
   "id": "cc5cb460-4f48-4176-8564-f50559fc8481",
   "metadata": {},
   "outputs": [
    {
     "data": {
      "text/plain": [
       "'\\n        Preface\\n\\n¶1. It is customary to begin a work by explaining in a preface the aim that the author\\nset himself in the work, his reasons for writing it, and the relationship in which he\\nbelieves it to stand to other earlier or contemporary treatments of the same subject.\\nIn the case of a philosophical work, however, such an explanation seems not only\\nsuperfluous but, in view of the nature of the Thing,1                          even inappropriate and\\nmisleading. For the sort of statement that might properly be made about philosophy\\nin a preface—say, a historical            report   of the main direction and standpoint, of the\\ngeneral content and results, a string of desultory assertions and assurances about the\\ntrue—cannot be accepted as the way and manner in which to expound philosophical\\ntruth. Also, philosophy moves essentially in the element2                            of universality that\\nembraces the particular within itself, and this creates the impression, more here\\nthan i'"
      ]
     },
     "execution_count": 202,
     "metadata": {},
     "output_type": "execute_result"
    }
   ],
   "source": [
    "data[:1000]"
   ]
  },
  {
   "cell_type": "code",
   "execution_count": 145,
   "id": "2e6782bd-c28f-43a1-8449-2915cdc35510",
   "metadata": {},
   "outputs": [
    {
     "data": {
      "text/plain": [
       "str"
      ]
     },
     "execution_count": 145,
     "metadata": {},
     "output_type": "execute_result"
    }
   ],
   "source": [
    "type(data)"
   ]
  },
  {
   "cell_type": "markdown",
   "id": "80751405-8425-4a96-bc63-c96ba01d1ac4",
   "metadata": {},
   "source": [
    "# Cleaning the text data a bit to make it easier for the LLM to parse"
   ]
  },
  {
   "cell_type": "code",
   "execution_count": 146,
   "id": "2507bf7b-0d60-45c3-b230-e01b2e3fbb42",
   "metadata": {},
   "outputs": [],
   "source": [
    "cleandata = data.strip()"
   ]
  },
  {
   "cell_type": "code",
   "execution_count": 147,
   "id": "805ee611-1cad-4466-b583-fd6b4caa73df",
   "metadata": {},
   "outputs": [],
   "source": [
    "cleandata = cleandata.replace(\"\\n\", \" \")"
   ]
  },
  {
   "cell_type": "code",
   "execution_count": 148,
   "id": "85d4890a-c332-416f-936c-2943bf7337f1",
   "metadata": {},
   "outputs": [],
   "source": [
    "pattern = '[\\uF000-\\uF999]'\n",
    "\n",
    "cleandata = re.sub(pattern, \" \", cleandata)"
   ]
  },
  {
   "cell_type": "code",
   "execution_count": 149,
   "id": "d5f34482-8799-4e65-8dc6-91f433ef785b",
   "metadata": {},
   "outputs": [],
   "source": [
    "pattern = '\\s+'\n",
    "\n",
    "cleandata = re.sub(pattern, \" \", cleandata)"
   ]
  },
  {
   "cell_type": "markdown",
   "id": "04108432-98d9-4a43-b793-5e72b87dc66f",
   "metadata": {},
   "source": [
    "# Creating chunks using the existing aphorisms"
   ]
  },
  {
   "cell_type": "code",
   "execution_count": 150,
   "id": "57596ee0-3eb2-427a-8c41-b15846bbf994",
   "metadata": {},
   "outputs": [],
   "source": [
    "splitdata = cleandata.split(\"¶\")"
   ]
  },
  {
   "cell_type": "code",
   "execution_count": 151,
   "id": "669337aa-365c-47c1-b7d1-2fc9bcb9b710",
   "metadata": {},
   "outputs": [
    {
     "data": {
      "text/plain": [
       "'700. If we ask, what is the actual spirit which has the consciousness of its absolute essence in the religion of art, then the answer is that it is the ethical or the true spirit. This spirit is not only the universal substance of all singletons; since this substance has for actual consciousness the shape of consciousness, this means, in addition, that this substance, which has individualization, is known by the singletons as their own essence and product. So for them it is not the light-essence in whose unity the Being- for-self of self-consciousness is contained only negatively, only in a transitory way, and beholds the master of its actuality,—nor is it the consuming and relentless hatred of hostile peoples,—nor their subjugation to castes which together constitute the semblance of organization of a completed whole, but a whole that lacks the universal freedom of the individuals. No, this spirit is the free people in which custom constitutes the substance of all, whose actuality and Being-there each and everyone knows as their own will and deed.1 '"
      ]
     },
     "execution_count": 151,
     "metadata": {},
     "output_type": "execute_result"
    }
   ],
   "source": [
    "splitdata[700]"
   ]
  },
  {
   "cell_type": "markdown",
   "id": "bc7f678b-24dc-4f38-806b-06daa88fb599",
   "metadata": {},
   "source": [
    "# Creating API client from OpenAI"
   ]
  },
  {
   "cell_type": "code",
   "execution_count": 152,
   "id": "ed3e141f-4bb0-42a2-8647-6ea44140ec4a",
   "metadata": {},
   "outputs": [],
   "source": [
    "client = OpenAI(api_key=\"ENTER YOUR OWN API KEY HERE IF YOU WANT TO RUN IT\")"
   ]
  },
  {
   "cell_type": "code",
   "execution_count": 153,
   "id": "c5a97e99-dd18-4bae-a5d1-ae2cb3f0416b",
   "metadata": {},
   "outputs": [],
   "source": [
    "resp = client.chat.completions.create(\n",
    " model=\"gpt-3.5-turbo\",\n",
    " messages=[{\"role\": \"user\", \"content\": \"Hello world\"}]\n",
    ")"
   ]
  },
  {
   "cell_type": "code",
   "execution_count": 154,
   "id": "d43f36ef-eb21-409b-a892-a78a60acbb05",
   "metadata": {},
   "outputs": [
    {
     "data": {
      "text/plain": [
       "ChatCompletion(id='chatcmpl-A4VpUmUK20iqyGNdmFzHz2Asmrk6x', choices=[Choice(finish_reason='stop', index=0, logprobs=None, message=ChatCompletionMessage(content='Hello! How can I assist you today?', role='assistant', function_call=None, tool_calls=None, refusal=None))], created=1725639028, model='gpt-3.5-turbo-0125', object='chat.completion', service_tier=None, system_fingerprint=None, usage=CompletionUsage(completion_tokens=9, prompt_tokens=9, total_tokens=18))"
      ]
     },
     "execution_count": 154,
     "metadata": {},
     "output_type": "execute_result"
    }
   ],
   "source": [
    "resp"
   ]
  },
  {
   "cell_type": "code",
   "execution_count": 155,
   "id": "95c58143-2ea4-41d4-9fd0-df7d330e7ead",
   "metadata": {},
   "outputs": [
    {
     "data": {
      "text/plain": [
       "'Hello! How can I assist you today?'"
      ]
     },
     "execution_count": 155,
     "metadata": {},
     "output_type": "execute_result"
    }
   ],
   "source": [
    "resp.choices[0].message.content"
   ]
  },
  {
   "cell_type": "markdown",
   "id": "ee377e59-36ac-49a7-8514-7f0282234f5e",
   "metadata": {},
   "source": [
    "# Function to return text response from client query"
   ]
  },
  {
   "cell_type": "code",
   "execution_count": 156,
   "id": "4a04e5b7-dd70-4ec5-81dc-af27d476f347",
   "metadata": {},
   "outputs": [],
   "source": [
    "def answerme(client, question):\n",
    "\n",
    "    resp = client.chat.completions.create(model=\"gpt-3.5-turbo\", messages=[{\"role\": \"user\", \"content\": question}])\n",
    "\n",
    "    return resp.choices[0].message.content"
   ]
  },
  {
   "cell_type": "code",
   "execution_count": 157,
   "id": "88d84e5c-006e-414b-b58d-fc49ba15c179",
   "metadata": {},
   "outputs": [
    {
     "name": "stdout",
     "output_type": "stream",
     "text": [
      "The port of Aysén in Chile is famous for being the gateway to the remote and beautiful Aysén Region, known for its stunning landscapes, glaciers, fjords, and outdoor recreational opportunities such as fishing, kayaking, and hiking.\n"
     ]
    }
   ],
   "source": [
    "print(answerme(client, \"What is the port of Aysén famous for?\"))"
   ]
  },
  {
   "cell_type": "markdown",
   "id": "727af8bb-68cf-42db-ad18-02f465ab8fe8",
   "metadata": {},
   "source": [
    "# Function to embed a chunk of text"
   ]
  },
  {
   "cell_type": "code",
   "execution_count": 158,
   "id": "eacdb279-cf09-40bd-a9e5-00abb670f839",
   "metadata": {},
   "outputs": [],
   "source": [
    "def get_embedding(client, text, model=\"text-embedding-ada-002\"):\n",
    "   text = text.replace(\"\\n\", \" \")\n",
    "   return client.embeddings.create(input = [text], model=model).data[0].embedding"
   ]
  },
  {
   "cell_type": "markdown",
   "id": "c3b511b1-a9a7-4527-b180-5f7410e76354",
   "metadata": {},
   "source": [
    "# Vectorizing the text"
   ]
  },
  {
   "cell_type": "code",
   "execution_count": 161,
   "id": "637816ef-9620-4f2d-ac01-5d850a20a642",
   "metadata": {},
   "outputs": [],
   "source": [
    "#This only needs to be run once to obtain the vectors. \n",
    "\n",
    "#vectors = []\n",
    "\n",
    "#for _ in range(0, len(splitdata)):\n",
    "\n",
    "    #try:\n",
    "        #vectors.append(get_embedding(client, splitdata[_]))\n",
    "    #except:\n",
    "        #vectors.append(np.zeros(1536))"
   ]
  },
  {
   "cell_type": "code",
   "execution_count": 162,
   "id": "a7f433d5-e146-4207-a9c4-dce49bece9de",
   "metadata": {},
   "outputs": [],
   "source": [
    "#df = pd.DataFrame(vectors)"
   ]
  },
  {
   "cell_type": "code",
   "execution_count": 163,
   "id": "bc7e7569-8382-424d-b7e0-0cfd351d1d66",
   "metadata": {},
   "outputs": [],
   "source": [
    "#df.to_csv(\"vectors.csv\")"
   ]
  },
  {
   "cell_type": "markdown",
   "id": "29286a43-ff68-48f4-bd2b-4df421aaf4df",
   "metadata": {},
   "source": [
    "# Importing existing vector frame"
   ]
  },
  {
   "cell_type": "code",
   "execution_count": 167,
   "id": "545d9c19-04e0-416c-b572-2a194f3951ed",
   "metadata": {},
   "outputs": [],
   "source": [
    "df = pd.read_csv(\"vectors.csv\", index_col=0)"
   ]
  },
  {
   "cell_type": "code",
   "execution_count": 168,
   "id": "7c31cf2a-93bc-4182-a654-7877ae7e678b",
   "metadata": {},
   "outputs": [
    {
     "data": {
      "text/html": [
       "<div>\n",
       "<style scoped>\n",
       "    .dataframe tbody tr th:only-of-type {\n",
       "        vertical-align: middle;\n",
       "    }\n",
       "\n",
       "    .dataframe tbody tr th {\n",
       "        vertical-align: top;\n",
       "    }\n",
       "\n",
       "    .dataframe thead th {\n",
       "        text-align: right;\n",
       "    }\n",
       "</style>\n",
       "<table border=\"1\" class=\"dataframe\">\n",
       "  <thead>\n",
       "    <tr style=\"text-align: right;\">\n",
       "      <th></th>\n",
       "      <th>0</th>\n",
       "      <th>1</th>\n",
       "      <th>2</th>\n",
       "      <th>3</th>\n",
       "      <th>4</th>\n",
       "      <th>5</th>\n",
       "      <th>6</th>\n",
       "      <th>7</th>\n",
       "      <th>8</th>\n",
       "      <th>9</th>\n",
       "      <th>...</th>\n",
       "      <th>1526</th>\n",
       "      <th>1527</th>\n",
       "      <th>1528</th>\n",
       "      <th>1529</th>\n",
       "      <th>1530</th>\n",
       "      <th>1531</th>\n",
       "      <th>1532</th>\n",
       "      <th>1533</th>\n",
       "      <th>1534</th>\n",
       "      <th>1535</th>\n",
       "    </tr>\n",
       "  </thead>\n",
       "  <tbody>\n",
       "    <tr>\n",
       "      <th>0</th>\n",
       "      <td>0.014789</td>\n",
       "      <td>-0.010883</td>\n",
       "      <td>-0.037749</td>\n",
       "      <td>-0.007581</td>\n",
       "      <td>0.006367</td>\n",
       "      <td>0.023629</td>\n",
       "      <td>0.005017</td>\n",
       "      <td>-0.008140</td>\n",
       "      <td>-0.020314</td>\n",
       "      <td>0.003286</td>\n",
       "      <td>...</td>\n",
       "      <td>0.002692</td>\n",
       "      <td>-0.011487</td>\n",
       "      <td>0.005162</td>\n",
       "      <td>-0.015997</td>\n",
       "      <td>-0.016832</td>\n",
       "      <td>-0.007137</td>\n",
       "      <td>0.018040</td>\n",
       "      <td>-0.021830</td>\n",
       "      <td>0.018541</td>\n",
       "      <td>-0.013138</td>\n",
       "    </tr>\n",
       "    <tr>\n",
       "      <th>1</th>\n",
       "      <td>0.016903</td>\n",
       "      <td>0.012458</td>\n",
       "      <td>0.012169</td>\n",
       "      <td>-0.010006</td>\n",
       "      <td>-0.014281</td>\n",
       "      <td>0.013520</td>\n",
       "      <td>-0.031656</td>\n",
       "      <td>-0.008517</td>\n",
       "      <td>-0.006711</td>\n",
       "      <td>-0.005488</td>\n",
       "      <td>...</td>\n",
       "      <td>0.004806</td>\n",
       "      <td>-0.005062</td>\n",
       "      <td>0.011960</td>\n",
       "      <td>-0.008845</td>\n",
       "      <td>-0.038869</td>\n",
       "      <td>-0.032863</td>\n",
       "      <td>0.015618</td>\n",
       "      <td>-0.004383</td>\n",
       "      <td>0.009566</td>\n",
       "      <td>-0.050068</td>\n",
       "    </tr>\n",
       "    <tr>\n",
       "      <th>2</th>\n",
       "      <td>0.012877</td>\n",
       "      <td>0.003183</td>\n",
       "      <td>0.008545</td>\n",
       "      <td>-0.001652</td>\n",
       "      <td>-0.015958</td>\n",
       "      <td>0.017289</td>\n",
       "      <td>-0.017595</td>\n",
       "      <td>-0.013489</td>\n",
       "      <td>-0.009450</td>\n",
       "      <td>-0.012411</td>\n",
       "      <td>...</td>\n",
       "      <td>0.009403</td>\n",
       "      <td>-0.014853</td>\n",
       "      <td>0.015093</td>\n",
       "      <td>-0.013975</td>\n",
       "      <td>-0.035110</td>\n",
       "      <td>-0.025461</td>\n",
       "      <td>0.014521</td>\n",
       "      <td>0.003266</td>\n",
       "      <td>-0.000340</td>\n",
       "      <td>-0.039130</td>\n",
       "    </tr>\n",
       "    <tr>\n",
       "      <th>3</th>\n",
       "      <td>-0.008276</td>\n",
       "      <td>0.001609</td>\n",
       "      <td>0.025049</td>\n",
       "      <td>-0.009256</td>\n",
       "      <td>-0.014511</td>\n",
       "      <td>0.017089</td>\n",
       "      <td>-0.016095</td>\n",
       "      <td>-0.022203</td>\n",
       "      <td>-0.030660</td>\n",
       "      <td>-0.030365</td>\n",
       "      <td>...</td>\n",
       "      <td>0.001323</td>\n",
       "      <td>0.003054</td>\n",
       "      <td>0.014807</td>\n",
       "      <td>-0.015746</td>\n",
       "      <td>-0.032190</td>\n",
       "      <td>-0.010471</td>\n",
       "      <td>-0.002618</td>\n",
       "      <td>-0.006940</td>\n",
       "      <td>-0.003950</td>\n",
       "      <td>-0.043386</td>\n",
       "    </tr>\n",
       "    <tr>\n",
       "      <th>4</th>\n",
       "      <td>0.013413</td>\n",
       "      <td>-0.000642</td>\n",
       "      <td>0.026282</td>\n",
       "      <td>-0.017366</td>\n",
       "      <td>-0.002777</td>\n",
       "      <td>0.016197</td>\n",
       "      <td>-0.018176</td>\n",
       "      <td>0.006843</td>\n",
       "      <td>-0.009852</td>\n",
       "      <td>-0.012204</td>\n",
       "      <td>...</td>\n",
       "      <td>0.017047</td>\n",
       "      <td>0.004710</td>\n",
       "      <td>0.008610</td>\n",
       "      <td>-0.025777</td>\n",
       "      <td>-0.030294</td>\n",
       "      <td>-0.017858</td>\n",
       "      <td>0.032447</td>\n",
       "      <td>-0.007208</td>\n",
       "      <td>-0.016037</td>\n",
       "      <td>-0.038665</td>\n",
       "    </tr>\n",
       "    <tr>\n",
       "      <th>...</th>\n",
       "      <td>...</td>\n",
       "      <td>...</td>\n",
       "      <td>...</td>\n",
       "      <td>...</td>\n",
       "      <td>...</td>\n",
       "      <td>...</td>\n",
       "      <td>...</td>\n",
       "      <td>...</td>\n",
       "      <td>...</td>\n",
       "      <td>...</td>\n",
       "      <td>...</td>\n",
       "      <td>...</td>\n",
       "      <td>...</td>\n",
       "      <td>...</td>\n",
       "      <td>...</td>\n",
       "      <td>...</td>\n",
       "      <td>...</td>\n",
       "      <td>...</td>\n",
       "      <td>...</td>\n",
       "      <td>...</td>\n",
       "      <td>...</td>\n",
       "    </tr>\n",
       "    <tr>\n",
       "      <th>2718</th>\n",
       "      <td>-0.011102</td>\n",
       "      <td>0.007972</td>\n",
       "      <td>0.017217</td>\n",
       "      <td>-0.009396</td>\n",
       "      <td>-0.017637</td>\n",
       "      <td>0.006784</td>\n",
       "      <td>-0.001374</td>\n",
       "      <td>-0.012690</td>\n",
       "      <td>-0.012834</td>\n",
       "      <td>-0.026036</td>\n",
       "      <td>...</td>\n",
       "      <td>0.017965</td>\n",
       "      <td>-0.010059</td>\n",
       "      <td>0.012867</td>\n",
       "      <td>-0.033069</td>\n",
       "      <td>-0.030943</td>\n",
       "      <td>0.008149</td>\n",
       "      <td>0.008950</td>\n",
       "      <td>-0.005922</td>\n",
       "      <td>-0.006791</td>\n",
       "      <td>-0.029841</td>\n",
       "    </tr>\n",
       "    <tr>\n",
       "      <th>2719</th>\n",
       "      <td>-0.012151</td>\n",
       "      <td>0.002775</td>\n",
       "      <td>0.023420</td>\n",
       "      <td>0.001810</td>\n",
       "      <td>-0.008421</td>\n",
       "      <td>0.025766</td>\n",
       "      <td>-0.013826</td>\n",
       "      <td>-0.032601</td>\n",
       "      <td>-0.023718</td>\n",
       "      <td>-0.010978</td>\n",
       "      <td>...</td>\n",
       "      <td>0.035368</td>\n",
       "      <td>-0.016097</td>\n",
       "      <td>0.024627</td>\n",
       "      <td>-0.042718</td>\n",
       "      <td>-0.002151</td>\n",
       "      <td>0.033632</td>\n",
       "      <td>0.003940</td>\n",
       "      <td>-0.005831</td>\n",
       "      <td>-0.006591</td>\n",
       "      <td>-0.035368</td>\n",
       "    </tr>\n",
       "    <tr>\n",
       "      <th>2720</th>\n",
       "      <td>0.010984</td>\n",
       "      <td>-0.017450</td>\n",
       "      <td>0.026957</td>\n",
       "      <td>-0.004615</td>\n",
       "      <td>-0.008260</td>\n",
       "      <td>0.027577</td>\n",
       "      <td>-0.003366</td>\n",
       "      <td>-0.029478</td>\n",
       "      <td>-0.020322</td>\n",
       "      <td>0.009750</td>\n",
       "      <td>...</td>\n",
       "      <td>0.021199</td>\n",
       "      <td>-0.013660</td>\n",
       "      <td>0.002067</td>\n",
       "      <td>-0.025055</td>\n",
       "      <td>-0.025891</td>\n",
       "      <td>0.001400</td>\n",
       "      <td>-0.001155</td>\n",
       "      <td>-0.020403</td>\n",
       "      <td>-0.016883</td>\n",
       "      <td>-0.017733</td>\n",
       "    </tr>\n",
       "    <tr>\n",
       "      <th>2721</th>\n",
       "      <td>0.007435</td>\n",
       "      <td>-0.009077</td>\n",
       "      <td>-0.009428</td>\n",
       "      <td>0.002120</td>\n",
       "      <td>-0.025064</td>\n",
       "      <td>-0.004552</td>\n",
       "      <td>-0.009012</td>\n",
       "      <td>-0.023025</td>\n",
       "      <td>-0.007493</td>\n",
       "      <td>-0.018233</td>\n",
       "      <td>...</td>\n",
       "      <td>0.006617</td>\n",
       "      <td>-0.010324</td>\n",
       "      <td>0.009376</td>\n",
       "      <td>-0.031920</td>\n",
       "      <td>-0.016947</td>\n",
       "      <td>0.023155</td>\n",
       "      <td>-0.001584</td>\n",
       "      <td>0.005912</td>\n",
       "      <td>0.006214</td>\n",
       "      <td>-0.010363</td>\n",
       "    </tr>\n",
       "    <tr>\n",
       "      <th>2722</th>\n",
       "      <td>-0.000715</td>\n",
       "      <td>-0.017246</td>\n",
       "      <td>0.007301</td>\n",
       "      <td>-0.017598</td>\n",
       "      <td>-0.017637</td>\n",
       "      <td>0.019174</td>\n",
       "      <td>-0.019773</td>\n",
       "      <td>-0.009392</td>\n",
       "      <td>0.000672</td>\n",
       "      <td>-0.013365</td>\n",
       "      <td>...</td>\n",
       "      <td>0.013072</td>\n",
       "      <td>-0.007438</td>\n",
       "      <td>0.007158</td>\n",
       "      <td>-0.023408</td>\n",
       "      <td>-0.033555</td>\n",
       "      <td>0.014589</td>\n",
       "      <td>0.007184</td>\n",
       "      <td>0.007373</td>\n",
       "      <td>-0.009997</td>\n",
       "      <td>-0.007028</td>\n",
       "    </tr>\n",
       "  </tbody>\n",
       "</table>\n",
       "<p>2723 rows × 1536 columns</p>\n",
       "</div>"
      ],
      "text/plain": [
       "             0         1         2         3         4         5         6  \\\n",
       "0     0.014789 -0.010883 -0.037749 -0.007581  0.006367  0.023629  0.005017   \n",
       "1     0.016903  0.012458  0.012169 -0.010006 -0.014281  0.013520 -0.031656   \n",
       "2     0.012877  0.003183  0.008545 -0.001652 -0.015958  0.017289 -0.017595   \n",
       "3    -0.008276  0.001609  0.025049 -0.009256 -0.014511  0.017089 -0.016095   \n",
       "4     0.013413 -0.000642  0.026282 -0.017366 -0.002777  0.016197 -0.018176   \n",
       "...        ...       ...       ...       ...       ...       ...       ...   \n",
       "2718 -0.011102  0.007972  0.017217 -0.009396 -0.017637  0.006784 -0.001374   \n",
       "2719 -0.012151  0.002775  0.023420  0.001810 -0.008421  0.025766 -0.013826   \n",
       "2720  0.010984 -0.017450  0.026957 -0.004615 -0.008260  0.027577 -0.003366   \n",
       "2721  0.007435 -0.009077 -0.009428  0.002120 -0.025064 -0.004552 -0.009012   \n",
       "2722 -0.000715 -0.017246  0.007301 -0.017598 -0.017637  0.019174 -0.019773   \n",
       "\n",
       "             7         8         9  ...      1526      1527      1528  \\\n",
       "0    -0.008140 -0.020314  0.003286  ...  0.002692 -0.011487  0.005162   \n",
       "1    -0.008517 -0.006711 -0.005488  ...  0.004806 -0.005062  0.011960   \n",
       "2    -0.013489 -0.009450 -0.012411  ...  0.009403 -0.014853  0.015093   \n",
       "3    -0.022203 -0.030660 -0.030365  ...  0.001323  0.003054  0.014807   \n",
       "4     0.006843 -0.009852 -0.012204  ...  0.017047  0.004710  0.008610   \n",
       "...        ...       ...       ...  ...       ...       ...       ...   \n",
       "2718 -0.012690 -0.012834 -0.026036  ...  0.017965 -0.010059  0.012867   \n",
       "2719 -0.032601 -0.023718 -0.010978  ...  0.035368 -0.016097  0.024627   \n",
       "2720 -0.029478 -0.020322  0.009750  ...  0.021199 -0.013660  0.002067   \n",
       "2721 -0.023025 -0.007493 -0.018233  ...  0.006617 -0.010324  0.009376   \n",
       "2722 -0.009392  0.000672 -0.013365  ...  0.013072 -0.007438  0.007158   \n",
       "\n",
       "          1529      1530      1531      1532      1533      1534      1535  \n",
       "0    -0.015997 -0.016832 -0.007137  0.018040 -0.021830  0.018541 -0.013138  \n",
       "1    -0.008845 -0.038869 -0.032863  0.015618 -0.004383  0.009566 -0.050068  \n",
       "2    -0.013975 -0.035110 -0.025461  0.014521  0.003266 -0.000340 -0.039130  \n",
       "3    -0.015746 -0.032190 -0.010471 -0.002618 -0.006940 -0.003950 -0.043386  \n",
       "4    -0.025777 -0.030294 -0.017858  0.032447 -0.007208 -0.016037 -0.038665  \n",
       "...        ...       ...       ...       ...       ...       ...       ...  \n",
       "2718 -0.033069 -0.030943  0.008149  0.008950 -0.005922 -0.006791 -0.029841  \n",
       "2719 -0.042718 -0.002151  0.033632  0.003940 -0.005831 -0.006591 -0.035368  \n",
       "2720 -0.025055 -0.025891  0.001400 -0.001155 -0.020403 -0.016883 -0.017733  \n",
       "2721 -0.031920 -0.016947  0.023155 -0.001584  0.005912  0.006214 -0.010363  \n",
       "2722 -0.023408 -0.033555  0.014589  0.007184  0.007373 -0.009997 -0.007028  \n",
       "\n",
       "[2723 rows x 1536 columns]"
      ]
     },
     "execution_count": 168,
     "metadata": {},
     "output_type": "execute_result"
    }
   ],
   "source": [
    "df"
   ]
  },
  {
   "cell_type": "code",
   "execution_count": 170,
   "id": "6d0ff333-72de-4423-83b0-a2609eddfac0",
   "metadata": {},
   "outputs": [
    {
     "data": {
      "text/plain": [
       "2723"
      ]
     },
     "execution_count": 170,
     "metadata": {},
     "output_type": "execute_result"
    }
   ],
   "source": [
    "# Check the indexing still matches up\n",
    "\n",
    "len(splitdata)"
   ]
  },
  {
   "cell_type": "markdown",
   "id": "b6cd93d5-4ef8-4331-bd3d-071718bd8d81",
   "metadata": {},
   "source": [
    "# Function to return top k matches using cosine simiarlity"
   ]
  },
  {
   "cell_type": "code",
   "execution_count": 171,
   "id": "e2c4474a-a833-476d-a8de-6aafe3521977",
   "metadata": {},
   "outputs": [],
   "source": [
    "def find_top_k_matches(query, vecdf, textdata, k=5):\n",
    "    query_embedding = np.array(get_embedding(client, query, model=\"text-embedding-ada-002\"))\n",
    "    \n",
    "    embeddings = vecdf.to_numpy()\n",
    "    \n",
    "    similarities = cosine_similarity(query_embedding.reshape(1,-1), embeddings).flatten()\n",
    "\n",
    "    top_k_indices = similarities.argsort()[-k:][::-1]\n",
    "\n",
    "    return top_k_indices\n"
   ]
  },
  {
   "cell_type": "code",
   "execution_count": 173,
   "id": "16e05480-3a38-4e0b-818a-6c492a718e62",
   "metadata": {},
   "outputs": [],
   "source": [
    "topk = find_top_k_matches(\"What is the spirit in Hegel's hierarchy?\", df, textdata=splitdata, k=5)"
   ]
  },
  {
   "cell_type": "markdown",
   "id": "f643dd0c-69fd-426e-84bc-d3b84e51032a",
   "metadata": {},
   "source": [
    "# Example of top k matches found"
   ]
  },
  {
   "cell_type": "code",
   "execution_count": 175,
   "id": "7ab89c48-f572-4098-9070-c8121e1e4dba",
   "metadata": {},
   "outputs": [
    {
     "name": "stdout",
     "output_type": "stream",
     "text": [
      "767. 1. Spirit, as conceived by Christianity, involves three stages that correspond not only to the three persons of the Trinity, but to the three parts of Hegel’s system. The pure substance, or God the Father, is thinking or logic: cf. Hegel, SL, p.29: ‘It can therefore be said that this content is the exposition of God as he is in his eternal essence before the creation of nature and of a finite spirit.’ Logic descends into the singularity of Christ or into nature, the second part of the system. This involves representation especially, not only in religion, but also in Hegel’s system, since the description of nature requires determinate empirical concepts, such as that of a plant, not only pure thoughts, such as those of Being or of substance. Christ is other than God and nature is other than pure thought. Finally, in the holy spirit and in Hegel’s account of mind or spirit, spirit returns from otherness and representation into self- consciousness. Each of these stages is a sort of circle, which, in completing itself, moves on to the next stage: cf. Enc. I, \n",
      "353. Spirit emerges from observing reason as a singular consciousness, in search of the happiness it expects to find, or produce, in unity with other self-consciousnesses. Unlike the preceding supposition this does not correspond to any obvious historical occurrence, but to the logical sequence of Hegel’s thoughts. This suggests a tension between the historical and logical sequences. However, Hegel also has in mind an alienated modern individual, seeking a restoration of the secure order lost in the French revolution, Kantian morality, etc. \n",
      "443. 1. Spirit follows the Hegelian pattern of immediate unity-division-restoration of unity on a higher level. The actual self-consciousness of absolute spirit is religion, the subject of chapter VII, while chapter VI presents the consciousness of absolute spirit: see Jarczyk and Labarrière I, pp.749f., n.12. A . THE TRUE SPIRIT , THE ETHICAL ORDER \n",
      "112 Addition associates mirrors with ‘reflection’ rather than speculation. Spirit: Geist. In Enc. III, Hegel explicitly distinguishes three stages of spirit: ‘subjective spirit’ (roughly, the individual mind), ‘objective spirit’ (the collective social life of a people), and ‘absolute spirit’ (art, religion, and philosophy). He does not draw this distinction explicitly in PS, and tends to call the individual mind the ‘soul’ (Seele) rather than the ‘spirit’: see \n",
      "442. 1. Hegel summarizes the whole development of spirit. It begins with the tightly knit ethical life of the Greek city-state. This is rent apart by its self-knowledge, leading to the abstract ‘right’ of the Roman Empire, which sets the Self in opposition to the substance. Division persists in the history of Europe down to the French revolution: there are two realms, that of culture (the hither side) and that of faith (the beyond). These realms are --- shattered by the ‘insight’ of the enlightenment, the conceptual penetration of an object that results in its dissolution. The two realms thus coalesce into morality, where the Self is all- important, culminating in conscience. \n"
     ]
    }
   ],
   "source": [
    "for _ in topk:\n",
    "\n",
    "    print(splitdata[_])"
   ]
  },
  {
   "cell_type": "markdown",
   "id": "91801151-7419-4c78-8c29-f9c805e0c950",
   "metadata": {},
   "source": [
    "# Function to run the RAG model"
   ]
  },
  {
   "cell_type": "code",
   "execution_count": 210,
   "id": "fdfe1e0b-29a7-483a-803c-48249db19cd2",
   "metadata": {},
   "outputs": [],
   "source": [
    "def rag(client, textdata, vecdf, query, k):\n",
    "\n",
    "    ind = find_top_k_matches(query, vecdf, textdata, k)\n",
    "\n",
    "    info = \". \".join([splitdata[_] for _ in ind])\n",
    "\n",
    "    combquery = f\"The question is: {query}, please make use of the following retrieved text written by Hegel when answering the question: {info}\"\n",
    "\n",
    "    print(\"What the LLM sees:\\n\")\n",
    "    print(combquery + \"\\n\\n\")\n",
    "\n",
    "    print(\"Resulting answer:\\n\") \n",
    "    return answerme(client, combquery)"
   ]
  },
  {
   "cell_type": "markdown",
   "id": "2019b72f-0b4b-47c6-a863-e5571fcceac7",
   "metadata": {},
   "source": [
    "# Comparison of RAG output vs default output"
   ]
  },
  {
   "cell_type": "code",
   "execution_count": 211,
   "id": "07dd801e-66ce-45d5-ae82-74087c36b486",
   "metadata": {},
   "outputs": [
    {
     "name": "stdout",
     "output_type": "stream",
     "text": [
      "What the LLM sees:\n",
      "\n",
      "The question is: What is spirit in Hegel's hierarchy?, please make use of the following retrieved text written by Hegel when answering the question: 767. 1. Spirit, as conceived by Christianity, involves three stages that correspond not only to the three persons of the Trinity, but to the three parts of Hegel’s system. The pure substance, or God the Father, is thinking or logic: cf. Hegel, SL, p.29: ‘It can therefore be said that this content is the exposition of God as he is in his eternal essence before the creation of nature and of a finite spirit.’ Logic descends into the singularity of Christ or into nature, the second part of the system. This involves representation especially, not only in religion, but also in Hegel’s system, since the description of nature requires determinate empirical concepts, such as that of a plant, not only pure thoughts, such as those of Being or of substance. Christ is other than God and nature is other than pure thought. Finally, in the holy spirit and in Hegel’s account of mind or spirit, spirit returns from otherness and representation into self- consciousness. Each of these stages is a sort of circle, which, in completing itself, moves on to the next stage: cf. Enc. I, . 353. Spirit emerges from observing reason as a singular consciousness, in search of the happiness it expects to find, or produce, in unity with other self-consciousnesses. Unlike the preceding supposition this does not correspond to any obvious historical occurrence, but to the logical sequence of Hegel’s thoughts. This suggests a tension between the historical and logical sequences. However, Hegel also has in mind an alienated modern individual, seeking a restoration of the secure order lost in the French revolution, Kantian morality, etc. . 112 Addition associates mirrors with ‘reflection’ rather than speculation. Spirit: Geist. In Enc. III, Hegel explicitly distinguishes three stages of spirit: ‘subjective spirit’ (roughly, the individual mind), ‘objective spirit’ (the collective social life of a people), and ‘absolute spirit’ (art, religion, and philosophy). He does not draw this distinction explicitly in PS, and tends to call the individual mind the ‘soul’ (Seele) rather than the ‘spirit’: see . 443. 1. Spirit follows the Hegelian pattern of immediate unity-division-restoration of unity on a higher level. The actual self-consciousness of absolute spirit is religion, the subject of chapter VII, while chapter VI presents the consciousness of absolute spirit: see Jarczyk and Labarrière I, pp.749f., n.12. A . THE TRUE SPIRIT , THE ETHICAL ORDER . 438. 1. In PS, spirit is primarily the collective spirit of a people. It is the truth of reason in that it fulfils what was initially only reason’s subjective certainty of being all reality. Hegel then summarizes the stages by which this truth was reached. Observing reason (. 442. 1. Hegel summarizes the whole development of spirit. It begins with the tightly knit ethical life of the Greek city-state. This is rent apart by its self-knowledge, leading to the abstract ‘right’ of the Roman Empire, which sets the Self in opposition to the substance. Division persists in the history of Europe down to the French revolution: there are two realms, that of culture (the hither side) and that of faith (the beyond). These realms are --- shattered by the ‘insight’ of the enlightenment, the conceptual penetration of an object that results in its dissolution. The two realms thus coalesce into morality, where the Self is all- important, culminating in conscience. \n",
      "\n",
      "\n",
      "Resulting answer:\n",
      "\n",
      "In Hegel's hierarchy, spirit encompasses three stages that correspond to the three parts of his system. The first stage is the pure substance, which is represented by God the Father and is associated with thinking or logic. This stage is described as the eternal essence of God before the creation of nature and finite spirit. The second stage involves the singularity of Christ or nature, where representation becomes especially important. This stage is characterized by determinate empirical concepts, as opposed to pure thoughts. The final stage is the holy spirit, where spirit returns from otherness and representation into self-consciousness.\n",
      "\n",
      "Hegel distinguishes three stages of spirit explicitly in his work: 'subjective spirit' (individual mind), 'objective spirit' (collective social life), and 'absolute spirit' (art, religion, and philosophy). Spirit follows a pattern of immediate unity-division-restoration of unity on a higher level. The true spirit, the ethical order, is primarily the collective spirit of a people and represents the fulfillment of reason's subjective certainty of being all reality. \n",
      "\n",
      "Hegel summarizes the development of spirit from the tightly knit ethical life of the Greek city-state, through the abstract 'right' of the Roman Empire, to the division between culture and faith in Europe up to the French revolution. This division is ultimately overcome through the insight of the enlightenment, leading to the coalescence of the two realms into morality, where the Self is paramount, ultimately culminating in conscience.\n"
     ]
    }
   ],
   "source": [
    "print(rag(client, textdata=splitdata, vecdf=df, query=\"What is spirit in Hegel's hierarchy?\", k=6))"
   ]
  },
  {
   "cell_type": "code",
   "execution_count": 215,
   "id": "417287dd-0bdc-4c0f-9e24-1ce3eaf3fdcb",
   "metadata": {},
   "outputs": [
    {
     "name": "stdout",
     "output_type": "stream",
     "text": [
      "Answer from the basic LLM:\n",
      "\n",
      "In Hegel's philosophy, spirit is the highest level in the hierarchy of his philosophical system. Spirit is the culmination of the development of the Absolute, which progresses from nature to consciousness to self-consciousness before reaching spirit. Spirit, in Hegel's terms, is the rational self-consciousness of an individual or a collective, embodying freedom, self-determination, and the ability to act morally. Spirit is seen as the ultimate reality that emerges from the dialectical process of thesis, antithesis, and synthesis, and it represents the highest form of self-awareness and self-actualization. Hegel believed that the historical development of spirit manifests itself through various stages of cultural, political, and social advancement, ultimately leading to the realization of absolute freedom and self-determination.\n"
     ]
    }
   ],
   "source": [
    "print(\"Answer from the basic LLM:\\n\")\n",
    "\n",
    "print(answerme(client, \"What is spirit in Hegel's hierarchy?\"))"
   ]
  },
  {
   "cell_type": "code",
   "execution_count": 213,
   "id": "178ae06e-a22c-4eb8-9089-7fb43ef12d35",
   "metadata": {},
   "outputs": [
    {
     "name": "stdout",
     "output_type": "stream",
     "text": [
      "What the LLM sees:\n",
      "\n",
      "The question is: What is the the abstract universality of Being according to Hegel?, please make use of the following retrieved text written by Hegel when answering the question: 51). In Hegel’s system it corresponds to the transition from Logic to the philosophy of nature, showing how the logical ‘Idea’ necessarily burgeons into a world of space, time, matter, etc. and eventually into the human mind itself. The ‘becoming of Being-there as Being-there’ is associated with (among other things) this process, the transition from logic to nature, while the ‘becoming of the essence’ is presented in the Logic itself, the extraction of the logical essence of the world and the passage to higher and higher logical categories. The becoming of the ‘substance’, i.e. of the logical ‘essence’, passes over into ‘externality’, i.e. nature, where it is ‘for another’, i.e. known to us. The becoming of Being-there is the ‘withdrawal into essence’, perhaps in the sense that nature leads on to mind, the culminating phase of which is philosophy, i.e. logic. . 774. 1. God creates the world. This is the way in which religious representation presents what is in fact a logical necessity, that pure thought or the concept should actualize itself in concrete reality or Being for another. Hegel is attempting to explain why there is anything at all rather than nothing. His argument is that God, or pure thought, could not be what it is, if it did not actualize itself, that God, abstract thought, etc. could not be, or be appropriately described as, God, abstract, etc. unless there were something concrete, etc. contrasting with them. . 112. 1. Hegel uses ‘universal’ liberally: the object of perception is universal in that it has many properties. Perception does not simply supplant sensory certainty. It incorporates the sensory ‘wealth’ that sensory certainty gestured towards but could not digest. Hegel has the concept expressed by his later use of aufheben (‘abolish–preserve–elevate’), even if he does not often use the word in this way yet: but see . 50): when we infer the existence of God from the ‘finite’ world, we alter our conception of the world (or ‘Being-there’). The world is no longer conceived as, say, an aggregate of contingent entities or as merely orderly. It is a world governed by universal laws and is an organic purposive whole. To infer the existence of God is not, in Hegel’s view, to infer the existence of an entity distinct from the world. It is to ascend from ‘Being’ to ‘thought’ and thus to elevate the world to thought. By contrast, the ‘ontological proof ’ proceeds in the reverse direction, from thought to Being (Enc. I, . 88). These look much like propositions, though not propositions of the same type as ‘God/the --- absolute is Being’, let alone ‘The cat is black’. Nevertheless, Hegel’s idea is that the essential elements in this progression are the ‘thought-determinations’, Being, nothing, becoming, etc.—or, in PS, the ‘shapes of consciousness’. The other words in the sentences in which they figure are simply the explanatory framework, explaining in particular why each thought- determination moves on into the next. ‘The true is the subject’, not in the sense of ‘subject’ in which it is correlative with a predicate, but in the sense of the subject of activity, as in . 176ff.: at first, the I is confronted by an alien world, the objects of its ‘consciousness’, but when it meets another self-consciousness it sees a duplicate of itself. The development of the absolute follows the same pattern: the original unity (the subject) splits in two (the subject and concrete reality), and then finds itself again in the world confronting it (human beings). The ‘true’ is not just the first stage of this process; it is the whole process in which God (the beginning) creates a world other than himself and then finds himself (the end) in the world. However, Hegel need not claim that the active subject is also a knowing, purposive subject. Even if the subject is blind energy, it still generates a diversified world different from itself, which eventually provides a sort of duplicate of blind energy—in the form, say, of human beings who experiment with it, write about it, etc.—though we shall be less inclined to say that this ‘equality’ is the ‘goal’ of blind energy. It remains the case that the true is the whole process, not just the energy that initiates it. \n",
      "\n",
      "\n",
      "Resulting answer:\n",
      "\n",
      "In Hegel's system, the abstract universality of Being can be understood as the transition from pure thought or the logical 'Idea' to concrete reality or \"Being for another.\" This transition is necessary for God, or pure thought, to truly be what it is. Hegel argues that God could not be appropriately described as God unless there was something concrete contrasting with it. This process of actualizing pure thought into concrete reality is essential for the development of the world and the human mind. \n",
      "\n",
      "Hegel uses the term 'universal' to describe the object of perception, emphasizing that it has many properties and is not simply limited to sensory certainty. Perception, according to Hegel, incorporates the richness of sensory experience while also moving beyond it. He argues that inferring the existence of God from the finite world is not about positing a separate entity but rather elevating the world to thought. This process involves ascending from 'Being' to 'thought' and recognizing the world as governed by universal laws and as an organic whole. \n",
      "\n",
      "Overall, the abstract universality of Being according to Hegel involves the progression from pure thought to concrete reality, the recognition of universal laws governing the world, and the elevation of the world to thought through the inference of the existence of God. This process culminates in the development of the absolute, where the subject and concrete reality are reconciled, leading to a deeper understanding of the true nature of existence.\n"
     ]
    }
   ],
   "source": [
    "print(rag(client, textdata=splitdata, vecdf=df, query=\"What is the the abstract universality of Being according to Hegel?\", k=6))"
   ]
  },
  {
   "cell_type": "code",
   "execution_count": 214,
   "id": "fad06c90-537d-4632-a29e-2401f5cfe14d",
   "metadata": {},
   "outputs": [
    {
     "name": "stdout",
     "output_type": "stream",
     "text": [
      "Answer from the basic LLM:\n",
      "\n",
      "In Hegel's philosophy, the abstract universality of Being refers to the concept that all things in the world share a fundamental essence or existence. This means that everything in existence is interconnected and part of a greater whole. Hegel believed that this abstract universality of Being was the underlying foundation of reality and that it could be understood through a dialectical process of reasoning and analysis. Hegel's idea of abstract universality of Being is central to his philosophy of dialectical idealism, which posits that reality is ultimately a unified and interconnected system of ideas and concepts.\n"
     ]
    }
   ],
   "source": [
    "print(\"Answer from the basic LLM:\\n\")\n",
    "\n",
    "print(answerme(client, \"What is the the abstract universality of Being according to Hegel?\"))"
   ]
  }
 ],
 "metadata": {
  "kernelspec": {
   "display_name": "Python 3 (ipykernel)",
   "language": "python",
   "name": "python3"
  },
  "language_info": {
   "codemirror_mode": {
    "name": "ipython",
    "version": 3
   },
   "file_extension": ".py",
   "mimetype": "text/x-python",
   "name": "python",
   "nbconvert_exporter": "python",
   "pygments_lexer": "ipython3",
   "version": "3.11.5"
  }
 },
 "nbformat": 4,
 "nbformat_minor": 5
}
