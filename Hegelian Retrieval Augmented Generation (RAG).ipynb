{
 "cells": [
  {
   "cell_type": "code",
   "execution_count": 140,
   "id": "880060a8-abd9-4879-b2dd-102b91ecc424",
   "metadata": {},
   "outputs": [],
   "source": [
    "import os\n",
    "import re\n",
    "from openai import OpenAI\n",
    "import pandas as pd\n",
    "from sklearn.metrics.pairwise import cosine_similarity\n",
    "import numpy as np"
   ]
  },
  {
   "cell_type": "markdown",
   "id": "9226effd-56c1-4757-a5d3-a833b43f529e",
   "metadata": {},
   "source": [
    "The task here was to make a basic retrieval-augmented generation tool in as little time as possible. To do this, I called the OpenAI API for the LLM to avoid running anything on my side. It only took a couple of hours and should demonstrate the basic principles of RAG. \n",
    "\n",
    "Note: only data from Hegel's work \"The Phenomenology of Spirit\" was used here! So don't complain if it's not the best Hegelian philosophy! \n",
    "\n",
    "Three approaches are attempted below. One uses whole chapters/aphorisms from the source text as chunks for vectorization. The other uses individuals sentences. The final approach, which appears to be the most effective, uses sentence chunks, but once it finds the k best matches, pads the chunks of information passed to the LLM with sentences from before and after the sentence selected by the model to provide additional context.\n",
    "\n",
    "Cosine-similarity was used as the distance metric to search for the similarity between the vectorized query and the database of chunk vectors. \n",
    "\n",
    "The LLM used for the test is GPT-3.5-turbo. The embedding model used to vectorize the chunks is ada-002."
   ]
  },
  {
   "cell_type": "markdown",
   "id": "94084aef-9c86-4716-9136-87942278e946",
   "metadata": {},
   "source": [
    "# Importing the raw text data from a markdown file taken from a pdf parsed by llama"
   ]
  },
  {
   "cell_type": "code",
   "execution_count": 144,
   "id": "1ff4f573-4240-4224-a4c6-f2e39bb1bf76",
   "metadata": {},
   "outputs": [],
   "source": [
    "# Import raw text data \n",
    "\n",
    "with open(\"hegelpos.md\", \"r\", encoding=\"utf8\") as ff:\n",
    "    data = ff.read()"
   ]
  },
  {
   "cell_type": "code",
   "execution_count": 146,
   "id": "cc5cb460-4f48-4176-8564-f50559fc8481",
   "metadata": {},
   "outputs": [
    {
     "data": {
      "text/plain": [
       "'\\n        Preface\\n\\n¶1. It is customary to begin a work by explaining in a preface the aim that the author\\nset himself in the work, his reasons for writing it, and the relationship in which he\\nbelieves it to stand to other earlier or contemporary treatments of the same subject.\\nIn the case of a philosophical work, however, such an explanation seems not only\\nsuperfluous but, in view of the nature of the Thing,1                          even inappropriate and\\nmisleading. For the sort of statement that might properly be made about philosophy\\nin a preface—say, a historical            report   of the main direction and standpoint, of the\\ngeneral content and results, a string of desultory assertions and assurances about the\\ntrue—cannot be accepted as the way and manner in which to expound philosophical\\ntruth. Also, philosophy moves essentially in the element2                            of universality that\\nembraces the particular within itself, and this creates the impression, more here\\nthan i'"
      ]
     },
     "execution_count": 146,
     "metadata": {},
     "output_type": "execute_result"
    }
   ],
   "source": [
    "# Sample of raw text data\n",
    "\n",
    "data[:1000]"
   ]
  },
  {
   "cell_type": "code",
   "execution_count": 148,
   "id": "2e6782bd-c28f-43a1-8449-2915cdc35510",
   "metadata": {},
   "outputs": [
    {
     "data": {
      "text/plain": [
       "str"
      ]
     },
     "execution_count": 148,
     "metadata": {},
     "output_type": "execute_result"
    }
   ],
   "source": [
    "type(data)"
   ]
  },
  {
   "cell_type": "markdown",
   "id": "80751405-8425-4a96-bc63-c96ba01d1ac4",
   "metadata": {},
   "source": [
    "# Cleaning the text data a bit to make it easier for the LLM to parse"
   ]
  },
  {
   "cell_type": "code",
   "execution_count": 151,
   "id": "2507bf7b-0d60-45c3-b230-e01b2e3fbb42",
   "metadata": {},
   "outputs": [],
   "source": [
    "cleandata = data.strip()"
   ]
  },
  {
   "cell_type": "code",
   "execution_count": 153,
   "id": "805ee611-1cad-4466-b583-fd6b4caa73df",
   "metadata": {},
   "outputs": [],
   "source": [
    "cleandata = cleandata.replace(\"\\n\", \" \")"
   ]
  },
  {
   "cell_type": "code",
   "execution_count": 155,
   "id": "85d4890a-c332-416f-936c-2943bf7337f1",
   "metadata": {},
   "outputs": [],
   "source": [
    "pattern = '[\\uF000-\\uF999]'\n",
    "\n",
    "cleandata = re.sub(pattern, \" \", cleandata)"
   ]
  },
  {
   "cell_type": "code",
   "execution_count": 157,
   "id": "d5f34482-8799-4e65-8dc6-91f433ef785b",
   "metadata": {},
   "outputs": [],
   "source": [
    "pattern = '\\s+'\n",
    "\n",
    "cleandata = re.sub(pattern, \" \", cleandata)"
   ]
  },
  {
   "cell_type": "markdown",
   "id": "7951f3fc-3f59-491d-8a60-169e71858f64",
   "metadata": {},
   "source": [
    "# APPROACH 1"
   ]
  },
  {
   "cell_type": "markdown",
   "id": "04108432-98d9-4a43-b793-5e72b87dc66f",
   "metadata": {},
   "source": [
    "### Creating chunks using the existing aphorisms"
   ]
  },
  {
   "cell_type": "code",
   "execution_count": 161,
   "id": "57596ee0-3eb2-427a-8c41-b15846bbf994",
   "metadata": {},
   "outputs": [],
   "source": [
    "splitdata = cleandata.split(\"¶\")"
   ]
  },
  {
   "cell_type": "code",
   "execution_count": 163,
   "id": "669337aa-365c-47c1-b7d1-2fc9bcb9b710",
   "metadata": {},
   "outputs": [
    {
     "data": {
      "text/plain": [
       "'1. It is customary to begin a work by explaining in a preface the aim that the author set himself in the work, his reasons for writing it, and the relationship in which he believes it to stand to other earlier or contemporary treatments of the same subject. In the case of a philosophical work, however, such an explanation seems not only superfluous but, in view of the nature of the Thing,1 even inappropriate and misleading. For the sort of statement that might properly be made about philosophy in a preface—say, a historical report of the main direction and standpoint, of the general content and results, a string of desultory assertions and assurances about the true—cannot be accepted as the way and manner in which to expound philosophical truth. Also, philosophy moves essentially in the element2 of universality that embraces the particular within itself, and this creates the impression, more here than in the case of other sciences, that the Thing itself, in all its essentials, is expressed in the aim and the final results, whereas the elaboration is really the inessential. By contrast, we need no convincing that, in the general idea3 of what (for example) anatomy is—say, the knowledge of the parts of the body considered in their lifeless state—we are not yet in possession of the Thing itself, the content of this science, that we must in addition get to grips with the particular. Further, in the case of such an aggregate of information, which has no right to bear the name of science, a conver- sational account of aims and other such generalities is no different from the historical and unconceptual way in which the content itself (these nerves, muscles, etc.) is discussed. In the case of philosophy, by contrast, this would give rise to the incon- gruity that this manner of which philosophy makes use is shown by philosophy itself to be incapable of grasping the truth.4 '"
      ]
     },
     "execution_count": 163,
     "metadata": {},
     "output_type": "execute_result"
    }
   ],
   "source": [
    "# Example of chapter/aphorism \n",
    "\n",
    "splitdata[1]"
   ]
  },
  {
   "cell_type": "markdown",
   "id": "bc7f678b-24dc-4f38-806b-06daa88fb599",
   "metadata": {},
   "source": [
    "# Creating API client from OpenAI"
   ]
  },
  {
   "cell_type": "code",
   "execution_count": 166,
   "id": "ed3e141f-4bb0-42a2-8647-6ea44140ec4a",
   "metadata": {},
   "outputs": [],
   "source": [
    "client = OpenAI(api_key=\"<ADD YOUR OWN API KEY TO RUN CODE>\")"
   ]
  },
  {
   "cell_type": "code",
   "execution_count": 167,
   "id": "c5a97e99-dd18-4bae-a5d1-ae2cb3f0416b",
   "metadata": {},
   "outputs": [],
   "source": [
    "resp = client.chat.completions.create(\n",
    " model=\"gpt-3.5-turbo\",\n",
    " messages=[{\"role\": \"user\", \"content\": \"Hello world\"}]\n",
    ")"
   ]
  },
  {
   "cell_type": "code",
   "execution_count": 169,
   "id": "d43f36ef-eb21-409b-a892-a78a60acbb05",
   "metadata": {},
   "outputs": [
    {
     "data": {
      "text/plain": [
       "ChatCompletion(id='chatcmpl-A9YfJF5MAeb9NGwufn7SriBXUMcHo', choices=[Choice(finish_reason='stop', index=0, logprobs=None, message=ChatCompletionMessage(content='Hello! How can I assist you today?', role='assistant', function_call=None, tool_calls=None, refusal=None))], created=1726841569, model='gpt-3.5-turbo-0125', object='chat.completion', service_tier=None, system_fingerprint=None, usage=CompletionUsage(completion_tokens=9, prompt_tokens=9, total_tokens=18, completion_tokens_details={'reasoning_tokens': 0}))"
      ]
     },
     "execution_count": 169,
     "metadata": {},
     "output_type": "execute_result"
    }
   ],
   "source": [
    "resp"
   ]
  },
  {
   "cell_type": "code",
   "execution_count": 170,
   "id": "95c58143-2ea4-41d4-9fd0-df7d330e7ead",
   "metadata": {},
   "outputs": [
    {
     "data": {
      "text/plain": [
       "'Hello! How can I assist you today?'"
      ]
     },
     "execution_count": 170,
     "metadata": {},
     "output_type": "execute_result"
    }
   ],
   "source": [
    "resp.choices[0].message.content"
   ]
  },
  {
   "cell_type": "markdown",
   "id": "ee377e59-36ac-49a7-8514-7f0282234f5e",
   "metadata": {},
   "source": [
    "# Function to return text response from client query"
   ]
  },
  {
   "cell_type": "code",
   "execution_count": 173,
   "id": "4a04e5b7-dd70-4ec5-81dc-af27d476f347",
   "metadata": {},
   "outputs": [],
   "source": [
    "def answerme(client, question):\n",
    "\n",
    "    resp = client.chat.completions.create(model=\"gpt-3.5-turbo\", messages=[{\"role\": \"user\", \"content\": question}])\n",
    "\n",
    "    return resp.choices[0].message.content"
   ]
  },
  {
   "cell_type": "code",
   "execution_count": 177,
   "id": "88d84e5c-006e-414b-b58d-fc49ba15c179",
   "metadata": {},
   "outputs": [
    {
     "name": "stdout",
     "output_type": "stream",
     "text": [
      "The port of Aysén, located in the Aysén Region of Chile, is famous for being the main maritime gateway to the town of Puerto Aysén and the surrounding area. It is known for its picturesque landscapes, including the nearby Marble Caves, a popular tourist attraction. The port also serves as an important hub for fishing, agriculture, and tourism industries in the region.\n"
     ]
    }
   ],
   "source": [
    "print(answerme(client, \"What is the port of Aysén famous for?\"))"
   ]
  },
  {
   "cell_type": "markdown",
   "id": "727af8bb-68cf-42db-ad18-02f465ab8fe8",
   "metadata": {},
   "source": [
    "# Function to embed a chunk of text"
   ]
  },
  {
   "cell_type": "code",
   "execution_count": 179,
   "id": "eacdb279-cf09-40bd-a9e5-00abb670f839",
   "metadata": {},
   "outputs": [],
   "source": [
    "def get_embedding(client, text, model=\"text-embedding-ada-002\"):\n",
    "   text = text.replace(\"\\n\", \" \")\n",
    "   return client.embeddings.create(input = [text], model=model).data[0].embedding"
   ]
  },
  {
   "cell_type": "markdown",
   "id": "c3b511b1-a9a7-4527-b180-5f7410e76354",
   "metadata": {},
   "source": [
    "# Vectorizing the text"
   ]
  },
  {
   "cell_type": "code",
   "execution_count": 181,
   "id": "637816ef-9620-4f2d-ac01-5d850a20a642",
   "metadata": {},
   "outputs": [],
   "source": [
    "#This only needs to be run once to obtain the vectors. \n",
    "\n",
    "#vectors = []\n",
    "\n",
    "#for _ in range(0, len(splitdata)):\n",
    "\n",
    "    #try:\n",
    "        #vectors.append(get_embedding(client, splitdata[_]))\n",
    "    #except:\n",
    "        #vectors.append(np.zeros(1536))"
   ]
  },
  {
   "cell_type": "code",
   "execution_count": 182,
   "id": "a7f433d5-e146-4207-a9c4-dce49bece9de",
   "metadata": {},
   "outputs": [],
   "source": [
    "#df = pd.DataFrame(vectors)"
   ]
  },
  {
   "cell_type": "code",
   "execution_count": 183,
   "id": "bc7e7569-8382-424d-b7e0-0cfd351d1d66",
   "metadata": {},
   "outputs": [],
   "source": [
    "#df.to_csv(\"vectors.csv\")"
   ]
  },
  {
   "cell_type": "markdown",
   "id": "29286a43-ff68-48f4-bd2b-4df421aaf4df",
   "metadata": {},
   "source": [
    "# Importing existing vector frame"
   ]
  },
  {
   "cell_type": "code",
   "execution_count": 185,
   "id": "545d9c19-04e0-416c-b572-2a194f3951ed",
   "metadata": {},
   "outputs": [],
   "source": [
    "df = pd.read_csv(\"vectors.csv\", index_col=0)"
   ]
  },
  {
   "cell_type": "code",
   "execution_count": 186,
   "id": "7c31cf2a-93bc-4182-a654-7877ae7e678b",
   "metadata": {},
   "outputs": [
    {
     "data": {
      "text/html": [
       "<div>\n",
       "<style scoped>\n",
       "    .dataframe tbody tr th:only-of-type {\n",
       "        vertical-align: middle;\n",
       "    }\n",
       "\n",
       "    .dataframe tbody tr th {\n",
       "        vertical-align: top;\n",
       "    }\n",
       "\n",
       "    .dataframe thead th {\n",
       "        text-align: right;\n",
       "    }\n",
       "</style>\n",
       "<table border=\"1\" class=\"dataframe\">\n",
       "  <thead>\n",
       "    <tr style=\"text-align: right;\">\n",
       "      <th></th>\n",
       "      <th>0</th>\n",
       "      <th>1</th>\n",
       "      <th>2</th>\n",
       "      <th>3</th>\n",
       "      <th>4</th>\n",
       "      <th>5</th>\n",
       "      <th>6</th>\n",
       "      <th>7</th>\n",
       "      <th>8</th>\n",
       "      <th>9</th>\n",
       "      <th>...</th>\n",
       "      <th>1526</th>\n",
       "      <th>1527</th>\n",
       "      <th>1528</th>\n",
       "      <th>1529</th>\n",
       "      <th>1530</th>\n",
       "      <th>1531</th>\n",
       "      <th>1532</th>\n",
       "      <th>1533</th>\n",
       "      <th>1534</th>\n",
       "      <th>1535</th>\n",
       "    </tr>\n",
       "  </thead>\n",
       "  <tbody>\n",
       "    <tr>\n",
       "      <th>0</th>\n",
       "      <td>0.014789</td>\n",
       "      <td>-0.010883</td>\n",
       "      <td>-0.037749</td>\n",
       "      <td>-0.007581</td>\n",
       "      <td>0.006367</td>\n",
       "      <td>0.023629</td>\n",
       "      <td>0.005017</td>\n",
       "      <td>-0.008140</td>\n",
       "      <td>-0.020314</td>\n",
       "      <td>0.003286</td>\n",
       "      <td>...</td>\n",
       "      <td>0.002692</td>\n",
       "      <td>-0.011487</td>\n",
       "      <td>0.005162</td>\n",
       "      <td>-0.015997</td>\n",
       "      <td>-0.016832</td>\n",
       "      <td>-0.007137</td>\n",
       "      <td>0.018040</td>\n",
       "      <td>-0.021830</td>\n",
       "      <td>0.018541</td>\n",
       "      <td>-0.013138</td>\n",
       "    </tr>\n",
       "    <tr>\n",
       "      <th>1</th>\n",
       "      <td>0.016903</td>\n",
       "      <td>0.012458</td>\n",
       "      <td>0.012169</td>\n",
       "      <td>-0.010006</td>\n",
       "      <td>-0.014281</td>\n",
       "      <td>0.013520</td>\n",
       "      <td>-0.031656</td>\n",
       "      <td>-0.008517</td>\n",
       "      <td>-0.006711</td>\n",
       "      <td>-0.005488</td>\n",
       "      <td>...</td>\n",
       "      <td>0.004806</td>\n",
       "      <td>-0.005062</td>\n",
       "      <td>0.011960</td>\n",
       "      <td>-0.008845</td>\n",
       "      <td>-0.038869</td>\n",
       "      <td>-0.032863</td>\n",
       "      <td>0.015618</td>\n",
       "      <td>-0.004383</td>\n",
       "      <td>0.009566</td>\n",
       "      <td>-0.050068</td>\n",
       "    </tr>\n",
       "    <tr>\n",
       "      <th>2</th>\n",
       "      <td>0.012877</td>\n",
       "      <td>0.003183</td>\n",
       "      <td>0.008545</td>\n",
       "      <td>-0.001652</td>\n",
       "      <td>-0.015958</td>\n",
       "      <td>0.017289</td>\n",
       "      <td>-0.017595</td>\n",
       "      <td>-0.013489</td>\n",
       "      <td>-0.009450</td>\n",
       "      <td>-0.012411</td>\n",
       "      <td>...</td>\n",
       "      <td>0.009403</td>\n",
       "      <td>-0.014853</td>\n",
       "      <td>0.015093</td>\n",
       "      <td>-0.013975</td>\n",
       "      <td>-0.035110</td>\n",
       "      <td>-0.025461</td>\n",
       "      <td>0.014521</td>\n",
       "      <td>0.003266</td>\n",
       "      <td>-0.000340</td>\n",
       "      <td>-0.039130</td>\n",
       "    </tr>\n",
       "    <tr>\n",
       "      <th>3</th>\n",
       "      <td>-0.008276</td>\n",
       "      <td>0.001609</td>\n",
       "      <td>0.025049</td>\n",
       "      <td>-0.009256</td>\n",
       "      <td>-0.014511</td>\n",
       "      <td>0.017089</td>\n",
       "      <td>-0.016095</td>\n",
       "      <td>-0.022203</td>\n",
       "      <td>-0.030660</td>\n",
       "      <td>-0.030365</td>\n",
       "      <td>...</td>\n",
       "      <td>0.001323</td>\n",
       "      <td>0.003054</td>\n",
       "      <td>0.014807</td>\n",
       "      <td>-0.015746</td>\n",
       "      <td>-0.032190</td>\n",
       "      <td>-0.010471</td>\n",
       "      <td>-0.002618</td>\n",
       "      <td>-0.006940</td>\n",
       "      <td>-0.003950</td>\n",
       "      <td>-0.043386</td>\n",
       "    </tr>\n",
       "    <tr>\n",
       "      <th>4</th>\n",
       "      <td>0.013413</td>\n",
       "      <td>-0.000642</td>\n",
       "      <td>0.026282</td>\n",
       "      <td>-0.017366</td>\n",
       "      <td>-0.002777</td>\n",
       "      <td>0.016197</td>\n",
       "      <td>-0.018176</td>\n",
       "      <td>0.006843</td>\n",
       "      <td>-0.009852</td>\n",
       "      <td>-0.012204</td>\n",
       "      <td>...</td>\n",
       "      <td>0.017047</td>\n",
       "      <td>0.004710</td>\n",
       "      <td>0.008610</td>\n",
       "      <td>-0.025777</td>\n",
       "      <td>-0.030294</td>\n",
       "      <td>-0.017858</td>\n",
       "      <td>0.032447</td>\n",
       "      <td>-0.007208</td>\n",
       "      <td>-0.016037</td>\n",
       "      <td>-0.038665</td>\n",
       "    </tr>\n",
       "    <tr>\n",
       "      <th>...</th>\n",
       "      <td>...</td>\n",
       "      <td>...</td>\n",
       "      <td>...</td>\n",
       "      <td>...</td>\n",
       "      <td>...</td>\n",
       "      <td>...</td>\n",
       "      <td>...</td>\n",
       "      <td>...</td>\n",
       "      <td>...</td>\n",
       "      <td>...</td>\n",
       "      <td>...</td>\n",
       "      <td>...</td>\n",
       "      <td>...</td>\n",
       "      <td>...</td>\n",
       "      <td>...</td>\n",
       "      <td>...</td>\n",
       "      <td>...</td>\n",
       "      <td>...</td>\n",
       "      <td>...</td>\n",
       "      <td>...</td>\n",
       "      <td>...</td>\n",
       "    </tr>\n",
       "    <tr>\n",
       "      <th>2718</th>\n",
       "      <td>-0.011102</td>\n",
       "      <td>0.007972</td>\n",
       "      <td>0.017217</td>\n",
       "      <td>-0.009396</td>\n",
       "      <td>-0.017637</td>\n",
       "      <td>0.006784</td>\n",
       "      <td>-0.001374</td>\n",
       "      <td>-0.012690</td>\n",
       "      <td>-0.012834</td>\n",
       "      <td>-0.026036</td>\n",
       "      <td>...</td>\n",
       "      <td>0.017965</td>\n",
       "      <td>-0.010059</td>\n",
       "      <td>0.012867</td>\n",
       "      <td>-0.033069</td>\n",
       "      <td>-0.030943</td>\n",
       "      <td>0.008149</td>\n",
       "      <td>0.008950</td>\n",
       "      <td>-0.005922</td>\n",
       "      <td>-0.006791</td>\n",
       "      <td>-0.029841</td>\n",
       "    </tr>\n",
       "    <tr>\n",
       "      <th>2719</th>\n",
       "      <td>-0.012151</td>\n",
       "      <td>0.002775</td>\n",
       "      <td>0.023420</td>\n",
       "      <td>0.001810</td>\n",
       "      <td>-0.008421</td>\n",
       "      <td>0.025766</td>\n",
       "      <td>-0.013826</td>\n",
       "      <td>-0.032601</td>\n",
       "      <td>-0.023718</td>\n",
       "      <td>-0.010978</td>\n",
       "      <td>...</td>\n",
       "      <td>0.035368</td>\n",
       "      <td>-0.016097</td>\n",
       "      <td>0.024627</td>\n",
       "      <td>-0.042718</td>\n",
       "      <td>-0.002151</td>\n",
       "      <td>0.033632</td>\n",
       "      <td>0.003940</td>\n",
       "      <td>-0.005831</td>\n",
       "      <td>-0.006591</td>\n",
       "      <td>-0.035368</td>\n",
       "    </tr>\n",
       "    <tr>\n",
       "      <th>2720</th>\n",
       "      <td>0.010984</td>\n",
       "      <td>-0.017450</td>\n",
       "      <td>0.026957</td>\n",
       "      <td>-0.004615</td>\n",
       "      <td>-0.008260</td>\n",
       "      <td>0.027577</td>\n",
       "      <td>-0.003366</td>\n",
       "      <td>-0.029478</td>\n",
       "      <td>-0.020322</td>\n",
       "      <td>0.009750</td>\n",
       "      <td>...</td>\n",
       "      <td>0.021199</td>\n",
       "      <td>-0.013660</td>\n",
       "      <td>0.002067</td>\n",
       "      <td>-0.025055</td>\n",
       "      <td>-0.025891</td>\n",
       "      <td>0.001400</td>\n",
       "      <td>-0.001155</td>\n",
       "      <td>-0.020403</td>\n",
       "      <td>-0.016883</td>\n",
       "      <td>-0.017733</td>\n",
       "    </tr>\n",
       "    <tr>\n",
       "      <th>2721</th>\n",
       "      <td>0.007435</td>\n",
       "      <td>-0.009077</td>\n",
       "      <td>-0.009428</td>\n",
       "      <td>0.002120</td>\n",
       "      <td>-0.025064</td>\n",
       "      <td>-0.004552</td>\n",
       "      <td>-0.009012</td>\n",
       "      <td>-0.023025</td>\n",
       "      <td>-0.007493</td>\n",
       "      <td>-0.018233</td>\n",
       "      <td>...</td>\n",
       "      <td>0.006617</td>\n",
       "      <td>-0.010324</td>\n",
       "      <td>0.009376</td>\n",
       "      <td>-0.031920</td>\n",
       "      <td>-0.016947</td>\n",
       "      <td>0.023155</td>\n",
       "      <td>-0.001584</td>\n",
       "      <td>0.005912</td>\n",
       "      <td>0.006214</td>\n",
       "      <td>-0.010363</td>\n",
       "    </tr>\n",
       "    <tr>\n",
       "      <th>2722</th>\n",
       "      <td>-0.000715</td>\n",
       "      <td>-0.017246</td>\n",
       "      <td>0.007301</td>\n",
       "      <td>-0.017598</td>\n",
       "      <td>-0.017637</td>\n",
       "      <td>0.019174</td>\n",
       "      <td>-0.019773</td>\n",
       "      <td>-0.009392</td>\n",
       "      <td>0.000672</td>\n",
       "      <td>-0.013365</td>\n",
       "      <td>...</td>\n",
       "      <td>0.013072</td>\n",
       "      <td>-0.007438</td>\n",
       "      <td>0.007158</td>\n",
       "      <td>-0.023408</td>\n",
       "      <td>-0.033555</td>\n",
       "      <td>0.014589</td>\n",
       "      <td>0.007184</td>\n",
       "      <td>0.007373</td>\n",
       "      <td>-0.009997</td>\n",
       "      <td>-0.007028</td>\n",
       "    </tr>\n",
       "  </tbody>\n",
       "</table>\n",
       "<p>2723 rows × 1536 columns</p>\n",
       "</div>"
      ],
      "text/plain": [
       "             0         1         2         3         4         5         6  \\\n",
       "0     0.014789 -0.010883 -0.037749 -0.007581  0.006367  0.023629  0.005017   \n",
       "1     0.016903  0.012458  0.012169 -0.010006 -0.014281  0.013520 -0.031656   \n",
       "2     0.012877  0.003183  0.008545 -0.001652 -0.015958  0.017289 -0.017595   \n",
       "3    -0.008276  0.001609  0.025049 -0.009256 -0.014511  0.017089 -0.016095   \n",
       "4     0.013413 -0.000642  0.026282 -0.017366 -0.002777  0.016197 -0.018176   \n",
       "...        ...       ...       ...       ...       ...       ...       ...   \n",
       "2718 -0.011102  0.007972  0.017217 -0.009396 -0.017637  0.006784 -0.001374   \n",
       "2719 -0.012151  0.002775  0.023420  0.001810 -0.008421  0.025766 -0.013826   \n",
       "2720  0.010984 -0.017450  0.026957 -0.004615 -0.008260  0.027577 -0.003366   \n",
       "2721  0.007435 -0.009077 -0.009428  0.002120 -0.025064 -0.004552 -0.009012   \n",
       "2722 -0.000715 -0.017246  0.007301 -0.017598 -0.017637  0.019174 -0.019773   \n",
       "\n",
       "             7         8         9  ...      1526      1527      1528  \\\n",
       "0    -0.008140 -0.020314  0.003286  ...  0.002692 -0.011487  0.005162   \n",
       "1    -0.008517 -0.006711 -0.005488  ...  0.004806 -0.005062  0.011960   \n",
       "2    -0.013489 -0.009450 -0.012411  ...  0.009403 -0.014853  0.015093   \n",
       "3    -0.022203 -0.030660 -0.030365  ...  0.001323  0.003054  0.014807   \n",
       "4     0.006843 -0.009852 -0.012204  ...  0.017047  0.004710  0.008610   \n",
       "...        ...       ...       ...  ...       ...       ...       ...   \n",
       "2718 -0.012690 -0.012834 -0.026036  ...  0.017965 -0.010059  0.012867   \n",
       "2719 -0.032601 -0.023718 -0.010978  ...  0.035368 -0.016097  0.024627   \n",
       "2720 -0.029478 -0.020322  0.009750  ...  0.021199 -0.013660  0.002067   \n",
       "2721 -0.023025 -0.007493 -0.018233  ...  0.006617 -0.010324  0.009376   \n",
       "2722 -0.009392  0.000672 -0.013365  ...  0.013072 -0.007438  0.007158   \n",
       "\n",
       "          1529      1530      1531      1532      1533      1534      1535  \n",
       "0    -0.015997 -0.016832 -0.007137  0.018040 -0.021830  0.018541 -0.013138  \n",
       "1    -0.008845 -0.038869 -0.032863  0.015618 -0.004383  0.009566 -0.050068  \n",
       "2    -0.013975 -0.035110 -0.025461  0.014521  0.003266 -0.000340 -0.039130  \n",
       "3    -0.015746 -0.032190 -0.010471 -0.002618 -0.006940 -0.003950 -0.043386  \n",
       "4    -0.025777 -0.030294 -0.017858  0.032447 -0.007208 -0.016037 -0.038665  \n",
       "...        ...       ...       ...       ...       ...       ...       ...  \n",
       "2718 -0.033069 -0.030943  0.008149  0.008950 -0.005922 -0.006791 -0.029841  \n",
       "2719 -0.042718 -0.002151  0.033632  0.003940 -0.005831 -0.006591 -0.035368  \n",
       "2720 -0.025055 -0.025891  0.001400 -0.001155 -0.020403 -0.016883 -0.017733  \n",
       "2721 -0.031920 -0.016947  0.023155 -0.001584  0.005912  0.006214 -0.010363  \n",
       "2722 -0.023408 -0.033555  0.014589  0.007184  0.007373 -0.009997 -0.007028  \n",
       "\n",
       "[2723 rows x 1536 columns]"
      ]
     },
     "execution_count": 186,
     "metadata": {},
     "output_type": "execute_result"
    }
   ],
   "source": [
    "df"
   ]
  },
  {
   "cell_type": "code",
   "execution_count": 187,
   "id": "6d0ff333-72de-4423-83b0-a2609eddfac0",
   "metadata": {},
   "outputs": [
    {
     "data": {
      "text/plain": [
       "2723"
      ]
     },
     "execution_count": 187,
     "metadata": {},
     "output_type": "execute_result"
    }
   ],
   "source": [
    "# Check the indexing still matches\n",
    "\n",
    "len(splitdata)"
   ]
  },
  {
   "cell_type": "markdown",
   "id": "b6cd93d5-4ef8-4331-bd3d-071718bd8d81",
   "metadata": {},
   "source": [
    "# Function to return top k matches using cosine simiarlity"
   ]
  },
  {
   "cell_type": "markdown",
   "id": "cf8cc719-5a63-433d-93f8-f5d944b81189",
   "metadata": {},
   "source": [
    "Here it is of note that the query must be vectorized using the same model as the database. Each time a query is made, the raw text is vectorized. This is handled automatically by the OpenAI API. "
   ]
  },
  {
   "cell_type": "code",
   "execution_count": 198,
   "id": "e2c4474a-a833-476d-a8de-6aafe3521977",
   "metadata": {},
   "outputs": [],
   "source": [
    "def find_top_k_matches(query, vecdf, textdata, k=5):\n",
    "    \n",
    "    query_embedding = np.array(get_embedding(client, query, model=\"text-embedding-ada-002\"))\n",
    "    \n",
    "    embeddings = vecdf.to_numpy()\n",
    "    \n",
    "    similarities = cosine_similarity(query_embedding.reshape(1,-1), embeddings).flatten()\n",
    "\n",
    "    top_k_indices = similarities.argsort()[-k:][::-1]\n",
    "\n",
    "    return top_k_indices\n"
   ]
  },
  {
   "cell_type": "code",
   "execution_count": 200,
   "id": "16e05480-3a38-4e0b-818a-6c492a718e62",
   "metadata": {},
   "outputs": [],
   "source": [
    "topk = find_top_k_matches(\"What is the spirit in Hegel's hierarchy?\", df, textdata=splitdata, k=5)"
   ]
  },
  {
   "cell_type": "markdown",
   "id": "f643dd0c-69fd-426e-84bc-d3b84e51032a",
   "metadata": {},
   "source": [
    "# Example of top k matches found"
   ]
  },
  {
   "cell_type": "markdown",
   "id": "8f516ad2-29c9-4f05-bf88-3f87c8cc89f5",
   "metadata": {},
   "source": [
    "Here we see that our search is working. When we ask about the role of \"spirit\" in Hegel's philosophy, we return only chunks that discuss the topic of spirit. "
   ]
  },
  {
   "cell_type": "code",
   "execution_count": 203,
   "id": "7ab89c48-f572-4098-9070-c8121e1e4dba",
   "metadata": {},
   "outputs": [
    {
     "name": "stdout",
     "output_type": "stream",
     "text": [
      "\n",
      " 767. 1. Spirit, as conceived by Christianity, involves three stages that correspond not only to the three persons of the Trinity, but to the three parts of Hegel’s system. The pure substance, or God the Father, is thinking or logic: cf. Hegel, SL, p.29: ‘It can therefore be said that this content is the exposition of God as he is in his eternal essence before the creation of nature and of a finite spirit.’ Logic descends into the singularity of Christ or into nature, the second part of the system. This involves representation especially, not only in religion, but also in Hegel’s system, since the description of nature requires determinate empirical concepts, such as that of a plant, not only pure thoughts, such as those of Being or of substance. Christ is other than God and nature is other than pure thought. Finally, in the holy spirit and in Hegel’s account of mind or spirit, spirit returns from otherness and representation into self- consciousness. Each of these stages is a sort of circle, which, in completing itself, moves on to the next stage: cf. Enc. I,  \n",
      "\n",
      "\n",
      " 353. Spirit emerges from observing reason as a singular consciousness, in search of the happiness it expects to find, or produce, in unity with other self-consciousnesses. Unlike the preceding supposition this does not correspond to any obvious historical occurrence, but to the logical sequence of Hegel’s thoughts. This suggests a tension between the historical and logical sequences. However, Hegel also has in mind an alienated modern individual, seeking a restoration of the secure order lost in the French revolution, Kantian morality, etc.  \n",
      "\n",
      "\n",
      " 443. 1. Spirit follows the Hegelian pattern of immediate unity-division-restoration of unity on a higher level. The actual self-consciousness of absolute spirit is religion, the subject of chapter VII, while chapter VI presents the consciousness of absolute spirit: see Jarczyk and Labarrière I, pp.749f., n.12. A . THE TRUE SPIRIT , THE ETHICAL ORDER  \n",
      "\n",
      "\n",
      " 112 Addition associates mirrors with ‘reflection’ rather than speculation. Spirit: Geist. In Enc. III, Hegel explicitly distinguishes three stages of spirit: ‘subjective spirit’ (roughly, the individual mind), ‘objective spirit’ (the collective social life of a people), and ‘absolute spirit’ (art, religion, and philosophy). He does not draw this distinction explicitly in PS, and tends to call the individual mind the ‘soul’ (Seele) rather than the ‘spirit’: see  \n",
      "\n",
      "\n",
      " 442. 1. Hegel summarizes the whole development of spirit. It begins with the tightly knit ethical life of the Greek city-state. This is rent apart by its self-knowledge, leading to the abstract ‘right’ of the Roman Empire, which sets the Self in opposition to the substance. Division persists in the history of Europe down to the French revolution: there are two realms, that of culture (the hither side) and that of faith (the beyond). These realms are --- shattered by the ‘insight’ of the enlightenment, the conceptual penetration of an object that results in its dissolution. The two realms thus coalesce into morality, where the Self is all- important, culminating in conscience.  \n",
      "\n"
     ]
    }
   ],
   "source": [
    "for _ in topk:\n",
    "\n",
    "    print(\"\\n\", splitdata[_], \"\\n\")"
   ]
  },
  {
   "cell_type": "markdown",
   "id": "91801151-7419-4c78-8c29-f9c805e0c950",
   "metadata": {},
   "source": [
    "# Function to run the RAG model"
   ]
  },
  {
   "cell_type": "code",
   "execution_count": 207,
   "id": "fdfe1e0b-29a7-483a-803c-48249db19cd2",
   "metadata": {},
   "outputs": [],
   "source": [
    "def rag(client, textdata, vecdf, query, k):\n",
    "\n",
    "    ind = find_top_k_matches(query, vecdf, textdata, k)\n",
    "\n",
    "    info = \". \".join([f\"\\nInfo chunk {_+1}:\\n\\n\" + textdata[ind[_]] + \"\\n\" for _ in range(len(ind))])\n",
    "\n",
    "    combquery = f\"The question is: {query}, please make use of the following retrieved text written by Hegel when answering the question. NOTE: if you cannot find suitable information below, return 'I don't know':\\n {info}\"\n",
    "\n",
    "    print(\"What the LLM sees:\\n\")\n",
    "    print(combquery + \"\\n\\n\")\n",
    "\n",
    "    print(\"Resulting answer:\\n\") \n",
    "    return answerme(client, combquery)"
   ]
  },
  {
   "cell_type": "markdown",
   "id": "2019b72f-0b4b-47c6-a863-e5571fcceac7",
   "metadata": {},
   "source": [
    "# Comparison of RAG output vs default output"
   ]
  },
  {
   "cell_type": "code",
   "execution_count": 210,
   "id": "07dd801e-66ce-45d5-ae82-74087c36b486",
   "metadata": {},
   "outputs": [
    {
     "name": "stdout",
     "output_type": "stream",
     "text": [
      "What the LLM sees:\n",
      "\n",
      "The question is: What is spirit in Hegel's hierarchy?, please make use of the following retrieved text written by Hegel when answering the question. NOTE: if you cannot find suitable information below, return 'I don't know':\n",
      " \n",
      "Info chunk 1:\n",
      "\n",
      "767. 1. Spirit, as conceived by Christianity, involves three stages that correspond not only to the three persons of the Trinity, but to the three parts of Hegel’s system. The pure substance, or God the Father, is thinking or logic: cf. Hegel, SL, p.29: ‘It can therefore be said that this content is the exposition of God as he is in his eternal essence before the creation of nature and of a finite spirit.’ Logic descends into the singularity of Christ or into nature, the second part of the system. This involves representation especially, not only in religion, but also in Hegel’s system, since the description of nature requires determinate empirical concepts, such as that of a plant, not only pure thoughts, such as those of Being or of substance. Christ is other than God and nature is other than pure thought. Finally, in the holy spirit and in Hegel’s account of mind or spirit, spirit returns from otherness and representation into self- consciousness. Each of these stages is a sort of circle, which, in completing itself, moves on to the next stage: cf. Enc. I, \n",
      ". \n",
      "Info chunk 2:\n",
      "\n",
      "353. Spirit emerges from observing reason as a singular consciousness, in search of the happiness it expects to find, or produce, in unity with other self-consciousnesses. Unlike the preceding supposition this does not correspond to any obvious historical occurrence, but to the logical sequence of Hegel’s thoughts. This suggests a tension between the historical and logical sequences. However, Hegel also has in mind an alienated modern individual, seeking a restoration of the secure order lost in the French revolution, Kantian morality, etc. \n",
      ". \n",
      "Info chunk 3:\n",
      "\n",
      "112 Addition associates mirrors with ‘reflection’ rather than speculation. Spirit: Geist. In Enc. III, Hegel explicitly distinguishes three stages of spirit: ‘subjective spirit’ (roughly, the individual mind), ‘objective spirit’ (the collective social life of a people), and ‘absolute spirit’ (art, religion, and philosophy). He does not draw this distinction explicitly in PS, and tends to call the individual mind the ‘soul’ (Seele) rather than the ‘spirit’: see \n",
      ". \n",
      "Info chunk 4:\n",
      "\n",
      "443. 1. Spirit follows the Hegelian pattern of immediate unity-division-restoration of unity on a higher level. The actual self-consciousness of absolute spirit is religion, the subject of chapter VII, while chapter VI presents the consciousness of absolute spirit: see Jarczyk and Labarrière I, pp.749f., n.12. A . THE TRUE SPIRIT , THE ETHICAL ORDER \n",
      ". \n",
      "Info chunk 5:\n",
      "\n",
      "438. 1. In PS, spirit is primarily the collective spirit of a people. It is the truth of reason in that it fulfils what was initially only reason’s subjective certainty of being all reality. Hegel then summarizes the stages by which this truth was reached. Observing reason (\n",
      ". \n",
      "Info chunk 6:\n",
      "\n",
      "442. 1. Hegel summarizes the whole development of spirit. It begins with the tightly knit ethical life of the Greek city-state. This is rent apart by its self-knowledge, leading to the abstract ‘right’ of the Roman Empire, which sets the Self in opposition to the substance. Division persists in the history of Europe down to the French revolution: there are two realms, that of culture (the hither side) and that of faith (the beyond). These realms are --- shattered by the ‘insight’ of the enlightenment, the conceptual penetration of an object that results in its dissolution. The two realms thus coalesce into morality, where the Self is all- important, culminating in conscience. \n",
      "\n",
      "\n",
      "\n",
      "Resulting answer:\n",
      "\n",
      "Spirit in Hegel's hierarchy is a fundamental concept that moves through various stages of development. In Hegel's system, spirit is associated with three main stages: subjective spirit (or individual mind), objective spirit (or the collective social life of a people), and absolute spirit (which includes art, religion, and philosophy). Each of these stages represents a different aspect of spirit's development, from individual consciousness to societal structures to higher forms of art, religion, and philosophical thought. Spirit in Hegel's hierarchy moves through a process of unity-division-restoration of unity on a higher level, ultimately culminating in the actual self-consciousness of absolute spirit, which is manifested in religion and the ethical order.\n"
     ]
    }
   ],
   "source": [
    "print(rag(client, textdata=splitdata, vecdf=df, query=\"What is spirit in Hegel's hierarchy?\", k=6))"
   ]
  },
  {
   "cell_type": "code",
   "execution_count": 211,
   "id": "417287dd-0bdc-4c0f-9e24-1ce3eaf3fdcb",
   "metadata": {},
   "outputs": [
    {
     "name": "stdout",
     "output_type": "stream",
     "text": [
      "Answer from the basic LLM:\n",
      "\n",
      "In Hegel's hierarchy, spirit is the highest level of development of consciousness, following nature and consciousness. Spirit represents the culmination of self-awareness and self-determination, where individuals and societies are able to recognize and fulfill their own intrinsic potential. Spirit is characterized by the ability to reflect upon and shape one's own reality, embodying rationality, freedom, and morality. It is through the development of spirit that individuals and societies can achieve true self-actualization and realize their place within the larger framework of history and reality.\n"
     ]
    }
   ],
   "source": [
    "print(\"Answer from the basic LLM:\\n\")\n",
    "\n",
    "print(answerme(client, \"What is spirit in Hegel's hierarchy?\"))"
   ]
  },
  {
   "cell_type": "code",
   "execution_count": 212,
   "id": "178ae06e-a22c-4eb8-9089-7fb43ef12d35",
   "metadata": {},
   "outputs": [
    {
     "name": "stdout",
     "output_type": "stream",
     "text": [
      "What the LLM sees:\n",
      "\n",
      "The question is: What is the the abstract universality of Being according to Hegel?, please make use of the following retrieved text written by Hegel when answering the question. NOTE: if you cannot find suitable information below, return 'I don't know':\n",
      " \n",
      "Info chunk 1:\n",
      "\n",
      "51). In Hegel’s system it corresponds to the transition from Logic to the philosophy of nature, showing how the logical ‘Idea’ necessarily burgeons into a world of space, time, matter, etc. and eventually into the human mind itself. The ‘becoming of Being-there as Being-there’ is associated with (among other things) this process, the transition from logic to nature, while the ‘becoming of the essence’ is presented in the Logic itself, the extraction of the logical essence of the world and the passage to higher and higher logical categories. The becoming of the ‘substance’, i.e. of the logical ‘essence’, passes over into ‘externality’, i.e. nature, where it is ‘for another’, i.e. known to us. The becoming of Being-there is the ‘withdrawal into essence’, perhaps in the sense that nature leads on to mind, the culminating phase of which is philosophy, i.e. logic. \n",
      ". \n",
      "Info chunk 2:\n",
      "\n",
      "774. 1. God creates the world. This is the way in which religious representation presents what is in fact a logical necessity, that pure thought or the concept should actualize itself in concrete reality or Being for another. Hegel is attempting to explain why there is anything at all rather than nothing. His argument is that God, or pure thought, could not be what it is, if it did not actualize itself, that God, abstract thought, etc. could not be, or be appropriately described as, God, abstract, etc. unless there were something concrete, etc. contrasting with them. \n",
      ". \n",
      "Info chunk 3:\n",
      "\n",
      "112. 1. Hegel uses ‘universal’ liberally: the object of perception is universal in that it has many properties. Perception does not simply supplant sensory certainty. It incorporates the sensory ‘wealth’ that sensory certainty gestured towards but could not digest. Hegel has the concept expressed by his later use of aufheben (‘abolish–preserve–elevate’), even if he does not often use the word in this way yet: but see \n",
      ". \n",
      "Info chunk 4:\n",
      "\n",
      "50): when we infer the existence of God from the ‘finite’ world, we alter our conception of the world (or ‘Being-there’). The world is no longer conceived as, say, an aggregate of contingent entities or as merely orderly. It is a world governed by universal laws and is an organic purposive whole. To infer the existence of God is not, in Hegel’s view, to infer the existence of an entity distinct from the world. It is to ascend from ‘Being’ to ‘thought’ and thus to elevate the world to thought. By contrast, the ‘ontological proof ’ proceeds in the reverse direction, from thought to Being (Enc. I, \n",
      ". \n",
      "Info chunk 5:\n",
      "\n",
      "88). These look much like propositions, though not propositions of the same type as ‘God/the --- absolute is Being’, let alone ‘The cat is black’. Nevertheless, Hegel’s idea is that the essential elements in this progression are the ‘thought-determinations’, Being, nothing, becoming, etc.—or, in PS, the ‘shapes of consciousness’. The other words in the sentences in which they figure are simply the explanatory framework, explaining in particular why each thought- determination moves on into the next. ‘The true is the subject’, not in the sense of ‘subject’ in which it is correlative with a predicate, but in the sense of the subject of activity, as in \n",
      ". \n",
      "Info chunk 6:\n",
      "\n",
      "176ff.: at first, the I is confronted by an alien world, the objects of its ‘consciousness’, but when it meets another self-consciousness it sees a duplicate of itself. The development of the absolute follows the same pattern: the original unity (the subject) splits in two (the subject and concrete reality), and then finds itself again in the world confronting it (human beings). The ‘true’ is not just the first stage of this process; it is the whole process in which God (the beginning) creates a world other than himself and then finds himself (the end) in the world. However, Hegel need not claim that the active subject is also a knowing, purposive subject. Even if the subject is blind energy, it still generates a diversified world different from itself, which eventually provides a sort of duplicate of blind energy—in the form, say, of human beings who experiment with it, write about it, etc.—though we shall be less inclined to say that this ‘equality’ is the ‘goal’ of blind energy. It remains the case that the true is the whole process, not just the energy that initiates it. \n",
      "\n",
      "\n",
      "\n",
      "Resulting answer:\n",
      "\n",
      "The abstract universality of Being according to Hegel is the transition from the logical 'Idea' into a world of space, time, matter, and eventually into the human mind. This transition is associated with the becoming of Being-there as Being-there, representing the development from logic to nature. Hegel argues that God, or pure thought, actualizes itself in concrete reality or Being for another as a logical necessity, explaining why there is something rather than nothing. This abstract thought could not be appropriately described as God unless there were something concrete contrasting with it. When we infer the existence of God from the finite world, we elevate the world to thought, recognizing it as an organic purposive whole governed by universal laws. The essential elements in this progression are thought-determinations like Being, nothing, becoming, etc., leading to the realization that the true is the whole process in which God creates a world other than himself and then finds himself in it.\n"
     ]
    }
   ],
   "source": [
    "print(rag(client, textdata=splitdata, vecdf=df, query=\"What is the the abstract universality of Being according to Hegel?\", k=6))"
   ]
  },
  {
   "cell_type": "code",
   "execution_count": 213,
   "id": "fad06c90-537d-4632-a29e-2401f5cfe14d",
   "metadata": {},
   "outputs": [
    {
     "name": "stdout",
     "output_type": "stream",
     "text": [
      "Answer from the basic LLM:\n",
      "\n",
      "The abstract universality of Being according to Hegel refers to the idea that all things in existence share a common essence or nature. In Hegel's philosophy, Being is the most basic category of existence, representing pure existence without any specific properties or characteristics. This abstract universality of Being implies that everything in the universe ultimately derives from this common source and is interconnected in a larger system of relationships. Hegel believed that by understanding this universal essence of Being, one could gain insights into the nature of reality and the interconnectedness of all things.\n"
     ]
    }
   ],
   "source": [
    "print(\"Answer from the basic LLM:\\n\")\n",
    "\n",
    "print(answerme(client, \"What is the the abstract universality of Being according to Hegel?\"))"
   ]
  },
  {
   "cell_type": "markdown",
   "id": "45bfa0e3-0fd6-490d-95e6-47526feda4bd",
   "metadata": {},
   "source": [
    "## Asking a question that is not discussed the source text (i.e. no information in database)"
   ]
  },
  {
   "cell_type": "markdown",
   "id": "9b49d2b0-4d54-46dd-b4ce-a5feadd217ac",
   "metadata": {},
   "source": [
    "Here we demostrate a huge advantage of using the RAG approach over the basic LLM. Hegel does not explicitly discuss feminism in the The Phenomenology of Spirit. Given the text was first published in 1807, this is unsurprising. While the baseline LLM will do its best to formulate an answer, the RAG model can be instructed to not provide answers unless the info chunks provided by the RAG explicitly mention the topic. "
   ]
  },
  {
   "cell_type": "code",
   "execution_count": 216,
   "id": "39bde555-9647-4940-b1a5-a7b587702c44",
   "metadata": {},
   "outputs": [
    {
     "name": "stdout",
     "output_type": "stream",
     "text": [
      "What the LLM sees:\n",
      "\n",
      "The question is: What did Hegel say about feminimism?, please make use of the following retrieved text written by Hegel when answering the question. NOTE: if you cannot find suitable information below, return 'I don't know':\n",
      " \n",
      "Info chunk 1:\n",
      "\n",
      ", Hegel uses the neuter gender (das), but the ‘shaped unchangeable’ is masculine, both here and in \n",
      ". \n",
      "Info chunk 2:\n",
      "\n",
      "76. Hegel’s primary response to this problem is to take on board both assertions, albeit in a modified form. This is how he treats seemingly competing philoso- phies: cf. \n",
      ". \n",
      "Info chunk 3:\n",
      "\n",
      "245, 360; Hegel (1895) II, pp. 148–65; and PS \n",
      ". \n",
      "Info chunk 4:\n",
      "\n",
      ": ‘Note Hegel’s incorporation of Evil into the Absolute’. Whatever else Hegel may have believed about the absolute, he did not believe that it was purely good to the exclusion of evil. Evil, and falsity, must be taken on board. \n",
      ". \n",
      "Info chunk 5:\n",
      "\n",
      "459. 1. Hegel refers back to \n",
      ". \n",
      "Info chunk 6:\n",
      "\n",
      "213–44 for Hegel’s later use of the word. \n",
      "\n",
      "\n",
      "\n",
      "Resulting answer:\n",
      "\n",
      "I don't know.\n"
     ]
    }
   ],
   "source": [
    "print(rag(client, textdata=splitdata, vecdf=df, query=\"What did Hegel say about feminimism?\", k=6))"
   ]
  },
  {
   "cell_type": "code",
   "execution_count": 217,
   "id": "2d93a008-351b-4a74-a24f-d83db4ed4d83",
   "metadata": {},
   "outputs": [
    {
     "name": "stdout",
     "output_type": "stream",
     "text": [
      "Answer from the basic LLM:\n",
      "\n",
      "Hegel did not explicitly discuss feminism in his works, as the term was not widely used during his time. However, his views on women can be inferred from his broader philosophical views on gender and the family.\n",
      "\n",
      "Hegel believed in the concept of the family as a fundamental unit of society, with distinct roles for men and women within that structure. He viewed women as playing a more emotional and nurturing role in the family, while men played a more intellectual and active role in the public sphere.\n",
      "\n",
      "Some modern feminists criticize Hegel for his views on gender roles, arguing that they are outdated and reinforce traditional stereotypes of women as inferior to men. However, others argue that Hegel's philosophy can be interpreted in a more progressive light, emphasizing the importance of mutual respect and recognition between men and women in all spheres of society.\n"
     ]
    }
   ],
   "source": [
    "print(\"Answer from the basic LLM:\\n\")\n",
    "\n",
    "print(answerme(client, \"What did Hegel say about feminimism?\"))"
   ]
  },
  {
   "cell_type": "markdown",
   "id": "959e29b1-1daa-4359-84ef-3474026bde4f",
   "metadata": {},
   "source": [
    "# APPROACH 2\n",
    "\n",
    "### This time we chunk the source text into sentences rather than aphorisms. This means we need many more vector representations of chunk as the number of chunks is far higher."
   ]
  },
  {
   "cell_type": "code",
   "execution_count": 219,
   "id": "be5bd0b9-9dfe-410a-8568-d3e5973fdda0",
   "metadata": {},
   "outputs": [],
   "source": [
    "pattern = \"¶\"\n",
    "\n",
    "cleandata2 = re.sub(pattern, \" \", cleandata)"
   ]
  },
  {
   "cell_type": "markdown",
   "id": "f0cd3eaa-5373-469d-b143-3bf31028737f",
   "metadata": {},
   "source": [
    "### Sentence splitting function taken from: https://stackoverflow.com/questions/4576077/how-can-i-split-a-text-into-sentences"
   ]
  },
  {
   "cell_type": "code",
   "execution_count": 221,
   "id": "13b81bb4-3649-480c-88b1-07f922729494",
   "metadata": {},
   "outputs": [],
   "source": [
    "\n",
    "alphabets= \"([A-Za-z])\"\n",
    "prefixes = \"(Mr|St|Mrs|Ms|Dr)[.]\"\n",
    "suffixes = \"(Inc|Ltd|Jr|Sr|Co)\"\n",
    "starters = \"(Mr|Mrs|Ms|Dr|Prof|Capt|Cpt|Lt|He\\s|She\\s|It\\s|They\\s|Their\\s|Our\\s|We\\s|But\\s|However\\s|That\\s|This\\s|Wherever)\"\n",
    "acronyms = \"([A-Z][.][A-Z][.](?:[A-Z][.])?)\"\n",
    "websites = \"[.](com|net|org|io|gov|edu|me)\"\n",
    "digits = \"([0-9])\"\n",
    "multiple_dots = r'\\.{2,}'\n",
    "\n",
    "def split_into_sentences(text: str) -> list[str]:\n",
    "    \"\"\"\n",
    "    Split the text into sentences.\n",
    "\n",
    "    If the text contains substrings \"<prd>\" or \"<stop>\", they would lead \n",
    "    to incorrect splitting because they are used as markers for splitting.\n",
    "\n",
    "    :param text: text to be split into sentences\n",
    "    :type text: str\n",
    "\n",
    "    :return: list of sentences\n",
    "    :rtype: list[str]\n",
    "    \"\"\"\n",
    "    text = \" \" + text + \"  \"\n",
    "    text = text.replace(\"\\n\",\" \")\n",
    "    text = re.sub(prefixes,\"\\\\1<prd>\",text)\n",
    "    text = re.sub(websites,\"<prd>\\\\1\",text)\n",
    "    text = re.sub(digits + \"[.]\" + digits,\"\\\\1<prd>\\\\2\",text)\n",
    "    text = re.sub(multiple_dots, lambda match: \"<prd>\" * len(match.group(0)) + \"<stop>\", text)\n",
    "    if \"Ph.D\" in text: text = text.replace(\"Ph.D.\",\"Ph<prd>D<prd>\")\n",
    "    text = re.sub(\"\\s\" + alphabets + \"[.] \",\" \\\\1<prd> \",text)\n",
    "    text = re.sub(acronyms+\" \"+starters,\"\\\\1<stop> \\\\2\",text)\n",
    "    text = re.sub(alphabets + \"[.]\" + alphabets + \"[.]\" + alphabets + \"[.]\",\"\\\\1<prd>\\\\2<prd>\\\\3<prd>\",text)\n",
    "    text = re.sub(alphabets + \"[.]\" + alphabets + \"[.]\",\"\\\\1<prd>\\\\2<prd>\",text)\n",
    "    text = re.sub(\" \"+suffixes+\"[.] \"+starters,\" \\\\1<stop> \\\\2\",text)\n",
    "    text = re.sub(\" \"+suffixes+\"[.]\",\" \\\\1<prd>\",text)\n",
    "    text = re.sub(\" \" + alphabets + \"[.]\",\" \\\\1<prd>\",text)\n",
    "    if \"”\" in text: text = text.replace(\".”\",\"”.\")\n",
    "    if \"\\\"\" in text: text = text.replace(\".\\\"\",\"\\\".\")\n",
    "    if \"!\" in text: text = text.replace(\"!\\\"\",\"\\\"!\")\n",
    "    if \"?\" in text: text = text.replace(\"?\\\"\",\"\\\"?\")\n",
    "    text = text.replace(\".\",\".<stop>\")\n",
    "    text = text.replace(\"?\",\"?<stop>\")\n",
    "    text = text.replace(\"!\",\"!<stop>\")\n",
    "    text = text.replace(\"<prd>\",\".\")\n",
    "    sentences = text.split(\"<stop>\")\n",
    "    sentences = [s.strip() for s in sentences]\n",
    "    if sentences and not sentences[-1]: sentences = sentences[:-1]\n",
    "    return sentences"
   ]
  },
  {
   "cell_type": "markdown",
   "id": "5c18097a-44db-4fa8-87d8-c4b41494d0dd",
   "metadata": {},
   "source": [
    "# Creating chunks using sentence boundaries"
   ]
  },
  {
   "cell_type": "code",
   "execution_count": 224,
   "id": "a8d30cda-c4fb-42b4-99b6-a7cf1269b1f7",
   "metadata": {},
   "outputs": [],
   "source": [
    "cleandata2 = split_into_sentences(cleandata2)"
   ]
  },
  {
   "cell_type": "code",
   "execution_count": 225,
   "id": "addb784c-a59f-4c45-a7b5-fe81bb59efae",
   "metadata": {},
   "outputs": [],
   "source": [
    "splitdata2 = [_ for _ in cleandata2 if len(_) > 20]"
   ]
  },
  {
   "cell_type": "code",
   "execution_count": 226,
   "id": "939ce09b-ad48-4eca-8ddb-5adf8464ec0b",
   "metadata": {},
   "outputs": [
    {
     "data": {
      "text/plain": [
       "'In the case of a philosophical work, however, such an explanation seems not only superfluous but, in view of the nature of the Thing,1 even inappropriate and misleading.'"
      ]
     },
     "execution_count": 226,
     "metadata": {},
     "output_type": "execute_result"
    }
   ],
   "source": [
    "# Example of sentence chunk\n",
    "\n",
    "splitdata2[1]"
   ]
  },
  {
   "cell_type": "code",
   "execution_count": 251,
   "id": "0c229e9a-a8b6-4912-92aa-0c2ee0f6825d",
   "metadata": {},
   "outputs": [
    {
     "data": {
      "text/plain": [
       "11833"
      ]
     },
     "execution_count": 251,
     "metadata": {},
     "output_type": "execute_result"
    }
   ],
   "source": [
    "len(splitdata2)"
   ]
  },
  {
   "cell_type": "markdown",
   "id": "b11af7f8-6ccf-4b8d-93c6-4dbc634ae250",
   "metadata": {},
   "source": [
    "# Vectorizing the text"
   ]
  },
  {
   "cell_type": "code",
   "execution_count": 255,
   "id": "1b11ae3d-c433-4462-9447-21a03d39d253",
   "metadata": {},
   "outputs": [],
   "source": [
    "#This only needs to be run once to obtain the vectors. Run time for this one is considerable (>1 hr)\n",
    "\n",
    "#vectors2 = []\n",
    "\n",
    "#for _ in range(0, len(splitdata2)):\n",
    "\n",
    "    #try:\n",
    "        #vectors2.append(get_embedding(client, splitdata2[_]))\n",
    "    #except:\n",
    "        #vectors2.append(np.zeros(1536))"
   ]
  },
  {
   "cell_type": "code",
   "execution_count": 256,
   "id": "7de7d124-a35f-4a4d-833f-455f69596d4e",
   "metadata": {},
   "outputs": [],
   "source": [
    "#df2 = pd.DataFrame(vectors2)"
   ]
  },
  {
   "cell_type": "code",
   "execution_count": 257,
   "id": "fbab41d9-32b7-4831-931a-1ecd791b04a2",
   "metadata": {},
   "outputs": [],
   "source": [
    "#df2.to_csv(\"vectors2.csv\")"
   ]
  },
  {
   "cell_type": "markdown",
   "id": "efde08b4-0718-42de-b0d9-ead3cfb279f6",
   "metadata": {},
   "source": [
    "# Importing existing vector frame"
   ]
  },
  {
   "cell_type": "code",
   "execution_count": 263,
   "id": "a8c81f01-e51d-423b-ae24-19ff645becff",
   "metadata": {},
   "outputs": [],
   "source": [
    "df2 = pd.read_csv(\"vectors2.csv\", index_col=0)"
   ]
  },
  {
   "cell_type": "code",
   "execution_count": 264,
   "id": "5af8d5cd-1157-4a07-b6ee-99907df7853b",
   "metadata": {},
   "outputs": [
    {
     "data": {
      "text/html": [
       "<div>\n",
       "<style scoped>\n",
       "    .dataframe tbody tr th:only-of-type {\n",
       "        vertical-align: middle;\n",
       "    }\n",
       "\n",
       "    .dataframe tbody tr th {\n",
       "        vertical-align: top;\n",
       "    }\n",
       "\n",
       "    .dataframe thead th {\n",
       "        text-align: right;\n",
       "    }\n",
       "</style>\n",
       "<table border=\"1\" class=\"dataframe\">\n",
       "  <thead>\n",
       "    <tr style=\"text-align: right;\">\n",
       "      <th></th>\n",
       "      <th>0</th>\n",
       "      <th>1</th>\n",
       "      <th>2</th>\n",
       "      <th>3</th>\n",
       "      <th>4</th>\n",
       "      <th>5</th>\n",
       "      <th>6</th>\n",
       "      <th>7</th>\n",
       "      <th>8</th>\n",
       "      <th>9</th>\n",
       "      <th>...</th>\n",
       "      <th>1526</th>\n",
       "      <th>1527</th>\n",
       "      <th>1528</th>\n",
       "      <th>1529</th>\n",
       "      <th>1530</th>\n",
       "      <th>1531</th>\n",
       "      <th>1532</th>\n",
       "      <th>1533</th>\n",
       "      <th>1534</th>\n",
       "      <th>1535</th>\n",
       "    </tr>\n",
       "  </thead>\n",
       "  <tbody>\n",
       "    <tr>\n",
       "      <th>0</th>\n",
       "      <td>0.018040</td>\n",
       "      <td>-0.009153</td>\n",
       "      <td>-0.009210</td>\n",
       "      <td>-0.003637</td>\n",
       "      <td>-0.013296</td>\n",
       "      <td>0.012897</td>\n",
       "      <td>-0.020545</td>\n",
       "      <td>0.010336</td>\n",
       "      <td>-0.002603</td>\n",
       "      <td>0.015484</td>\n",
       "      <td>...</td>\n",
       "      <td>0.015522</td>\n",
       "      <td>-0.016711</td>\n",
       "      <td>0.010260</td>\n",
       "      <td>-0.004624</td>\n",
       "      <td>-0.029071</td>\n",
       "      <td>-0.027401</td>\n",
       "      <td>0.018824</td>\n",
       "      <td>-0.006341</td>\n",
       "      <td>0.017888</td>\n",
       "      <td>-0.025605</td>\n",
       "    </tr>\n",
       "    <tr>\n",
       "      <th>1</th>\n",
       "      <td>0.011153</td>\n",
       "      <td>-0.003395</td>\n",
       "      <td>-0.000075</td>\n",
       "      <td>-0.017732</td>\n",
       "      <td>-0.024523</td>\n",
       "      <td>-0.001448</td>\n",
       "      <td>-0.048917</td>\n",
       "      <td>-0.016579</td>\n",
       "      <td>-0.014529</td>\n",
       "      <td>-0.018591</td>\n",
       "      <td>...</td>\n",
       "      <td>0.002793</td>\n",
       "      <td>-0.010404</td>\n",
       "      <td>0.028136</td>\n",
       "      <td>-0.018373</td>\n",
       "      <td>-0.028725</td>\n",
       "      <td>-0.024074</td>\n",
       "      <td>0.014196</td>\n",
       "      <td>0.003732</td>\n",
       "      <td>0.004949</td>\n",
       "      <td>-0.034132</td>\n",
       "    </tr>\n",
       "    <tr>\n",
       "      <th>2</th>\n",
       "      <td>0.000723</td>\n",
       "      <td>0.018356</td>\n",
       "      <td>-0.002905</td>\n",
       "      <td>-0.015889</td>\n",
       "      <td>-0.012609</td>\n",
       "      <td>0.006137</td>\n",
       "      <td>-0.027160</td>\n",
       "      <td>-0.001853</td>\n",
       "      <td>0.004087</td>\n",
       "      <td>0.013973</td>\n",
       "      <td>...</td>\n",
       "      <td>-0.001609</td>\n",
       "      <td>-0.008837</td>\n",
       "      <td>0.028655</td>\n",
       "      <td>-0.014105</td>\n",
       "      <td>-0.036082</td>\n",
       "      <td>-0.046709</td>\n",
       "      <td>0.010857</td>\n",
       "      <td>-0.005032</td>\n",
       "      <td>0.016388</td>\n",
       "      <td>-0.043062</td>\n",
       "    </tr>\n",
       "    <tr>\n",
       "      <th>3</th>\n",
       "      <td>0.000954</td>\n",
       "      <td>0.006750</td>\n",
       "      <td>0.012694</td>\n",
       "      <td>-0.032007</td>\n",
       "      <td>-0.024352</td>\n",
       "      <td>0.012543</td>\n",
       "      <td>-0.035441</td>\n",
       "      <td>-0.019332</td>\n",
       "      <td>-0.015138</td>\n",
       "      <td>-0.016514</td>\n",
       "      <td>...</td>\n",
       "      <td>0.010780</td>\n",
       "      <td>-0.016960</td>\n",
       "      <td>0.019110</td>\n",
       "      <td>-0.014640</td>\n",
       "      <td>-0.038167</td>\n",
       "      <td>-0.011095</td>\n",
       "      <td>0.014090</td>\n",
       "      <td>-0.010263</td>\n",
       "      <td>-0.005715</td>\n",
       "      <td>-0.050592</td>\n",
       "    </tr>\n",
       "    <tr>\n",
       "      <th>4</th>\n",
       "      <td>-0.001529</td>\n",
       "      <td>0.027288</td>\n",
       "      <td>0.037298</td>\n",
       "      <td>-0.008323</td>\n",
       "      <td>-0.009614</td>\n",
       "      <td>0.007757</td>\n",
       "      <td>-0.032846</td>\n",
       "      <td>-0.005535</td>\n",
       "      <td>-0.002529</td>\n",
       "      <td>-0.012847</td>\n",
       "      <td>...</td>\n",
       "      <td>0.008541</td>\n",
       "      <td>0.006414</td>\n",
       "      <td>0.031924</td>\n",
       "      <td>-0.020703</td>\n",
       "      <td>-0.020032</td>\n",
       "      <td>-0.035612</td>\n",
       "      <td>0.013539</td>\n",
       "      <td>-0.003222</td>\n",
       "      <td>-0.008462</td>\n",
       "      <td>-0.030502</td>\n",
       "    </tr>\n",
       "    <tr>\n",
       "      <th>...</th>\n",
       "      <td>...</td>\n",
       "      <td>...</td>\n",
       "      <td>...</td>\n",
       "      <td>...</td>\n",
       "      <td>...</td>\n",
       "      <td>...</td>\n",
       "      <td>...</td>\n",
       "      <td>...</td>\n",
       "      <td>...</td>\n",
       "      <td>...</td>\n",
       "      <td>...</td>\n",
       "      <td>...</td>\n",
       "      <td>...</td>\n",
       "      <td>...</td>\n",
       "      <td>...</td>\n",
       "      <td>...</td>\n",
       "      <td>...</td>\n",
       "      <td>...</td>\n",
       "      <td>...</td>\n",
       "      <td>...</td>\n",
       "      <td>...</td>\n",
       "    </tr>\n",
       "    <tr>\n",
       "      <th>11828</th>\n",
       "      <td>0.008419</td>\n",
       "      <td>-0.009955</td>\n",
       "      <td>0.024746</td>\n",
       "      <td>-0.028968</td>\n",
       "      <td>-0.012700</td>\n",
       "      <td>0.014118</td>\n",
       "      <td>-0.011399</td>\n",
       "      <td>-0.013314</td>\n",
       "      <td>-0.011510</td>\n",
       "      <td>-0.004843</td>\n",
       "      <td>...</td>\n",
       "      <td>0.029491</td>\n",
       "      <td>-0.025033</td>\n",
       "      <td>0.000802</td>\n",
       "      <td>-0.015621</td>\n",
       "      <td>-0.016458</td>\n",
       "      <td>0.012281</td>\n",
       "      <td>0.021648</td>\n",
       "      <td>-0.016327</td>\n",
       "      <td>-0.010347</td>\n",
       "      <td>-0.010412</td>\n",
       "    </tr>\n",
       "    <tr>\n",
       "      <th>11829</th>\n",
       "      <td>-0.006728</td>\n",
       "      <td>-0.001566</td>\n",
       "      <td>0.025972</td>\n",
       "      <td>-0.023427</td>\n",
       "      <td>-0.023012</td>\n",
       "      <td>-0.009872</td>\n",
       "      <td>0.003211</td>\n",
       "      <td>-0.011955</td>\n",
       "      <td>-0.008365</td>\n",
       "      <td>-0.026964</td>\n",
       "      <td>...</td>\n",
       "      <td>0.002866</td>\n",
       "      <td>0.012156</td>\n",
       "      <td>-0.001374</td>\n",
       "      <td>-0.019422</td>\n",
       "      <td>-0.013770</td>\n",
       "      <td>-0.023454</td>\n",
       "      <td>0.011727</td>\n",
       "      <td>0.013201</td>\n",
       "      <td>-0.003764</td>\n",
       "      <td>-0.021713</td>\n",
       "    </tr>\n",
       "    <tr>\n",
       "      <th>11830</th>\n",
       "      <td>0.022691</td>\n",
       "      <td>-0.026305</td>\n",
       "      <td>-0.015821</td>\n",
       "      <td>0.008549</td>\n",
       "      <td>-0.019767</td>\n",
       "      <td>0.006286</td>\n",
       "      <td>-0.025679</td>\n",
       "      <td>-0.018733</td>\n",
       "      <td>0.002104</td>\n",
       "      <td>-0.027990</td>\n",
       "      <td>...</td>\n",
       "      <td>0.020469</td>\n",
       "      <td>-0.018464</td>\n",
       "      <td>0.000081</td>\n",
       "      <td>-0.021950</td>\n",
       "      <td>-0.031847</td>\n",
       "      <td>0.040990</td>\n",
       "      <td>0.000468</td>\n",
       "      <td>0.001482</td>\n",
       "      <td>-0.020763</td>\n",
       "      <td>-0.016817</td>\n",
       "    </tr>\n",
       "    <tr>\n",
       "      <th>11831</th>\n",
       "      <td>-0.004274</td>\n",
       "      <td>-0.016105</td>\n",
       "      <td>0.015706</td>\n",
       "      <td>-0.021507</td>\n",
       "      <td>-0.018613</td>\n",
       "      <td>0.006576</td>\n",
       "      <td>-0.009332</td>\n",
       "      <td>-0.006377</td>\n",
       "      <td>0.003701</td>\n",
       "      <td>-0.016619</td>\n",
       "      <td>...</td>\n",
       "      <td>0.009397</td>\n",
       "      <td>0.000847</td>\n",
       "      <td>0.001629</td>\n",
       "      <td>-0.022048</td>\n",
       "      <td>-0.023694</td>\n",
       "      <td>0.017288</td>\n",
       "      <td>0.001234</td>\n",
       "      <td>0.004509</td>\n",
       "      <td>-0.016439</td>\n",
       "      <td>0.008715</td>\n",
       "    </tr>\n",
       "    <tr>\n",
       "      <th>11832</th>\n",
       "      <td>-0.002260</td>\n",
       "      <td>0.005876</td>\n",
       "      <td>-0.001449</td>\n",
       "      <td>-0.020532</td>\n",
       "      <td>-0.006708</td>\n",
       "      <td>0.034355</td>\n",
       "      <td>-0.028039</td>\n",
       "      <td>-0.001324</td>\n",
       "      <td>-0.000044</td>\n",
       "      <td>-0.021658</td>\n",
       "      <td>...</td>\n",
       "      <td>0.013771</td>\n",
       "      <td>-0.024777</td>\n",
       "      <td>0.016208</td>\n",
       "      <td>-0.024384</td>\n",
       "      <td>-0.020781</td>\n",
       "      <td>0.004000</td>\n",
       "      <td>0.005582</td>\n",
       "      <td>-0.013653</td>\n",
       "      <td>0.004596</td>\n",
       "      <td>-0.018501</td>\n",
       "    </tr>\n",
       "  </tbody>\n",
       "</table>\n",
       "<p>11833 rows × 1536 columns</p>\n",
       "</div>"
      ],
      "text/plain": [
       "              0         1         2         3         4         5         6  \\\n",
       "0      0.018040 -0.009153 -0.009210 -0.003637 -0.013296  0.012897 -0.020545   \n",
       "1      0.011153 -0.003395 -0.000075 -0.017732 -0.024523 -0.001448 -0.048917   \n",
       "2      0.000723  0.018356 -0.002905 -0.015889 -0.012609  0.006137 -0.027160   \n",
       "3      0.000954  0.006750  0.012694 -0.032007 -0.024352  0.012543 -0.035441   \n",
       "4     -0.001529  0.027288  0.037298 -0.008323 -0.009614  0.007757 -0.032846   \n",
       "...         ...       ...       ...       ...       ...       ...       ...   \n",
       "11828  0.008419 -0.009955  0.024746 -0.028968 -0.012700  0.014118 -0.011399   \n",
       "11829 -0.006728 -0.001566  0.025972 -0.023427 -0.023012 -0.009872  0.003211   \n",
       "11830  0.022691 -0.026305 -0.015821  0.008549 -0.019767  0.006286 -0.025679   \n",
       "11831 -0.004274 -0.016105  0.015706 -0.021507 -0.018613  0.006576 -0.009332   \n",
       "11832 -0.002260  0.005876 -0.001449 -0.020532 -0.006708  0.034355 -0.028039   \n",
       "\n",
       "              7         8         9  ...      1526      1527      1528  \\\n",
       "0      0.010336 -0.002603  0.015484  ...  0.015522 -0.016711  0.010260   \n",
       "1     -0.016579 -0.014529 -0.018591  ...  0.002793 -0.010404  0.028136   \n",
       "2     -0.001853  0.004087  0.013973  ... -0.001609 -0.008837  0.028655   \n",
       "3     -0.019332 -0.015138 -0.016514  ...  0.010780 -0.016960  0.019110   \n",
       "4     -0.005535 -0.002529 -0.012847  ...  0.008541  0.006414  0.031924   \n",
       "...         ...       ...       ...  ...       ...       ...       ...   \n",
       "11828 -0.013314 -0.011510 -0.004843  ...  0.029491 -0.025033  0.000802   \n",
       "11829 -0.011955 -0.008365 -0.026964  ...  0.002866  0.012156 -0.001374   \n",
       "11830 -0.018733  0.002104 -0.027990  ...  0.020469 -0.018464  0.000081   \n",
       "11831 -0.006377  0.003701 -0.016619  ...  0.009397  0.000847  0.001629   \n",
       "11832 -0.001324 -0.000044 -0.021658  ...  0.013771 -0.024777  0.016208   \n",
       "\n",
       "           1529      1530      1531      1532      1533      1534      1535  \n",
       "0     -0.004624 -0.029071 -0.027401  0.018824 -0.006341  0.017888 -0.025605  \n",
       "1     -0.018373 -0.028725 -0.024074  0.014196  0.003732  0.004949 -0.034132  \n",
       "2     -0.014105 -0.036082 -0.046709  0.010857 -0.005032  0.016388 -0.043062  \n",
       "3     -0.014640 -0.038167 -0.011095  0.014090 -0.010263 -0.005715 -0.050592  \n",
       "4     -0.020703 -0.020032 -0.035612  0.013539 -0.003222 -0.008462 -0.030502  \n",
       "...         ...       ...       ...       ...       ...       ...       ...  \n",
       "11828 -0.015621 -0.016458  0.012281  0.021648 -0.016327 -0.010347 -0.010412  \n",
       "11829 -0.019422 -0.013770 -0.023454  0.011727  0.013201 -0.003764 -0.021713  \n",
       "11830 -0.021950 -0.031847  0.040990  0.000468  0.001482 -0.020763 -0.016817  \n",
       "11831 -0.022048 -0.023694  0.017288  0.001234  0.004509 -0.016439  0.008715  \n",
       "11832 -0.024384 -0.020781  0.004000  0.005582 -0.013653  0.004596 -0.018501  \n",
       "\n",
       "[11833 rows x 1536 columns]"
      ]
     },
     "execution_count": 264,
     "metadata": {},
     "output_type": "execute_result"
    }
   ],
   "source": [
    "df2"
   ]
  },
  {
   "cell_type": "code",
   "execution_count": 267,
   "id": "7dfd9919-6a9f-4d60-a307-5b3129639bfe",
   "metadata": {},
   "outputs": [
    {
     "data": {
      "text/plain": [
       "11833"
      ]
     },
     "execution_count": 267,
     "metadata": {},
     "output_type": "execute_result"
    }
   ],
   "source": [
    "# Check the indexing still matches up\n",
    "\n",
    "len(splitdata2)"
   ]
  },
  {
   "cell_type": "markdown",
   "id": "139cc57f-b8f7-4be6-9385-bc3956a714dd",
   "metadata": {},
   "source": [
    "# Comparison of RAG output vs default output"
   ]
  },
  {
   "cell_type": "code",
   "execution_count": 270,
   "id": "7a0385ec-b588-47f0-a9ad-084d5391b1eb",
   "metadata": {},
   "outputs": [
    {
     "name": "stdout",
     "output_type": "stream",
     "text": [
      "What the LLM sees:\n",
      "\n",
      "The question is: What is spirit in Hegel's hierarchy?, please make use of the following retrieved text written by Hegel when answering the question. NOTE: if you cannot find suitable information below, return 'I don't know':\n",
      " \n",
      "Info chunk 1:\n",
      "\n",
      "Hegel summarizes the whole development of spirit.\n",
      ". \n",
      "Info chunk 2:\n",
      "\n",
      "III, Hegel explicitly distinguishes three stages of spirit: ‘subjective spirit’ (roughly, the individual mind), ‘objective spirit’ (the collective social life of a people), and ‘absolute spirit’ (art, religion, and philosophy).\n",
      ". \n",
      "Info chunk 3:\n",
      "\n",
      "Spirit, as conceived by Christianity, involves three stages that correspond not only to the three persons of the Trinity, but to the three parts of Hegel’s system.\n",
      ". \n",
      "Info chunk 4:\n",
      "\n",
      "Here Hegel speaks of ‘the spiritual’ (das Geistige) as well as of ‘spirit’ (Geist), perhaps because he is discussing the emergence and development of spirit, which begins not from fully fledged spirit, but the spiritual aspect of ordinary life.\n",
      ". \n",
      "Info chunk 5:\n",
      "\n",
      "Hegel attempts to draw parallels between phases of spirit and earlier shapes of consciousness.\n",
      ". \n",
      "Info chunk 6:\n",
      "\n",
      "Finally, in the holy spirit and in Hegel’s account of mind or spirit, spirit returns from otherness and representation into self- consciousness.\n",
      ". \n",
      "Info chunk 7:\n",
      "\n",
      "Hegel’s argument is: spirit unfolds its spirit-moments in consciousness, so the opposition involved in consciousness-moments inheres in every spirit-moment and every spirit-moment becomes a ‘shape’ or form of consciousness.\n",
      ". \n",
      "Info chunk 8:\n",
      "\n",
      "This is presumably why Hegel implies that this unhappy consciousness is closer to spirit than the lord and bondsman were.\n",
      ". \n",
      "Info chunk 9:\n",
      "\n",
      "However, what Hegel probably has in mind in the later paragraphs is that spirit involves an equal partnership of two or more self-consciousnesses, ‘I that is We, and We that is I’, as in  177, rather than the unsatisfactory duplications referred to in the earlier paragraphs.\n",
      ". \n",
      "Info chunk 10:\n",
      "\n",
      "As in  79, Hegel claims that his account of consciousness or of spirit will be complete, but only in the form of ‘shapes of consciousness’, not in the form of such abstract concepts as Being, etc.\n",
      ". \n",
      "Info chunk 11:\n",
      "\n",
      "If so, (2) or (3) look better than (1)—because of the sequence—though Hegel may also have (1) in mind, since he is trying to answer two questions: ‘How does spirit become conscious at all?\n",
      ". \n",
      "Info chunk 12:\n",
      "\n",
      "In Hegel’s system it corresponds to the transition from Logic to the philosophy of nature, showing how the logical ‘Idea’ necessarily burgeons into a world of space, time, matter, etc.\n",
      ". \n",
      "Info chunk 13:\n",
      "\n",
      "Hegel tends to equate the structure of reality (the order of Being) with the structure of our thoughts about reality (the order of knowing), as if abstract concepts were objective forces, not only driving us on from one concept to the next, but also at work causally within the world.\n",
      ". \n",
      "Info chunk 14:\n",
      "\n",
      "Hegel’s idea is that in virtue of the ‘concept’, the conceptual system developed in the Logic, he is able to give an orderly account of the world, especially nature, but also of the shapes of consciousness in PS, while also explaining how the Self manages to do so.\n",
      ". \n",
      "Info chunk 15:\n",
      "\n",
      "For spirit is the knowledge of itself in its estrangement; the essence that is the movement of retaining its equality with itself in its otherness.\n",
      "\n",
      "\n",
      "\n",
      "Resulting answer:\n",
      "\n",
      "In Hegel's hierarchy, spirit is the highest level of development. It is divided into three stages: subjective spirit (individual mind), objective spirit (collective social life of a people), and absolute spirit (art, religion, and philosophy). Spirit unfolds its moments in consciousness, drawing parallels between phases of spirit and earlier shapes of consciousness. Spirit involves an equal partnership of self-consciousnesses, \"I that is We, and We that is I\". Spirit returns from otherness into self-consciousness. Hegel's idea is that spirit is the knowledge of itself in its estrangement, retaining its equality with itself in its otherness.\n"
     ]
    }
   ],
   "source": [
    "print(rag(client, textdata=splitdata2, vecdf=df2, query=\"What is spirit in Hegel's hierarchy?\", k=15))"
   ]
  },
  {
   "cell_type": "code",
   "execution_count": 271,
   "id": "773522f8-f581-45be-baee-2cf264370013",
   "metadata": {},
   "outputs": [
    {
     "name": "stdout",
     "output_type": "stream",
     "text": [
      "Answer from the basic LLM:\n",
      "\n",
      "In Hegel's philosophical system, spirit is one of the three main categories of existence, alongside nature and mind. Spirit represents the highest form of human consciousness and self-awareness, characterized by the capacity for self-reflection, reason, and moral autonomy. Hegel believed that spirit develops over time through history and culture, progressing through various stages of development towards self-realization and self-determination. Spirit is also seen as the ultimate realization of the Absolute Idea or ultimate truth.\n"
     ]
    }
   ],
   "source": [
    "print(\"Answer from the basic LLM:\\n\")\n",
    "\n",
    "print(answerme(client, \"What is spirit in Hegel's hierarchy?\"))"
   ]
  },
  {
   "cell_type": "code",
   "execution_count": 272,
   "id": "23b171d4-d9dc-4949-a96d-b46e7fe2855f",
   "metadata": {},
   "outputs": [
    {
     "name": "stdout",
     "output_type": "stream",
     "text": [
      "What the LLM sees:\n",
      "\n",
      "The question is: What is the the abstract universality of Being according to Hegel?, please make use of the following retrieved text written by Hegel when answering the question. NOTE: if you cannot find suitable information below, return 'I don't know':\n",
      " \n",
      "Info chunk 1:\n",
      "\n",
      "The first sentence seems to refer to the first type of universality, but Hegel’s primary concern is the second.\n",
      ". \n",
      "Info chunk 2:\n",
      "\n",
      "Hegel uses ‘universal’ liberally: the object of perception is universal in that it has many properties.\n",
      ". \n",
      "Info chunk 3:\n",
      "\n",
      "Hegel tends to equate the structure of reality (the order of Being) with the structure of our thoughts about reality (the order of knowing), as if abstract concepts were objective forces, not only driving us on from one concept to the next, but also at work causally within the world.\n",
      ". \n",
      "Info chunk 4:\n",
      "\n",
      "Hegel is now trying to show that its generation of Being-there and the subsequent dissolution of that Being-there and its replacement by another is a deep conceptual necessity.\n",
      ". \n",
      "Info chunk 5:\n",
      "\n",
      "We start by saying, e.g. ‘The absolute is pure Being’, which makes it other than itself, and eventually (by the end of Hegel’s Logic, at least by the end of his system) we arrive at a way of speaking about the absolute that is adequate to it and restores it to its initial grandeur.\n",
      ". \n",
      "Info chunk 6:\n",
      "\n",
      "But Hegel repairs this by stressing that his concern is not the singular Self, but the universal Self, imbued with a rationality that all men share: see e.g.  785.\n",
      ". \n",
      "Info chunk 7:\n",
      "\n",
      "In this universality the reality of the ethical spirit is lost and, empty of content, the spirits of the national individuals are gathered into a single pantheon, not a pantheon of representation whose powerless form lets each spirit go its own way, but the pantheon of abstract universality, of pure thought, which disembodies them and assigns Being in- and for- itself to the spiritless Self, to the singular person.\n",
      ". \n",
      "Info chunk 8:\n",
      "\n",
      "Here Hegel is primarily referring to the treatment of abstract concepts in his logic.\n",
      ". \n",
      "Info chunk 9:\n",
      "\n",
      "The ‘true’ or absolute is, in Hegel’s view, both substance and subject.\n",
      ". \n",
      "Info chunk 10:\n",
      "\n",
      "Hegel notices an affinity between, on the one hand, the sameness of Being-for-Self and the formed object, and, on the other hand, the sameness of the I and the concepts about, or in terms of, which it thinks.\n",
      ". \n",
      "Info chunk 11:\n",
      "\n",
      "Hegel may be thinking of Kant’s unknowable thing-in-itself.\n",
      ". \n",
      "Info chunk 12:\n",
      "\n",
      "So Hegel, in his Logic, goes forward, proceeding from Being to nothing and from there to becoming, not by way of such propositions as ‘God/the absolute is nothing/becoming’, but by claims such as ‘[P]ure Being is .\n",
      ". \n",
      "Info chunk 13:\n",
      "\n",
      "Through this movement the universal becomes joined together with Being- there in general, just as the consciousness that is-there cultivates itself to essentiality through this estrangement.\n",
      ". \n",
      "Info chunk 14:\n",
      "\n",
      ") Hegel also introduces (4) the universal individual, such as air or earth: see Enc.\n",
      ". \n",
      "Info chunk 15:\n",
      "\n",
      "Hegel’s problem is to explain how a simple, self-contained unity that is not merely a composite of other entities (as e.g. motion is commonly supposed to be) can engender ‘difference or otherness’.\n",
      "\n",
      "\n",
      "\n",
      "Resulting answer:\n",
      "\n",
      "According to Hegel, the abstract universality of Being is the process through which the universal concept or idea evolves and becomes interconnected with individual beings or entities. This concept of universal self, imbued with rationality, is shared by all individuals and represents a deep conceptual necessity in the structure of reality. Hegel's focus is on the universal Self rather than the singular Self, and he emphasizes the importance of abstract concepts in his logic to explain the relationship between the universal and the individual. Ultimately, Hegel aims to restore the absolute to its initial grandeur through a progression from pure Being to a more adequate understanding of universal concepts.\n"
     ]
    }
   ],
   "source": [
    "print(rag(client, textdata=splitdata2, vecdf=df2, query=\"What is the the abstract universality of Being according to Hegel?\", k=15))"
   ]
  },
  {
   "cell_type": "code",
   "execution_count": 273,
   "id": "9ef08413-2d68-473e-8e7d-f256571aac9d",
   "metadata": {},
   "outputs": [
    {
     "name": "stdout",
     "output_type": "stream",
     "text": [
      "Answer from the basic LLM:\n",
      "\n",
      "According to Hegel, the abstract universality of Being refers to the concept that all things in existence share a common underlying essence or reality. This means that there is a fundamental unity that connects all beings and phenomena in the world, and that this unity is the basis for understanding the nature of existence itself. Hegel argues that by recognizing this abstract universality of Being, we can gain insight into the interconnectedness of all things and the underlying principles that govern the universe. This concept is central to Hegel's philosophy of dialectical idealism, which emphasizes the importance of recognizing the unity and interconnectedness of all phenomena in order to gain a deeper understanding of reality.\n"
     ]
    }
   ],
   "source": [
    "print(\"Answer from the basic LLM:\\n\")\n",
    "\n",
    "print(answerme(client, \"What is the the abstract universality of Being according to Hegel?\"))"
   ]
  },
  {
   "cell_type": "code",
   "execution_count": 274,
   "id": "ada07421-d974-4a43-9f8c-eb701459e186",
   "metadata": {},
   "outputs": [
    {
     "name": "stdout",
     "output_type": "stream",
     "text": [
      "What the LLM sees:\n",
      "\n",
      "The question is: What did Hegel say about blossoms and buds?, please make use of the following retrieved text written by Hegel when answering the question. NOTE: if you cannot find suitable information below, return 'I don't know':\n",
      " \n",
      "Info chunk 1:\n",
      "\n",
      "Hegel may have this episode in mind.\n",
      ". \n",
      "Info chunk 2:\n",
      "\n",
      "But in  2 Hegel compares the succession of philosophies to the growth of a plant, which is quite different from a glass or --- an inkwell.\n",
      ". \n",
      "Info chunk 3:\n",
      "\n",
      "The bud disappears when the blossom bursts forth, and one could say that the bud is refuted by the blossom; similarly, when the fruit appears, the blossom is declared to be a false Being-there2 of the plant, and the fruit replaces the blossom as the truth of the plant.\n",
      ". \n",
      "Info chunk 4:\n",
      "\n",
      "Nevertheless, it is useful to consider a concept in terms of Hegel’s botanical analogy.\n",
      ". \n",
      "Info chunk 5:\n",
      "\n",
      "Hegel attempts to draw parallels between phases of spirit and earlier shapes of consciousness.\n",
      ". \n",
      "Info chunk 6:\n",
      "\n",
      "(The beautiful soul has some affinity to Hegel himself.\n",
      ". \n",
      "Info chunk 7:\n",
      "\n",
      "Hegel replays the tensions that he discerned in perception in   113–15, but now as they present themselves to consciousness itself.\n",
      ". \n",
      "Info chunk 8:\n",
      "\n",
      "Hegel applies to consciousness the expression that in   156ff.\n",
      ". \n",
      "Info chunk 9:\n",
      "\n",
      "Presumably Hegel has in mind the three aspects of life which he derived from Albrecht von Haller (1707–1777): sensibility, irrit- ability and reproduction.\n",
      ". \n",
      "Info chunk 10:\n",
      "\n",
      "Hegel said, in  78, that natural consciousness regards its fate as merely negative, when in fact it is positive too.\n",
      ". \n",
      "Info chunk 11:\n",
      "\n",
      "Hegel summarizes the whole development of spirit.\n",
      ". \n",
      "Info chunk 12:\n",
      "\n",
      "Hegel here replays the process whereby self-consciousness emerges from life.\n",
      ". \n",
      "Info chunk 13:\n",
      "\n",
      "In Hegel (1895), II, pp.\n",
      ". \n",
      "Info chunk 14:\n",
      "\n",
      "In Hegel (1895) III, pp.\n",
      ". \n",
      "Info chunk 15:\n",
      "\n",
      "Hegel then summarizes the stages by which this truth was reached.\n",
      "\n",
      "\n",
      "\n",
      "Resulting answer:\n",
      "\n",
      "In his writings, Hegel compares the succession of philosophies to the growth of a plant, stating that the blossom refutes the bud, and the fruit replaces the blossom as the truth of the plant. Therefore, Hegel sees the process of growth and development in nature mirrored in the progression of philosophical ideas. Hegel uses the analogy of blossoms and buds to illustrate how one phase of development is surpassed by the next, similar to how one stage of consciousness is replaced by a higher form. Hegel draws parallels between the phases of spirit and earlier shapes of consciousness, emphasizing the idea of progression and evolution in both nature and philosophy.\n"
     ]
    }
   ],
   "source": [
    "print(rag(client, textdata=splitdata2, vecdf=df2, query=\"What did Hegel say about blossoms and buds?\", k=15))"
   ]
  },
  {
   "cell_type": "code",
   "execution_count": 275,
   "id": "ebb89171-29a7-48b5-892b-a56f9025c3b3",
   "metadata": {},
   "outputs": [
    {
     "name": "stdout",
     "output_type": "stream",
     "text": [
      "Answer from the basic LLM:\n",
      "\n",
      "Hegel famously said, \"The bud disappears when the blossom breaks through, and we might say that the former is refuted by the latter; in the same way when the fruit comes, the blossom may be explained to be a false form of the plant's existence, for the fruit appears as its true nature in place of the blossom. The ceaseless activity of their own inherent nature makes these stages moments of an organic unity, where they not merely do not contradict one another, but where one is as necessary as the other; and constitutes thereby the life of the whole.\" Hegel believed that the progression from bud to blossom to fruit was a necessary and natural development in the life of a plant, with each stage representing a different phase of its existence.\n"
     ]
    }
   ],
   "source": [
    "print(\"Answer from the basic LLM:\\n\")\n",
    "\n",
    "print(answerme(client, \"What did Hegel say about blossoms and buds?\"))"
   ]
  },
  {
   "cell_type": "markdown",
   "id": "d877b47f-62b5-4463-a9a6-576b56a16ae4",
   "metadata": {},
   "source": [
    "# Approach 3 "
   ]
  },
  {
   "cell_type": "markdown",
   "id": "00d272db-9b15-43a0-9526-2f7a50af2acd",
   "metadata": {},
   "source": [
    "### This time we'll try a sentence approach but we'll also take n sentences to the left and right of each of the k selected sentences for context as a synthesis of approach 1 and approach 2"
   ]
  },
  {
   "cell_type": "code",
   "execution_count": 278,
   "id": "53ec2a12-da14-43af-9592-f2b480b9a6cf",
   "metadata": {},
   "outputs": [],
   "source": [
    "def ragpad(client, textdata, vecdf, query, k, n):\n",
    "\n",
    "    ind = find_top_k_matches(query, vecdf, textdata, k)\n",
    "\n",
    "    chunks = []\n",
    "    \n",
    "    for ki in ind:\n",
    "        padinds = []\n",
    "        for i in range(ki-n,ki+n):\n",
    "            padinds.append(i)\n",
    "        padinds = [i for i in padinds if i >= 0 and i < len(textdata)]\n",
    "        chunk = \" \".join([textdata[i] for i in padinds])\n",
    "        chunks.append(chunk)\n",
    "\n",
    "    info = \" \".join([f\"\\nInfo chunk {_+1}:\\n\\n\" + chunks[_] + \"\\n\" for _ in range(len(chunks))])\n",
    "\n",
    "    combquery = f\"The question is: {query}, please answer it comprehensively, please make use of the following retrieved text written by Hegel when answering the question. NOTE: if you cannot find suitable information below, return 'I don't know':\\n {info}\"\n",
    "\n",
    "    print(\"What the LLM sees:\\n\")\n",
    "    print(combquery + \"\\n\\n\")\n",
    "\n",
    "    print(\"Resulting answer:\\n\") \n",
    "    return answerme(client, combquery)"
   ]
  },
  {
   "cell_type": "code",
   "execution_count": 279,
   "id": "6a610c6f-cada-46dd-8639-bf2e7b256a5f",
   "metadata": {},
   "outputs": [
    {
     "name": "stdout",
     "output_type": "stream",
     "text": [
      "What the LLM sees:\n",
      "\n",
      "The question is: What is spirit in Hegel's hierarchy?, please answer it comprehensively, please make use of the following retrieved text written by Hegel when answering the question. NOTE: if you cannot find suitable information below, return 'I don't know':\n",
      " \n",
      "Info chunk 1:\n",
      "\n",
      "Spirit must become conscious of this immediate ethical life, thereby undermining it. Passing in this way from shape to shape, spirit advances to self- knowledge. These shapes are shapes of a world, located in time and space. The previous shapes, even if they presupposed a background culture, were primarily shapes of individ- ual consciousness. Hegel summarizes the whole development of spirit. It begins with the tightly knit ethical life of the Greek city-state. This is rent apart by its self-knowledge, leading to the abstract ‘right’ of the Roman Empire, which sets the Self in opposition to the substance. Division persists in the history of Europe down to the French revolution: there are two realms, that of culture (the hither side) and that of faith (the beyond).\n",
      " \n",
      "Info chunk 2:\n",
      "\n",
      "The words occur frequently in the Preface, but rarely in the rest of PS, since they are associated primarily with Hegel’s logic. The Latin verb also gave rise to speculum, ‘mirror’, and Hegel’s usage is often said to involve mirroring: see e.g. Enc. But speculum is only a minor member of the specul-family, and there is no trace in Hegel of a link between ‘speculation’ and mirrors. I,  112 Addition associates mirrors with ‘reflection’ rather than speculation. III, Hegel explicitly distinguishes three stages of spirit: ‘subjective spirit’ (roughly, the individual mind), ‘objective spirit’ (the collective social life of a people), and ‘absolute spirit’ (art, religion, and philosophy). He does not draw this distinction explicitly in PS, and tends to call the individual mind the ‘soul’ (Seele) rather than the ‘spirit’: see  77. Geist’s wide range of senses (including the ‘holy spirit’) and its tendency develop from one to the other, as well as its tendency to embrace what is other than Geist, make it an especially suitable candidate for the status of the absolute. I capitalize ‘State’ in the political sense in order to distinguish it from ‘state’ in the sense of ‘condition’ (Zustand), as in  477, where ‘state of right’ is Rechtszustand, not Rechtsstaat.\n",
      " \n",
      "Info chunk 3:\n",
      "\n",
      "This is the significance of the incarnation, and it is found in the community. It is therefore misguided to want to return to the first primitive community or to Christ’s own words. This confuses the origin of something with its concept. What matters is not what Christ was in the beginning, but what he is now. Spirit, as conceived by Christianity, involves three stages that correspond not only to the three persons of the Trinity, but to the three parts of Hegel’s system. The pure substance, or God the Father, is thinking or logic: cf. Hegel, SL, p.29: ‘It can therefore be said that this content is the exposition of God as he is in his eternal essence before the creation of nature and of a finite spirit. ’ Logic descends into the singularity of Christ or into nature, the second part of the system.\n",
      " \n",
      "Info chunk 4:\n",
      "\n",
      "Then the connection with proposition (ii) is this: if the absolute is only substance, it cannot develop into a system; it can only do so if it is also an active, purposive subject. However, Hegel may instead, or even also, be continuing his subjective use of ‘system’, which also makes decent sense of (ii): ‘The true or absolute is only completely actualized when it is presented in a system by us, for only then does it fully recover itself in its creation. ’ This suggests that the ‘subject’ in (ii) is not only an active subject, but also a knowing, system-building subject. This eases the introduction of spirit. Here Hegel speaks of ‘the spiritual’ (das Geistige) as well as of ‘spirit’ (Geist), perhaps because he is discussing the emergence and development of spirit, which begins not from fully fledged spirit, but the spiritual aspect of ordinary life. This is initially embedded in substance, rather than free and independent (‘in-and-for-itself ’): it is ‘spiritual substance’ (geistige Substanz), an expression that recurs in PS   26 and 36 as well as in chapter VI. That ‘the spiritual alone is the actual’ means that only the spiritual has the power to undertake the following process: (1) It is the ‘essence’ or ‘in itself ’, it has an intrinsic nature that does not depend on its relationships to other things or, more specifically, on its being revealed to itself or to others. (2) It encounters itself in a determinate form, as if it sees itself in a mirror.\n",
      " \n",
      "Info chunk 5:\n",
      "\n",
      "Recht is ‘right’ or ‘law’, not in the sense of a legal code, but roughly that of ‘justice’. This stage corresponds to the Roman Empire: cf. Stoicism emerged from lordship and bondage in   197ff. Similarly, the state of right emerges from the ethical order which dominates the individuals in it (and also the conflict between human and divine laws). Hegel attempts to draw parallels between phases of spirit and earlier shapes of consciousness. 440, on sensory certainty, perception, and under- standing, and   480 and 483 on scepticism and unhappy consciousness. The independent self-consciousness of stoicism passed into scepticism: cf. Scepticism was in utter disarray, e.g. doubting the reliability of sense-perception and ethical laws, yet dependent on them: cf.\n",
      " \n",
      "Info chunk 6:\n",
      "\n",
      "Hegel, SL, p.29: ‘It can therefore be said that this content is the exposition of God as he is in his eternal essence before the creation of nature and of a finite spirit. ’ Logic descends into the singularity of Christ or into nature, the second part of the system. This involves representation especially, not only in religion, but also in Hegel’s system, since the description of nature requires determinate empirical concepts, such as that of a plant, not only pure thoughts, such as those of Being or of substance. Christ is other than God and nature is other than pure thought. Finally, in the holy spirit and in Hegel’s account of mind or spirit, spirit returns from otherness and representation into self- consciousness. Each of these stages is a sort of circle, which, in completing itself, moves on to the next stage: cf. In religion, consciousness’s representation is not only especially associated with one stage, but is the form in which all three stages are presented. Some of this was anticipated by the unhappy consciousness and by faith: see   206ff.\n",
      " \n",
      "Info chunk 7:\n",
      "\n",
      "Objectivity is ‘negative’ to knowledge, in that while neither can occur without the other, they are distinct from each other, as are, say, the poles of a magnet or wife and husband: see also  37. The moments that spirit ‘unfolds’ are not the same as the moments of consciousness, viz. knowledge and objectivity. They are rather the stages of spirit’s development, while knowledge and objectivity are the ‘opposition’ that inheres in each stage. Hegel’s argument is: spirit unfolds its spirit-moments in consciousness, so the opposition involved in consciousness-moments inheres in every spirit-moment and every spirit-moment becomes a ‘shape’ or form of consciousness. On substance and its ‘movement’, cf. 18; on ‘spiritual substance’, cf. Substance moves, in virtue of being ‘subject’ as well as substance.\n",
      " \n",
      "Info chunk 8:\n",
      "\n",
      "But it cannot do that, because each of the consciousnesses contains the other, and so the contradiction between them drives it from one to the other. What would really satisfy it and bring about its self-reconciliation is fully fledged spirit, an equal partnership of two or more self-consciousnesses, ‘I that is We, and We that is I’, as in  177. It already contains the germ of this, involving as it does one undivided, yet duplicated consciousness, where two self- consciousnesses gaze into each other. When it becomes the unity of both self-consciousnesses its problem will be solved. This is presumably why Hegel implies that this unhappy consciousness is closer to spirit than the lord and bondsman were. The overseer consciousness is the immediate unity of two different and opposed consciousnesses. They cannot be of the same status therefore: one of them must be regarded as peripheral and inessential. (They could be of equal status, Hegel implies, if there were a --- mediated unity of them.\n",
      "\n",
      "\n",
      "\n",
      "Resulting answer:\n",
      "\n",
      "In Hegel's hierarchy, spirit is the highest stage of development. Spirit is the self-consciousness of a community or collective social life, moving beyond individual consciousness. According to Hegel, spirit goes through three stages: subjective spirit (individual mind), objective spirit (collective social life of a people), and absolute spirit (art, religion, and philosophy). \n",
      "\n",
      "Spirit, as conceived by Christianity, involves three stages that correspond to the three persons of the Trinity and to the three parts of Hegel's system. The pure substance, or God the Father, is equated with thinking or logic, representing the first part of the system. Logic then descends into the singularity of Christ or into nature, which forms the second part of Hegel's system.\n",
      "\n",
      "Spirit is not only substance but also an active, purposive subject that can develop into a system. It is the essence or in-itself and encounters itself in a determinate form, reflecting on itself like in a mirror. Through this process, spirit gains self-knowledge and advances towards absolute self-awareness.\n",
      "\n",
      "The stages of spirit's development involve a movement from ethical life to abstract right, and then eventually to a unity of self-consciousness in community or society. Spirit is the culmination of the process of self-knowledge and self-reconciliation, leading to the highest form of consciousness in Hegel's hierarchy.\n"
     ]
    }
   ],
   "source": [
    "print(ragpad(client, textdata=splitdata2, vecdf=df2, query=\"What is spirit in Hegel's hierarchy?\", k=8, n=4))"
   ]
  },
  {
   "cell_type": "code",
   "execution_count": 280,
   "id": "3a12299a-e59e-4092-98c4-8e19e988c64e",
   "metadata": {},
   "outputs": [
    {
     "name": "stdout",
     "output_type": "stream",
     "text": [
      "Answer from the basic LLM:\n",
      "\n",
      "In Hegel's hierarchy of reality, spirit occupies the highest level of development. Hegel conceives of spirit as the culmination of the dialectical progression of consciousness and self-consciousness, where the individual realizes their own subjective freedom and self-determination.\n",
      "\n",
      "Spirit represents the highest form of self-awareness and rationality. It is the collective consciousness of a society or culture, encompassing the shared values, beliefs, and norms that shape human behavior and institutions. Spirit is dynamic and historical, evolving over time through the interaction of individuals and social structures.\n",
      "\n",
      "Hegel identifies three main forms of spirit: subjective spirit, objective spirit, and absolute spirit. Subjective spirit refers to individual consciousness and the inner life of the mind, including thoughts, feelings, and desires. Objective spirit pertains to the external manifestation of spirit in social institutions, laws, customs, and practices. Absolute spirit represents the highest form of spirit, where individuals achieve unity with the universal and come to understand the ultimate truth of existence.\n",
      "\n",
      "In Hegel's philosophy, spirit is ultimately the driving force of historical progress and human development. Through the dialectical process of thesis, antithesis, and synthesis, spirit moves towards greater self-realization and self-understanding. Spirit represents the culmination of human freedom, rationality, and creativity, and serves as the foundation for ethical and political life.\n"
     ]
    }
   ],
   "source": [
    "print(\"Answer from the basic LLM:\\n\")\n",
    "\n",
    "print(answerme(client, \"What is spirit in Hegel's hierarchy? Please answer comprehensively\"))"
   ]
  },
  {
   "cell_type": "code",
   "execution_count": 281,
   "id": "55ceadde-c42a-48b9-9a51-1c008f87268c",
   "metadata": {},
   "outputs": [
    {
     "name": "stdout",
     "output_type": "stream",
     "text": [
      "What the LLM sees:\n",
      "\n",
      "The question is: What is the the abstract universality of Being according to Hegel?, please answer it comprehensively, please make use of the following retrieved text written by Hegel when answering the question. NOTE: if you cannot find suitable information below, return 'I don't know':\n",
      " \n",
      "Info chunk 1:\n",
      "\n",
      "On the peculiarity of ‘I’, see further Chisholm (1981). The I (or the word ‘I’) is ‘universal’ in two distinct ways. First, the I is not inseparably attached to any particular state or object: one and the same I can see a house, a tree, or neither. Secondly, everyone is an I: the word ‘I’ is applicable by everyone to him- or herself. The first sentence seems to refer to the first type of universality, but Hegel’s primary concern is the second. The final sentence refers obliquely to Wilhelm Traugott Krug’s challenge to the new idealists to deduce the pen he is writing with: see Di Giovanni and Harris (1985), pp. The challenge would be illegitimate if it were impossible to refer to Krug’s pen, and even for Krug to refer to himself. The I and the object are now in the same boat.\n",
      " \n",
      "Info chunk 2:\n",
      "\n",
      "Hegel has two points in mind: (i) In sensory certainty, the two moments, the I and its object, do not develop out of something else, whereas in perception they do. (‘Appear, appearance’ here have the flavour of ‘appearing out of the blue’, in contrast to ‘emerge, emergence’ (entstehen) from something else. ) (ii) In sensory certainty the I and its object fall outside each other, whereas in perception they emerge from the same thing, the pointing-out. As in the case of sensory certainty, the object and subject are viewed in corresponding terms (see  91), and initially the object is essential, and the subject inessential (cf. Hegel uses ‘universal’ liberally: the object of perception is universal in that it has many properties. Perception does not simply supplant sensory certainty. It incorporates the sensory ‘wealth’ that sensory certainty gestured towards but could not digest. Hegel has the concept expressed by his later use of aufheben (‘abolish–preserve–elevate’), even if he does not often use the word in this way yet: but see  113.\n",
      " \n",
      "Info chunk 3:\n",
      "\n",
      "He makes some attempt to correlate early stages of his Logic with stages in the history of philosophy, the concept of pure Being corresponding to Parmenides and that of becoming to Heraclitus, but thereafter his attempt to correlate the two orders becomes piecemeal and arbitrary. On the face of it, much of PS is not correlated with history, and those parts of it that are fall into three distinct historical sequences: from early Greece and/or the state of nature down to medieval Christianity (Self-consciousness: the struggle for recognition- Stoicism–Scepticism–the Unhappy Consciousness), from the Greek city-state to the French revolution and Kantian morality (Spirit), and from ancient Persia or thereabouts down to the Reformation (Religion). Critics of Hegel, such as Adolf Trendelenberg (1802–1872) and Hermann Lotze (1816–1881), have long argued that Hegel’s belief that concepts are embedded in extra-logical things and determine their structure as well as, in some cases, their development over time, is fallacious. On their view the dialectic that is supposed to power the transition from one concept to another, relies on a confusion between logical negation and physical concepts such as repulsion. Hegel tends to equate the structure of reality (the order of Being) with the structure of our thoughts about reality (the order of knowing), as if abstract concepts were objective forces, not only driving us on from one concept to the next, but also at work causally within the world. He did not regard concepts such as Being as simply abstractions; concepts are embedded in things in something like the way in which the genetic code of a plant is embedded in a seed: cf. The temporal development of such things as do develop over time—philosophy, history, shapes of consciousness—should therefore correspond to the logical order in which thoughts develop. However, he gives no clear criterion for deciding when a logical sequence gives rise to a corresponding temporal sequence, and when it does not, and again it is unclear where he locates the boundary between the two cases.\n",
      " \n",
      "Info chunk 4:\n",
      "\n",
      ", along with a comparison with anatomy. Hegel has in mind the development of his own system rather than the human body, when he speaks of the becoming of a ‘determinate simplicity’, e.g. the shape of consciousness that emerges from the ruins of its predecessor, and of its passing over into a ‘higher truth’, e.g. the more advanced shape of consciousness. On substance as subject, see   17f. In  18 the reflection into itself is that of the substance-subject, and so it must be here too, though grammatically (seine eigene reflexion) it could be that of the ‘content’: the content is the ‘Being-there’ that the substance-subject generates. Hegel is now trying to show that its generation of Being-there and the subsequent dissolution of that Being-there and its replacement by another is a deep conceptual necessity. He is also trying to show that his own knowledge of this process is not an additional supplement that comes to substance from outside, but is involved in the very logic of substance itself. The first aim is approached by way of a brief replay of the dialectic of Being-there and quality, as found e.g. in Enc. A particular ‘Being-there’ has a quality with which it is indissolubly associated and which differentiates it from any other Being-there: see Enc.\n",
      " \n",
      "Info chunk 5:\n",
      "\n",
      "Yovel (2005, p.103) plausibly suggests that Hegel effected ‘a becoming-other that must be taken back’ in yet another way, retracting the initial predication by further predications. The subject ‘becomes other’ when a predicate is ascribed to it: e.g. if we say ‘Man is an animal’, man becomes other than himself, namely an animal. But if we add a further predicate, ‘rational’, we restore man to his original status, only on a higher, more explicit plane: ‘Man is a rational animal’. The absolute is more complex, but the principle is the same. We start by saying, e.g. ‘The absolute is pure Being’, which makes it other than itself, and eventually (by the end of Hegel’s Logic, at least by the end of his system) we arrive at a way of speaking about the absolute that is adequate to it and restores it to its initial grandeur. Hegel’s Logic can be seen initially as a series of predications of the absolute or God. Here Hegel agrees with Aquinas and disagrees with Plotinus. But he disagrees with Aquinas in at least two respects.\n",
      " \n",
      "Info chunk 6:\n",
      "\n",
      "Comedy presents, on the artistic plane, man’s appropriation and manipulation of fate, gods, and values. It is the end of Greek art, since there is now nothing objective to be represented. The actor no longer portrays a character other than himself, but has removed his mask and become a sheer individual like everyone else. That men (or ‘we’) collectively have supreme power does not entail that each individual does; he may well find other men as much of a nuisance as the gods were. But Hegel repairs this by stressing that his concern is not the singular Self, but the universal Self, imbued with a rationality that all men share: see e.g.  785. THE REVEALED RELIGION  748. In the subtitle ‘Revealed’ here translates offenbare, which means ‘manifest’, rather than ‘revealed’, which would be geoffenbarte, the past participle of offenbaren, ‘to reveal’. But this makes little difference, since Hegel also uses the verb and its past participle.\n",
      " \n",
      "Info chunk 7:\n",
      "\n",
      "1of itself as its objective substance, and simple self-consciousness remaining  750. The religion of art belongs to the ethical spirit which we earlier saw perish in the state of right, i.e. in the proposition: the Self as such, the abstract person, is absolute essence. In the ethical life, the Self is submerged in the spirit of its people, it is universality filled. But simple singularity arises out of this content, and its levity refines it into a person, into the abstract universality of right. In this universality the reality of the ethical spirit is lost and, empty of content, the spirits of the national individuals are gathered into a single pantheon, not a pantheon of representation whose powerless form lets each spirit go its own way, but the pantheon of abstract universality, of pure thought, which disembodies them and assigns Being in- and for- itself to the spiritless Self, to the singular person. But this Self has, through its emptiness, let the content go free; consciousness is the essence only within itself; its own Being-there, the juridical recognition of the person, is the unfilled abstraction; it possesses, therefore, rather only the thought of itself; or as it is there and knows itself as object, it is the consciousness that is not actual. Hence it is only the stoical independence of thinking, and this, passing through the movement of the sceptical consciousness, finds its truth in that shape which was called the unhappy self-consciousness. This self-consciousness knows all about the actual validity of the abstract person and all about its validity in pure thought.\n",
      " \n",
      "Info chunk 8:\n",
      "\n",
      "By the first principle the I is established (or establishes itself) as the unrestricted lord of the universe, but it has to ‘posit’ an opponent, and this contracts its domain. The simple models that Hegel has presented earlier have a similar structure. In PS  2 successive philosophies are related to each other like the stages in the growth of a plant, each ‘refuted’ by its successor. In   18 and 19, God first becomes other than himself, in a way refuting himself, and then recovers himself in the world. Here Hegel is primarily referring to the treatment of abstract concepts in his logic. But his procedure in the body of PS follows the same pattern. Each shape of consciousness (including the opening one, sensory certainty) is supplanted by its successor; it does not persist unmodified in the way that a traditional axiom, premise, or theorem does. Hegel’s method perhaps bears comparison with Plato’s claim that philosophy proceeds by ‘cancel- ling hypotheses’ (Rep.\n",
      "\n",
      "\n",
      "\n",
      "Resulting answer:\n",
      "\n",
      "According to the retrieved text written by Hegel, the abstract universality of Being can be understood through the concept of the 'I'. The 'I' or the word 'I' is considered 'universal' in two distinct ways. First, the 'I' is not necessarily connected to any specific state or object - it can be applied universally. Secondly, everyone is an 'I' and can use the word 'I' to refer to themselves. This second point is Hegel's primary concern. The idea is that both the 'I' and the object are inseparable - in the same boat. \n",
      "\n",
      "Furthermore, Hegel discusses the development of the concept of Being throughout his writings. He correlates early stages of his Logic with stages in the history of philosophy, and he tries to show that concepts are embedded in things and influence their structure and development over time. He believes that the development of concepts such as Being should correspond to the logical order in which thoughts develop. \n",
      "\n",
      "Hegel also discusses the concept of substance and subject, illustrating the generation and dissolution of 'Being-there' and its replacement by another concept as a deep conceptual necessity. He emphasizes that his knowledge of this process is not external but is involved in the logic of substance itself.\n",
      "\n",
      "Additionally, Hegel's method of philosophy involves a series of predications of the absolute or God, where each predication leads to a becoming-other that is eventually taken back by further predications. By the end of Hegel's Logic, the absolute is spoken about in a way that restores it to its initial grandeur.\n",
      "\n",
      "In conclusion, the abstract universality of Being according to Hegel involves the concept of the 'I', correlating stages of development with history, embedding concepts in things, analyzing substance and subject, and the process of becoming-other through series of predications of the absolute. Hegel's philosophical method aims to cancel hypotheses or concepts as they evolve rather than persisting unchanged.\n"
     ]
    }
   ],
   "source": [
    "print(ragpad(client, textdata=splitdata2, vecdf=df2, query=\"What is the the abstract universality of Being according to Hegel?\", k=8, n=4))"
   ]
  },
  {
   "cell_type": "code",
   "execution_count": 283,
   "id": "c40374bc-05bf-4b0b-b68d-108aebfcd26a",
   "metadata": {},
   "outputs": [
    {
     "name": "stdout",
     "output_type": "stream",
     "text": [
      "Answer from the basic LLM:\n",
      "\n",
      "In Hegel's philosophy, the abstract universality of Being refers to the most basic and fundamental category of existence. Being, in its most general sense, is the idea of pure existence without any specific qualities or characteristics. It is the starting point for Hegel's dialectical method, which proceeds through a series of stages or moments that develop and unfold from this initial point.\n",
      "\n",
      "Hegel argues that Being is ultimately indeterminate and empty of content, as it lacks any specific characteristics or defining features. It is a universal concept that encompasses all possibilities of existence, but is itself devoid of any particularity. This abstract universality of Being serves as the foundation for Hegel's exploration of the nature of reality and the development of his system of philosophy.\n",
      "\n",
      "Through the dialectical process, Hegel shows how Being transitions into non-Being, and how these two moments then come together to form the concept of Becoming. This movement from abstract universality towards greater specificity and concreteness reflects Hegel's belief that reality is a dynamic and evolving process that unfolds through a dialectical interplay of opposites.\n",
      "\n",
      "Ultimately, the abstract universality of Being represents the initial stage of Hegel's philosophical system, providing the basis for the development of more concrete categories and concepts. It symbolizes the infinite potential and possibility inherent in reality, serving as the starting point for the exploration of the nature of existence and the unfolding of the Absolute Spirit.\n"
     ]
    }
   ],
   "source": [
    "print(\"Answer from the basic LLM:\\n\")\n",
    "\n",
    "print(answerme(client, \"What is the the abstract universality of Being according to Hegel? Please answer comprehensively\"))"
   ]
  },
  {
   "cell_type": "code",
   "execution_count": 284,
   "id": "5e44501e-a204-452a-8003-e5c98b0fcdf5",
   "metadata": {},
   "outputs": [
    {
     "name": "stdout",
     "output_type": "stream",
     "text": [
      "What the LLM sees:\n",
      "\n",
      "The question is: What did Hegel say about blossoms and buds?, please answer it comprehensively, please make use of the following retrieved text written by Hegel when answering the question. NOTE: if you cannot find suitable information below, return 'I don't know':\n",
      " \n",
      "Info chunk 1:\n",
      "\n",
      "On the one hand, it regards the other self-consciousness as an appendage of itself. On the other hand, its pleasure depends on the other’s perceived independence. Once it achieves its aim of union with the other, it is no longer just itself, but merged together with the other, hence no longer a mere singleton but a universal. (Goethe’s Faust seduces Margaret, who then has a child; she drowns it and is condemned to death. Hegel may have this episode in mind. One possibility is that the singleton must pass from one hapless victim to the next, becoming a universal seducer. Alternatively, or additionally, Hegel may have in mind a marriage, in which the victim of seduction later becomes a wife, reasserts her independence, and puts the former singleton in his place. The object of self-consciousness’s pleasure negates it rather than fulfils it.\n",
      " \n",
      "Info chunk 2:\n",
      "\n",
      "However, even if negation is determinate in this sense, this still does not secure the ‘necessity’ of the progression. A proposition or a doctrine can be denied for a variety of reasons. To establish not only that each form of consciousness necessarily has one, and only one, immediate successor, but also that it could not possibly have a different immediate successor, Hegel would need to show that there can be only one reason for negating it. Sartre wrote: ‘the waiter in the café can not be immediately a café waiter in the sense that this inkwell is an inkwell, or the glass is a glass’ (p. But in  2 Hegel compares the succession of philosophies to the growth of a plant, which is quite different from a glass or --- an inkwell. So it is not clear why, here, a natural entity cannot go beyond its immediate Being-there. Perhaps it is because a sapling cannot look ahead to what lies beyond its current stage of growth or because an acorn cannot become a beech. Unlike an acorn, consciousness is ‘for itself its own concept’.\n",
      " \n",
      "Info chunk 3:\n",
      "\n",
      "In the case of philosophy, by contrast, this would give rise to the incon- gruity that this manner of which philosophy makes use is shown by philosophy itself to be incapable of grasping the truth. So too, determining the relationship that a philosophical work supposes it has with other undertakings on the same subject introduces an extraneous concern, and obscures what really matters in the cognition of the truth. As the opposition between the true and the false becomes firmly fixed for opinion, 1 opinion tends to expect either assent or contradiction in response to a current philosophical system, and to see in any comment on such a system only the one or the other. Opinion does not comprehend the diversity of philosophical systems as the progressive unfolding of the truth; rather it sees in the diversity only contradiction. The bud disappears when the blossom bursts forth, and one could say that the bud is refuted by the blossom; similarly, when the fruit appears, the blossom is declared to be a false Being-there2 of the plant, and the fruit replaces the blossom as the truth of the plant. These forms are not only different, they also supplant one another as mutually incompatible. Yet at the same time their fluid nature makes them moments of the organic unity, in which they not only do not conflict, but each is as necessary as the other; and this shared --- necessity alone constitutes the life of the whole. But the contradiction levelled against a philosophical system does not usually comprehend itself in this way; nor does the apprehending consciousness generally know how to liberate the contradiction from its one-sidedness or keep it free, and to recognize the reciprocally necessary moments in the shape of seeming conflict and contrariety.\n",
      " \n",
      "Info chunk 4:\n",
      "\n",
      "It contrasts, in particular, with Vorstellung, pictorial ‘representation’. Whereas Vorstellung tends to separate things, Begreifen brings them together as interacting activities or processes, and hence combines inclusion with abstraction. A concept, for Hegel, is abstract and non-empirical. Thus, e.g., Being is a concept, but redness is not. Nevertheless, it is useful to consider a concept in terms of Hegel’s botanical analogy. A concept is comparable to the plan or programme embodied in a seed. Thus the concept of something is often just the undeveloped beginning of it, as in  78. But this concept generates and controls the subsequent growth of the plant.\n",
      " \n",
      "Info chunk 5:\n",
      "\n",
      "Recht is ‘right’ or ‘law’, not in the sense of a legal code, but roughly that of ‘justice’. This stage corresponds to the Roman Empire: cf. Stoicism emerged from lordship and bondage in   197ff. Similarly, the state of right emerges from the ethical order which dominates the individuals in it (and also the conflict between human and divine laws). Hegel attempts to draw parallels between phases of spirit and earlier shapes of consciousness. 440, on sensory certainty, perception, and under- standing, and   480 and 483 on scepticism and unhappy consciousness. The independent self-consciousness of stoicism passed into scepticism: cf. Scepticism was in utter disarray, e.g. doubting the reliability of sense-perception and ethical laws, yet dependent on them: cf.\n",
      " \n",
      "Info chunk 6:\n",
      "\n",
      "This is to be found in the beautiful soul, which remains enclosed in its concept, i.e. is averse to any action whatsoever. It is not only the intuition of God, as in religion, but God’s intuition of Himself, since there can be no god outside the Self: cf. we saw the beautiful soul’s reluctance to act, but also its positive self-estrangement and its realization of its concept in action. Then it actualizes its pure knowledge of itself in the world, not in the Beyond, as religion does. (The beautiful soul has some affinity to Hegel himself. The secular conflict and reconciliation of  660 is now applied to the conflict between religion and the moral Self. The simple concept required both the action of spirit and the representational content of religion. In religion this content was other than consciousness, while in the acting spirit it is all within the Self.\n",
      " \n",
      "Info chunk 7:\n",
      "\n",
      "Somehow the unity of the thing needs to be maintained along with the diversity of its properties. The illusion to which perceiving is susceptible is not primarily ordinary perceptual illusions (such as seeing a stick in water look bent, when it is really straight), but an intellectual apprehension that fails to maintain its internal coherence or the ‘equality-to- itself ’ (Sichselbstgleichheit) of the thing. However, perception is susceptible to ordinary --- perceptual illusions of a sort that sensory certainty was not, since perception opens up a gap between itself and its object that was not present in sensory certainty. That is, ein Meinen, a relic of sensory certainty. Hegel replays the tensions that he discerned in perception in   113–15, but now as they present themselves to consciousness itself. It vacillates between regarding the thing as a medium or ‘community’ for its properties and regarding it as an intrinsic unity, whose properties are shared with and/or contrast with those of other things. It attributes its difficulties not to the internal incoherence of the thing, but to its own misapprehen- sions. It is in danger of lapsing back into the unarticulated ‘sensory Being’ of sensory certainty.\n",
      " \n",
      "Info chunk 8:\n",
      "\n",
      ") A concept is intrinsically and entirely mine, but it is not clear that its application is similarly independent of sensory input or that an object to which the concept is applied is not distinct from myself: ‘Jumbo is alive’ seems little different in this respect from ‘Jumbo is an elephant’. Hence Hegel is somewhat hazy about whether ‘thinking’ is about concepts or, alternatively, in terms of concepts, applying them to things that are conceptualized, but not themselves concepts. Probably he has in mind thinking about concepts, since in the final sentence he says that this ‘element’ (viz. the concepts) does not engage in the ‘development and movement of its manifold Being’. Hegel applies to consciousness the expression that in   156ff. he applied to the like poles of a magnet: sich gleichnamige, literally ‘like-named to itself ’ or ‘homonymous with itself ’. Consciousness repels itself, as two like poles repel each other, and thus bifurcates into the thinking I and the concepts it thinks. Stoicism is so-called from the Stoa poikilē, the ‘painted porch’, a colonnade in Athens, where Zeno of Citium opened his school c.399 .\n",
      "\n",
      "\n",
      "\n",
      "Resulting answer:\n",
      "\n",
      "In response to your question, Hegel used the analogy of blossoms and buds to explain the progression and development of philosophical ideas. In a philosophical context, Hegel stated that the bud disappears when the blossom bursts forth, and similarly, when the fruit appears, the blossom is declared to be a false being-there of the plant. He described how these forms are not only different but also supplant one another as mutually incompatible. However, despite this apparent contradiction, Hegel emphasized that these different stages of growth are necessary moments of the organic unity, each as vital as the other. The shared necessity of these different phases constitutes the life of the whole plant.\n",
      "\n",
      "Through this analogy, Hegel was highlighting the fluid nature of philosophical progress and the evolution of ideas. Just as a plant transitions from a bud to a blossom to a fruit, philosophical systems succeed one another, each building upon and, in a sense, negating the previous one. This process of negation and progression is essential for the advancement and development of philosophical thought. Hegel's use of the blossom and bud analogy reflects his belief in the intricate and interconnected nature of philosophical concepts, where each phase of growth is crucial for the overall understanding and evolution of philosophical ideas.\n"
     ]
    }
   ],
   "source": [
    "print(ragpad(client, textdata=splitdata2, vecdf=df2, query=\"What did Hegel say about blossoms and buds?\", k=8, n=4))"
   ]
  },
  {
   "cell_type": "code",
   "execution_count": 285,
   "id": "c9cd7b6c-854f-47a4-afdb-dcbdc473f5ae",
   "metadata": {},
   "outputs": [
    {
     "name": "stdout",
     "output_type": "stream",
     "text": [
      "Answer from the basic LLM:\n",
      "\n",
      "Hegel did not explicitly discuss blossoms and buds in his philosophical works. However, his dialectical method can provide insight into the concept of blooms and buds. \n",
      "\n",
      "In Hegel's dialectical method, reality is seen as a process of continual development and change, where everything is in a constant state of becoming. This process follows a triadic pattern of thesis, antithesis, and synthesis. \n",
      "\n",
      "In the context of blossoms and buds, we can think of buds as the initial stage of development, representing the thesis. Buds contain the potential for growth and transformation, but they have not yet fully developed. As the bud grows and matures, it undergoes a process of negation or opposition, represented by the antithesis. This may be in the form of challenges, obstacles, or conflicts that the bud must overcome in order to fully develop. \n",
      "\n",
      "Finally, the bud reaches a state of full bloom, where it has integrated the opposing forces and reached a state of harmony and completeness. This represents the synthesis, where the potential of the bud has been fully realized and manifested in the form of a beautiful blossom. \n",
      "\n",
      "Overall, while Hegel did not directly discuss blossoms and buds, we can apply his dialectical method to understand the process of growth and development in nature and in human life. The process of blossoming from a bud can be seen as a reflection of the larger dialectical process of becoming and achieving completeness.\n"
     ]
    }
   ],
   "source": [
    "print(\"Answer from the basic LLM:\\n\")\n",
    "\n",
    "print(answerme(client, \"What did Hegel say about blossoms and buds? Please answer comprehensively\"))"
   ]
  },
  {
   "cell_type": "code",
   "execution_count": null,
   "id": "5fe490aa-9cf5-489a-8a4b-17bf37ed5f28",
   "metadata": {},
   "outputs": [],
   "source": []
  }
 ],
 "metadata": {
  "kernelspec": {
   "display_name": "Python 3 (ipykernel)",
   "language": "python",
   "name": "python3"
  },
  "language_info": {
   "codemirror_mode": {
    "name": "ipython",
    "version": 3
   },
   "file_extension": ".py",
   "mimetype": "text/x-python",
   "name": "python",
   "nbconvert_exporter": "python",
   "pygments_lexer": "ipython3",
   "version": "3.11.5"
  }
 },
 "nbformat": 4,
 "nbformat_minor": 5
}
