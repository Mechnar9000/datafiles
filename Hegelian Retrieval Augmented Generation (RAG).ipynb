{
 "cells": [
  {
   "cell_type": "code",
   "execution_count": 1,
   "id": "880060a8-abd9-4879-b2dd-102b91ecc424",
   "metadata": {},
   "outputs": [],
   "source": [
    "import os\n",
    "import re\n",
    "from openai import OpenAI\n",
    "import pandas as pd\n",
    "from sklearn.metrics.pairwise import cosine_similarity\n",
    "import numpy as np"
   ]
  },
  {
   "cell_type": "markdown",
   "id": "9226effd-56c1-4757-a5d3-a833b43f529e",
   "metadata": {},
   "source": [
    "The task here was to make a basic retrieval-augmented generation tool in as little time as possible. To do this, I called the OpenAI API for the LLM to avoid running anything on my side. It only took a couple of hours and, I hope, demonstrates the principles of RAG. \n",
    "\n",
    "Note: only data from the Phenomenology of Spirit was used here! So don't complain if it's not the best Hegelian philosophy! It's just a proof of concept!",

   ]
  },
  {
   "cell_type": "markdown",
   "id": "94084aef-9c86-4716-9136-87942278e946",
   "metadata": {},
   "source": [
    "# Importing the raw text data from a markdown file taken from a pdf parsed by llama"
   ]
  },
  {
   "cell_type": "code",
   "execution_count": 4,
   "id": "1ff4f573-4240-4224-a4c6-f2e39bb1bf76",
   "metadata": {},
   "outputs": [],
   "source": [
    "with open(\"hegelpos.md\", \"r\", encoding=\"utf8\") as ff:\n",
    "    data = ff.read()"
   ]
  },
  {
   "cell_type": "code",
   "execution_count": 5,
   "id": "cc5cb460-4f48-4176-8564-f50559fc8481",
   "metadata": {},
   "outputs": [
    {
     "data": {
      "text/plain": [
       "'\\n        Preface\\n\\n¶1. It is customary to begin a work by explaining in a preface the aim that the author\\nset himself in the work, his reasons for writing it, and the relationship in which he\\nbelieves it to stand to other earlier or contemporary treatments of the same subject.\\nIn the case of a philosophical work, however, such an explanation seems not only\\nsuperfluous but, in view of the nature of the Thing,1                          even inappropriate and\\nmisleading. For the sort of statement that might properly be made about philosophy\\nin a preface—say, a historical            report   of the main direction and standpoint, of the\\ngeneral content and results, a string of desultory assertions and assurances about the\\ntrue—cannot be accepted as the way and manner in which to expound philosophical\\ntruth. Also, philosophy moves essentially in the element2                            of universality that\\nembraces the particular within itself, and this creates the impression, more here\\nthan i'"
      ]
     },
     "execution_count": 5,
     "metadata": {},
     "output_type": "execute_result"
    }
   ],
   "source": [
    "data[:1000]"
   ]
  },
  {
   "cell_type": "code",
   "execution_count": 6,
   "id": "2e6782bd-c28f-43a1-8449-2915cdc35510",
   "metadata": {},
   "outputs": [
    {
     "data": {
      "text/plain": [
       "str"
      ]
     },
     "execution_count": 6,
     "metadata": {},
     "output_type": "execute_result"
    }
   ],
   "source": [
    "type(data)"
   ]
  },
  {
   "cell_type": "markdown",
   "id": "80751405-8425-4a96-bc63-c96ba01d1ac4",
   "metadata": {},
   "source": [
    "# Cleaning the text data a bit to make it easier for the LLM to parse"
   ]
  },
  {
   "cell_type": "code",
   "execution_count": 8,
   "id": "2507bf7b-0d60-45c3-b230-e01b2e3fbb42",
   "metadata": {},
   "outputs": [],
   "source": [
    "cleandata = data.strip()"
   ]
  },
  {
   "cell_type": "code",
   "execution_count": 9,
   "id": "805ee611-1cad-4466-b583-fd6b4caa73df",
   "metadata": {},
   "outputs": [],
   "source": [
    "cleandata = cleandata.replace(\"\\n\", \" \")"
   ]
  },
  {
   "cell_type": "code",
   "execution_count": 10,
   "id": "85d4890a-c332-416f-936c-2943bf7337f1",
   "metadata": {},
   "outputs": [],
   "source": [
    "pattern = '[\\uF000-\\uF999]'\n",
    "\n",
    "cleandata = re.sub(pattern, \" \", cleandata)"
   ]
  },
  {
   "cell_type": "code",
   "execution_count": 11,
   "id": "d5f34482-8799-4e65-8dc6-91f433ef785b",
   "metadata": {},
   "outputs": [],
   "source": [
    "pattern = '\\s+'\n",
    "\n",
    "cleandata = re.sub(pattern, \" \", cleandata)"
   ]
  },
  {
   "cell_type": "markdown",
   "id": "7951f3fc-3f59-491d-8a60-169e71858f64",
   "metadata": {},
   "source": [
    "# APPROACH 1"
   ]
  },
  {
   "cell_type": "markdown",
   "id": "04108432-98d9-4a43-b793-5e72b87dc66f",
   "metadata": {},
   "source": [
    "### Creating chunks using the existing aphorisms"
   ]
  },
  {
   "cell_type": "code",
   "execution_count": 14,
   "id": "57596ee0-3eb2-427a-8c41-b15846bbf994",
   "metadata": {},
   "outputs": [],
   "source": [
    "splitdata = cleandata.split(\"¶\")"
   ]
  },
  {
   "cell_type": "code",
   "execution_count": 15,
   "id": "669337aa-365c-47c1-b7d1-2fc9bcb9b710",
   "metadata": {},
   "outputs": [
    {
     "data": {
      "text/plain": [
       "'708. This simple shape has thus obliterated in itself the unrest of endless singularization—the singularization of the nature-element, which acts necessarily only as universal essence, but in its Being-there and movement acts contingently, as well as the singularization of the people which, dispersed into the particular masses of activity and into individual points of self-consciousness, has a Being-there of mani- fold sense and activity—and condensed it into tranquil individuality. This individu- ality is therefore confronted by the moment of unrest, it—the essence—is confronted by self-consciousness, for which, as the birthplace of that individuality, has nothing left for itself except to be pure activity. What belongs to the substance, the artist imparted entirely to his product, but to himself as a determinate individuality he gave no actuality in his product; he could confer perfection on his product only by discarding his particularity, by disembodying himself and ascending to the abstraction of pure activity.—In this first immediate production, the separation of the work from his self-conscious activity has not yet given way to their reunification; therefore the artefact is not for itself the actually ensouled artefact, it is a whole only together with its becoming. The common factor in the work of art, viz. that it is engendered in consciousness and made by human hands, is the moment of the concept existing as concept, which stands in contrast to the work. And if this concept, as artist or as spectator, is disinterested enough to declare the work of art as in its own self absolutely ensouled, and to forget himself, the agent or viewer, then we must offset this by insisting on the concept of spirit which cannot dispense with the moment of being conscious of itself. But this moment stands in opposition to the artefact because in this initial division of itself the concept gives the two sides their abstract, contrasting determinations of doing and of being-a-thing, and their return into the unity from which they set out has not yet come about.1 '"
      ]
     },
     "execution_count": 15,
     "metadata": {},
     "output_type": "execute_result"
    }
   ],
   "source": [
    "splitdata[708]"
   ]
  },
  {
   "cell_type": "markdown",
   "id": "bc7f678b-24dc-4f38-806b-06daa88fb599",
   "metadata": {},
   "source": [
    "# Creating API client from OpenAI"
   ]
  },
  {
   "cell_type": "code",
   "execution_count": 17,
   "id": "ed3e141f-4bb0-42a2-8647-6ea44140ec4a",
   "metadata": {},
   "outputs": [],
   "source": [
    "client = OpenAI(api_key=\"ADD YOUR OWN API KEY HERE IF YOU WISH TO RUN THE CODE\")"
   ]
  },
  {
   "cell_type": "code",
   "execution_count": 18,
   "id": "c5a97e99-dd18-4bae-a5d1-ae2cb3f0416b",
   "metadata": {},
   "outputs": [],
   "source": [
    "resp = client.chat.completions.create(\n",
    " model=\"gpt-3.5-turbo\",\n",
    " messages=[{\"role\": \"user\", \"content\": \"Hello world\"}]\n",
    ")"
   ]
  },
  {
   "cell_type": "code",
   "execution_count": 19,
   "id": "d43f36ef-eb21-409b-a892-a78a60acbb05",
   "metadata": {},
   "outputs": [
    {
     "data": {
      "text/plain": [
       "ChatCompletion(id='chatcmpl-A6OpU8S8Jcy4rWclyDClpxpc5wvEn', choices=[Choice(finish_reason='stop', index=0, logprobs=None, message=ChatCompletionMessage(content='Hello! How can I assist you today?', role='assistant', function_call=None, tool_calls=None, refusal=None))], created=1726088776, model='gpt-3.5-turbo-0125', object='chat.completion', service_tier=None, system_fingerprint=None, usage=CompletionUsage(completion_tokens=9, prompt_tokens=9, total_tokens=18))"
      ]
     },
     "execution_count": 19,
     "metadata": {},
     "output_type": "execute_result"
    }
   ],
   "source": [
    "resp"
   ]
  },
  {
   "cell_type": "code",
   "execution_count": 20,
   "id": "95c58143-2ea4-41d4-9fd0-df7d330e7ead",
   "metadata": {},
   "outputs": [
    {
     "data": {
      "text/plain": [
       "'Hello! How can I assist you today?'"
      ]
     },
     "execution_count": 20,
     "metadata": {},
     "output_type": "execute_result"
    }
   ],
   "source": [
    "resp.choices[0].message.content"
   ]
  },
  {
   "cell_type": "markdown",
   "id": "ee377e59-36ac-49a7-8514-7f0282234f5e",
   "metadata": {},
   "source": [
    "# Function to return text response from client query"
   ]
  },
  {
   "cell_type": "code",
   "execution_count": 22,
   "id": "4a04e5b7-dd70-4ec5-81dc-af27d476f347",
   "metadata": {},
   "outputs": [],
   "source": [
    "def answerme(client, question):\n",
    "\n",
    "    resp = client.chat.completions.create(model=\"gpt-3.5-turbo\", messages=[{\"role\": \"user\", \"content\": question}])\n",
    "\n",
    "    return resp.choices[0].message.content"
   ]
  },
  {
   "cell_type": "code",
   "execution_count": 23,
   "id": "88d84e5c-006e-414b-b58d-fc49ba15c179",
   "metadata": {},
   "outputs": [
    {
     "name": "stdout",
     "output_type": "stream",
     "text": [
      "The port of Aysén is famous for its stunning natural beauty and is a popular destination for tourists seeking outdoor activities such as fishing, hiking, and kayaking. It is also known for its seafood, particularly its salmon production. Additionally, Aysén serves as an important transportation hub for the region, connecting the city of Coyhaique with other towns and cities in southern Chile.\n"
     ]
    }
   ],
   "source": [
    "print(answerme(client, \"What is the port of Aysén famous for?\"))"
   ]
  },
  {
   "cell_type": "markdown",
   "id": "727af8bb-68cf-42db-ad18-02f465ab8fe8",
   "metadata": {},
   "source": [
    "# Function to embed a chunk of text"
   ]
  },
  {
   "cell_type": "code",
   "execution_count": 25,
   "id": "eacdb279-cf09-40bd-a9e5-00abb670f839",
   "metadata": {},
   "outputs": [],
   "source": [
    "def get_embedding(client, text, model=\"text-embedding-ada-002\"):\n",
    "   text = text.replace(\"\\n\", \" \")\n",
    "   return client.embeddings.create(input = [text], model=model).data[0].embedding"
   ]
  },
  {
   "cell_type": "markdown",
   "id": "c3b511b1-a9a7-4527-b180-5f7410e76354",
   "metadata": {},
   "source": [
    "# Vectorizing the text"
   ]
  },
  {
   "cell_type": "code",
   "execution_count": 27,
   "id": "637816ef-9620-4f2d-ac01-5d850a20a642",
   "metadata": {},
   "outputs": [],
   "source": [
    "#This only needs to be run once to obtain the vectors. \n",
    "\n",
    "#vectors = []\n",
    "\n",
    "#for _ in range(0, len(splitdata)):\n",
    "\n",
    "    #try:\n",
    "        #vectors.append(get_embedding(client, splitdata[_]))\n",
    "    #except:\n",
    "        #vectors.append(np.zeros(1536))"
   ]
  },
  {
   "cell_type": "code",
   "execution_count": 28,
   "id": "a7f433d5-e146-4207-a9c4-dce49bece9de",
   "metadata": {},
   "outputs": [],
   "source": [
    "#df = pd.DataFrame(vectors)"
   ]
  },
  {
   "cell_type": "code",
   "execution_count": 29,
   "id": "bc7e7569-8382-424d-b7e0-0cfd351d1d66",
   "metadata": {},
   "outputs": [],
   "source": [
    "#df.to_csv(\"vectors.csv\")"
   ]
  },
  {
   "cell_type": "markdown",
   "id": "29286a43-ff68-48f4-bd2b-4df421aaf4df",
   "metadata": {},
   "source": [
    "# Importing existing vector frame"
   ]
  },
  {
   "cell_type": "code",
   "execution_count": 31,
   "id": "545d9c19-04e0-416c-b572-2a194f3951ed",
   "metadata": {},
   "outputs": [],
   "source": [
    "df = pd.read_csv(\"vectors.csv\", index_col=0)"
   ]
  },
  {
   "cell_type": "code",
   "execution_count": 32,
   "id": "7c31cf2a-93bc-4182-a654-7877ae7e678b",
   "metadata": {},
   "outputs": [
    {
     "data": {
      "text/html": [
       "<div>\n",
       "<style scoped>\n",
       "    .dataframe tbody tr th:only-of-type {\n",
       "        vertical-align: middle;\n",
       "    }\n",
       "\n",
       "    .dataframe tbody tr th {\n",
       "        vertical-align: top;\n",
       "    }\n",
       "\n",
       "    .dataframe thead th {\n",
       "        text-align: right;\n",
       "    }\n",
       "</style>\n",
       "<table border=\"1\" class=\"dataframe\">\n",
       "  <thead>\n",
       "    <tr style=\"text-align: right;\">\n",
       "      <th></th>\n",
       "      <th>0</th>\n",
       "      <th>1</th>\n",
       "      <th>2</th>\n",
       "      <th>3</th>\n",
       "      <th>4</th>\n",
       "      <th>5</th>\n",
       "      <th>6</th>\n",
       "      <th>7</th>\n",
       "      <th>8</th>\n",
       "      <th>9</th>\n",
       "      <th>...</th>\n",
       "      <th>1526</th>\n",
       "      <th>1527</th>\n",
       "      <th>1528</th>\n",
       "      <th>1529</th>\n",
       "      <th>1530</th>\n",
       "      <th>1531</th>\n",
       "      <th>1532</th>\n",
       "      <th>1533</th>\n",
       "      <th>1534</th>\n",
       "      <th>1535</th>\n",
       "    </tr>\n",
       "  </thead>\n",
       "  <tbody>\n",
       "    <tr>\n",
       "      <th>0</th>\n",
       "      <td>0.014789</td>\n",
       "      <td>-0.010883</td>\n",
       "      <td>-0.037749</td>\n",
       "      <td>-0.007581</td>\n",
       "      <td>0.006367</td>\n",
       "      <td>0.023629</td>\n",
       "      <td>0.005017</td>\n",
       "      <td>-0.008140</td>\n",
       "      <td>-0.020314</td>\n",
       "      <td>0.003286</td>\n",
       "      <td>...</td>\n",
       "      <td>0.002692</td>\n",
       "      <td>-0.011487</td>\n",
       "      <td>0.005162</td>\n",
       "      <td>-0.015997</td>\n",
       "      <td>-0.016832</td>\n",
       "      <td>-0.007137</td>\n",
       "      <td>0.018040</td>\n",
       "      <td>-0.021830</td>\n",
       "      <td>0.018541</td>\n",
       "      <td>-0.013138</td>\n",
       "    </tr>\n",
       "    <tr>\n",
       "      <th>1</th>\n",
       "      <td>0.016903</td>\n",
       "      <td>0.012458</td>\n",
       "      <td>0.012169</td>\n",
       "      <td>-0.010006</td>\n",
       "      <td>-0.014281</td>\n",
       "      <td>0.013520</td>\n",
       "      <td>-0.031656</td>\n",
       "      <td>-0.008517</td>\n",
       "      <td>-0.006711</td>\n",
       "      <td>-0.005488</td>\n",
       "      <td>...</td>\n",
       "      <td>0.004806</td>\n",
       "      <td>-0.005062</td>\n",
       "      <td>0.011960</td>\n",
       "      <td>-0.008845</td>\n",
       "      <td>-0.038869</td>\n",
       "      <td>-0.032863</td>\n",
       "      <td>0.015618</td>\n",
       "      <td>-0.004383</td>\n",
       "      <td>0.009566</td>\n",
       "      <td>-0.050068</td>\n",
       "    </tr>\n",
       "    <tr>\n",
       "      <th>2</th>\n",
       "      <td>0.012877</td>\n",
       "      <td>0.003183</td>\n",
       "      <td>0.008545</td>\n",
       "      <td>-0.001652</td>\n",
       "      <td>-0.015958</td>\n",
       "      <td>0.017289</td>\n",
       "      <td>-0.017595</td>\n",
       "      <td>-0.013489</td>\n",
       "      <td>-0.009450</td>\n",
       "      <td>-0.012411</td>\n",
       "      <td>...</td>\n",
       "      <td>0.009403</td>\n",
       "      <td>-0.014853</td>\n",
       "      <td>0.015093</td>\n",
       "      <td>-0.013975</td>\n",
       "      <td>-0.035110</td>\n",
       "      <td>-0.025461</td>\n",
       "      <td>0.014521</td>\n",
       "      <td>0.003266</td>\n",
       "      <td>-0.000340</td>\n",
       "      <td>-0.039130</td>\n",
       "    </tr>\n",
       "    <tr>\n",
       "      <th>3</th>\n",
       "      <td>-0.008276</td>\n",
       "      <td>0.001609</td>\n",
       "      <td>0.025049</td>\n",
       "      <td>-0.009256</td>\n",
       "      <td>-0.014511</td>\n",
       "      <td>0.017089</td>\n",
       "      <td>-0.016095</td>\n",
       "      <td>-0.022203</td>\n",
       "      <td>-0.030660</td>\n",
       "      <td>-0.030365</td>\n",
       "      <td>...</td>\n",
       "      <td>0.001323</td>\n",
       "      <td>0.003054</td>\n",
       "      <td>0.014807</td>\n",
       "      <td>-0.015746</td>\n",
       "      <td>-0.032190</td>\n",
       "      <td>-0.010471</td>\n",
       "      <td>-0.002618</td>\n",
       "      <td>-0.006940</td>\n",
       "      <td>-0.003950</td>\n",
       "      <td>-0.043386</td>\n",
       "    </tr>\n",
       "    <tr>\n",
       "      <th>4</th>\n",
       "      <td>0.013413</td>\n",
       "      <td>-0.000642</td>\n",
       "      <td>0.026282</td>\n",
       "      <td>-0.017366</td>\n",
       "      <td>-0.002777</td>\n",
       "      <td>0.016197</td>\n",
       "      <td>-0.018176</td>\n",
       "      <td>0.006843</td>\n",
       "      <td>-0.009852</td>\n",
       "      <td>-0.012204</td>\n",
       "      <td>...</td>\n",
       "      <td>0.017047</td>\n",
       "      <td>0.004710</td>\n",
       "      <td>0.008610</td>\n",
       "      <td>-0.025777</td>\n",
       "      <td>-0.030294</td>\n",
       "      <td>-0.017858</td>\n",
       "      <td>0.032447</td>\n",
       "      <td>-0.007208</td>\n",
       "      <td>-0.016037</td>\n",
       "      <td>-0.038665</td>\n",
       "    </tr>\n",
       "    <tr>\n",
       "      <th>...</th>\n",
       "      <td>...</td>\n",
       "      <td>...</td>\n",
       "      <td>...</td>\n",
       "      <td>...</td>\n",
       "      <td>...</td>\n",
       "      <td>...</td>\n",
       "      <td>...</td>\n",
       "      <td>...</td>\n",
       "      <td>...</td>\n",
       "      <td>...</td>\n",
       "      <td>...</td>\n",
       "      <td>...</td>\n",
       "      <td>...</td>\n",
       "      <td>...</td>\n",
       "      <td>...</td>\n",
       "      <td>...</td>\n",
       "      <td>...</td>\n",
       "      <td>...</td>\n",
       "      <td>...</td>\n",
       "      <td>...</td>\n",
       "      <td>...</td>\n",
       "    </tr>\n",
       "    <tr>\n",
       "      <th>2718</th>\n",
       "      <td>-0.011102</td>\n",
       "      <td>0.007972</td>\n",
       "      <td>0.017217</td>\n",
       "      <td>-0.009396</td>\n",
       "      <td>-0.017637</td>\n",
       "      <td>0.006784</td>\n",
       "      <td>-0.001374</td>\n",
       "      <td>-0.012690</td>\n",
       "      <td>-0.012834</td>\n",
       "      <td>-0.026036</td>\n",
       "      <td>...</td>\n",
       "      <td>0.017965</td>\n",
       "      <td>-0.010059</td>\n",
       "      <td>0.012867</td>\n",
       "      <td>-0.033069</td>\n",
       "      <td>-0.030943</td>\n",
       "      <td>0.008149</td>\n",
       "      <td>0.008950</td>\n",
       "      <td>-0.005922</td>\n",
       "      <td>-0.006791</td>\n",
       "      <td>-0.029841</td>\n",
       "    </tr>\n",
       "    <tr>\n",
       "      <th>2719</th>\n",
       "      <td>-0.012151</td>\n",
       "      <td>0.002775</td>\n",
       "      <td>0.023420</td>\n",
       "      <td>0.001810</td>\n",
       "      <td>-0.008421</td>\n",
       "      <td>0.025766</td>\n",
       "      <td>-0.013826</td>\n",
       "      <td>-0.032601</td>\n",
       "      <td>-0.023718</td>\n",
       "      <td>-0.010978</td>\n",
       "      <td>...</td>\n",
       "      <td>0.035368</td>\n",
       "      <td>-0.016097</td>\n",
       "      <td>0.024627</td>\n",
       "      <td>-0.042718</td>\n",
       "      <td>-0.002151</td>\n",
       "      <td>0.033632</td>\n",
       "      <td>0.003940</td>\n",
       "      <td>-0.005831</td>\n",
       "      <td>-0.006591</td>\n",
       "      <td>-0.035368</td>\n",
       "    </tr>\n",
       "    <tr>\n",
       "      <th>2720</th>\n",
       "      <td>0.010984</td>\n",
       "      <td>-0.017450</td>\n",
       "      <td>0.026957</td>\n",
       "      <td>-0.004615</td>\n",
       "      <td>-0.008260</td>\n",
       "      <td>0.027577</td>\n",
       "      <td>-0.003366</td>\n",
       "      <td>-0.029478</td>\n",
       "      <td>-0.020322</td>\n",
       "      <td>0.009750</td>\n",
       "      <td>...</td>\n",
       "      <td>0.021199</td>\n",
       "      <td>-0.013660</td>\n",
       "      <td>0.002067</td>\n",
       "      <td>-0.025055</td>\n",
       "      <td>-0.025891</td>\n",
       "      <td>0.001400</td>\n",
       "      <td>-0.001155</td>\n",
       "      <td>-0.020403</td>\n",
       "      <td>-0.016883</td>\n",
       "      <td>-0.017733</td>\n",
       "    </tr>\n",
       "    <tr>\n",
       "      <th>2721</th>\n",
       "      <td>0.007435</td>\n",
       "      <td>-0.009077</td>\n",
       "      <td>-0.009428</td>\n",
       "      <td>0.002120</td>\n",
       "      <td>-0.025064</td>\n",
       "      <td>-0.004552</td>\n",
       "      <td>-0.009012</td>\n",
       "      <td>-0.023025</td>\n",
       "      <td>-0.007493</td>\n",
       "      <td>-0.018233</td>\n",
       "      <td>...</td>\n",
       "      <td>0.006617</td>\n",
       "      <td>-0.010324</td>\n",
       "      <td>0.009376</td>\n",
       "      <td>-0.031920</td>\n",
       "      <td>-0.016947</td>\n",
       "      <td>0.023155</td>\n",
       "      <td>-0.001584</td>\n",
       "      <td>0.005912</td>\n",
       "      <td>0.006214</td>\n",
       "      <td>-0.010363</td>\n",
       "    </tr>\n",
       "    <tr>\n",
       "      <th>2722</th>\n",
       "      <td>-0.000715</td>\n",
       "      <td>-0.017246</td>\n",
       "      <td>0.007301</td>\n",
       "      <td>-0.017598</td>\n",
       "      <td>-0.017637</td>\n",
       "      <td>0.019174</td>\n",
       "      <td>-0.019773</td>\n",
       "      <td>-0.009392</td>\n",
       "      <td>0.000672</td>\n",
       "      <td>-0.013365</td>\n",
       "      <td>...</td>\n",
       "      <td>0.013072</td>\n",
       "      <td>-0.007438</td>\n",
       "      <td>0.007158</td>\n",
       "      <td>-0.023408</td>\n",
       "      <td>-0.033555</td>\n",
       "      <td>0.014589</td>\n",
       "      <td>0.007184</td>\n",
       "      <td>0.007373</td>\n",
       "      <td>-0.009997</td>\n",
       "      <td>-0.007028</td>\n",
       "    </tr>\n",
       "  </tbody>\n",
       "</table>\n",
       "<p>2723 rows × 1536 columns</p>\n",
       "</div>"
      ],
      "text/plain": [
       "             0         1         2         3         4         5         6  \\\n",
       "0     0.014789 -0.010883 -0.037749 -0.007581  0.006367  0.023629  0.005017   \n",
       "1     0.016903  0.012458  0.012169 -0.010006 -0.014281  0.013520 -0.031656   \n",
       "2     0.012877  0.003183  0.008545 -0.001652 -0.015958  0.017289 -0.017595   \n",
       "3    -0.008276  0.001609  0.025049 -0.009256 -0.014511  0.017089 -0.016095   \n",
       "4     0.013413 -0.000642  0.026282 -0.017366 -0.002777  0.016197 -0.018176   \n",
       "...        ...       ...       ...       ...       ...       ...       ...   \n",
       "2718 -0.011102  0.007972  0.017217 -0.009396 -0.017637  0.006784 -0.001374   \n",
       "2719 -0.012151  0.002775  0.023420  0.001810 -0.008421  0.025766 -0.013826   \n",
       "2720  0.010984 -0.017450  0.026957 -0.004615 -0.008260  0.027577 -0.003366   \n",
       "2721  0.007435 -0.009077 -0.009428  0.002120 -0.025064 -0.004552 -0.009012   \n",
       "2722 -0.000715 -0.017246  0.007301 -0.017598 -0.017637  0.019174 -0.019773   \n",
       "\n",
       "             7         8         9  ...      1526      1527      1528  \\\n",
       "0    -0.008140 -0.020314  0.003286  ...  0.002692 -0.011487  0.005162   \n",
       "1    -0.008517 -0.006711 -0.005488  ...  0.004806 -0.005062  0.011960   \n",
       "2    -0.013489 -0.009450 -0.012411  ...  0.009403 -0.014853  0.015093   \n",
       "3    -0.022203 -0.030660 -0.030365  ...  0.001323  0.003054  0.014807   \n",
       "4     0.006843 -0.009852 -0.012204  ...  0.017047  0.004710  0.008610   \n",
       "...        ...       ...       ...  ...       ...       ...       ...   \n",
       "2718 -0.012690 -0.012834 -0.026036  ...  0.017965 -0.010059  0.012867   \n",
       "2719 -0.032601 -0.023718 -0.010978  ...  0.035368 -0.016097  0.024627   \n",
       "2720 -0.029478 -0.020322  0.009750  ...  0.021199 -0.013660  0.002067   \n",
       "2721 -0.023025 -0.007493 -0.018233  ...  0.006617 -0.010324  0.009376   \n",
       "2722 -0.009392  0.000672 -0.013365  ...  0.013072 -0.007438  0.007158   \n",
       "\n",
       "          1529      1530      1531      1532      1533      1534      1535  \n",
       "0    -0.015997 -0.016832 -0.007137  0.018040 -0.021830  0.018541 -0.013138  \n",
       "1    -0.008845 -0.038869 -0.032863  0.015618 -0.004383  0.009566 -0.050068  \n",
       "2    -0.013975 -0.035110 -0.025461  0.014521  0.003266 -0.000340 -0.039130  \n",
       "3    -0.015746 -0.032190 -0.010471 -0.002618 -0.006940 -0.003950 -0.043386  \n",
       "4    -0.025777 -0.030294 -0.017858  0.032447 -0.007208 -0.016037 -0.038665  \n",
       "...        ...       ...       ...       ...       ...       ...       ...  \n",
       "2718 -0.033069 -0.030943  0.008149  0.008950 -0.005922 -0.006791 -0.029841  \n",
       "2719 -0.042718 -0.002151  0.033632  0.003940 -0.005831 -0.006591 -0.035368  \n",
       "2720 -0.025055 -0.025891  0.001400 -0.001155 -0.020403 -0.016883 -0.017733  \n",
       "2721 -0.031920 -0.016947  0.023155 -0.001584  0.005912  0.006214 -0.010363  \n",
       "2722 -0.023408 -0.033555  0.014589  0.007184  0.007373 -0.009997 -0.007028  \n",
       "\n",
       "[2723 rows x 1536 columns]"
      ]
     },
     "execution_count": 32,
     "metadata": {},
     "output_type": "execute_result"
    }
   ],
   "source": [
    "df"
   ]
  },
  {
   "cell_type": "code",
   "execution_count": 33,
   "id": "6d0ff333-72de-4423-83b0-a2609eddfac0",
   "metadata": {},
   "outputs": [
    {
     "data": {
      "text/plain": [
       "2723"
      ]
     },
     "execution_count": 33,
     "metadata": {},
     "output_type": "execute_result"
    }
   ],
   "source": [
    "# Check the indexing still matches up\n",
    "\n",
    "len(splitdata)"
   ]
  },
  {
   "cell_type": "markdown",
   "id": "b6cd93d5-4ef8-4331-bd3d-071718bd8d81",
   "metadata": {},
   "source": [
    "# Function to return top k matches using cosine simiarlity"
   ]
  },
  {
   "cell_type": "code",
   "execution_count": 35,
   "id": "e2c4474a-a833-476d-a8de-6aafe3521977",
   "metadata": {},
   "outputs": [],
   "source": [
    "def find_top_k_matches(query, vecdf, textdata, k=5):\n",
    "    query_embedding = np.array(get_embedding(client, query, model=\"text-embedding-ada-002\"))\n",
    "    \n",
    "    embeddings = vecdf.to_numpy()\n",
    "    \n",
    "    similarities = cosine_similarity(query_embedding.reshape(1,-1), embeddings).flatten()\n",
    "\n",
    "    top_k_indices = similarities.argsort()[-k:][::-1]\n",
    "\n",
    "    return top_k_indices\n"
   ]
  },
  {
   "cell_type": "code",
   "execution_count": 36,
   "id": "16e05480-3a38-4e0b-818a-6c492a718e62",
   "metadata": {},
   "outputs": [],
   "source": [
    "topk = find_top_k_matches(\"What is the spirit in Hegel's hierarchy?\", df, textdata=splitdata, k=5)"
   ]
  },
  {
   "cell_type": "markdown",
   "id": "f643dd0c-69fd-426e-84bc-d3b84e51032a",
   "metadata": {},
   "source": [
    "# Example of top k matches found"
   ]
  },
  {
   "cell_type": "code",
   "execution_count": 38,
   "id": "7ab89c48-f572-4098-9070-c8121e1e4dba",
   "metadata": {},
   "outputs": [
    {
     "name": "stdout",
     "output_type": "stream",
     "text": [
      "767. 1. Spirit, as conceived by Christianity, involves three stages that correspond not only to the three persons of the Trinity, but to the three parts of Hegel’s system. The pure substance, or God the Father, is thinking or logic: cf. Hegel, SL, p.29: ‘It can therefore be said that this content is the exposition of God as he is in his eternal essence before the creation of nature and of a finite spirit.’ Logic descends into the singularity of Christ or into nature, the second part of the system. This involves representation especially, not only in religion, but also in Hegel’s system, since the description of nature requires determinate empirical concepts, such as that of a plant, not only pure thoughts, such as those of Being or of substance. Christ is other than God and nature is other than pure thought. Finally, in the holy spirit and in Hegel’s account of mind or spirit, spirit returns from otherness and representation into self- consciousness. Each of these stages is a sort of circle, which, in completing itself, moves on to the next stage: cf. Enc. I, \n",
      "353. Spirit emerges from observing reason as a singular consciousness, in search of the happiness it expects to find, or produce, in unity with other self-consciousnesses. Unlike the preceding supposition this does not correspond to any obvious historical occurrence, but to the logical sequence of Hegel’s thoughts. This suggests a tension between the historical and logical sequences. However, Hegel also has in mind an alienated modern individual, seeking a restoration of the secure order lost in the French revolution, Kantian morality, etc. \n",
      "443. 1. Spirit follows the Hegelian pattern of immediate unity-division-restoration of unity on a higher level. The actual self-consciousness of absolute spirit is religion, the subject of chapter VII, while chapter VI presents the consciousness of absolute spirit: see Jarczyk and Labarrière I, pp.749f., n.12. A . THE TRUE SPIRIT , THE ETHICAL ORDER \n",
      "112 Addition associates mirrors with ‘reflection’ rather than speculation. Spirit: Geist. In Enc. III, Hegel explicitly distinguishes three stages of spirit: ‘subjective spirit’ (roughly, the individual mind), ‘objective spirit’ (the collective social life of a people), and ‘absolute spirit’ (art, religion, and philosophy). He does not draw this distinction explicitly in PS, and tends to call the individual mind the ‘soul’ (Seele) rather than the ‘spirit’: see \n",
      "442. 1. Hegel summarizes the whole development of spirit. It begins with the tightly knit ethical life of the Greek city-state. This is rent apart by its self-knowledge, leading to the abstract ‘right’ of the Roman Empire, which sets the Self in opposition to the substance. Division persists in the history of Europe down to the French revolution: there are two realms, that of culture (the hither side) and that of faith (the beyond). These realms are --- shattered by the ‘insight’ of the enlightenment, the conceptual penetration of an object that results in its dissolution. The two realms thus coalesce into morality, where the Self is all- important, culminating in conscience. \n"
     ]
    }
   ],
   "source": [
    "for _ in topk:\n",
    "\n",
    "    print(splitdata[_])"
   ]
  },
  {
   "cell_type": "markdown",
   "id": "91801151-7419-4c78-8c29-f9c805e0c950",
   "metadata": {},
   "source": [
    "# Function to run the RAG model"
   ]
  },
  {
   "cell_type": "code",
   "execution_count": 40,
   "id": "fdfe1e0b-29a7-483a-803c-48249db19cd2",
   "metadata": {},
   "outputs": [],
   "source": [
    "def rag(client, textdata, vecdf, query, k):\n",
    "\n",
    "    ind = find_top_k_matches(query, vecdf, textdata, k)\n",
    "\n",
    "    info = \". \".join([f\"\\nInfo chunk {_+1}:\\n\\n\" + textdata[ind[_]] + \"\\n\" for _ in range(len(ind))])\n",
    "\n",
    "    combquery = f\"The question is: {query}, please make use of the following retrieved text written by Hegel when answering the question. NOTE: if you cannot find suitable information below, return 'I don't know':\\n {info}\"\n",
    "\n",
    "    print(\"What the LLM sees:\\n\")\n",
    "    print(combquery + \"\\n\\n\")\n",
    "\n",
    "    print(\"Resulting answer:\\n\") \n",
    "    return answerme(client, combquery)"
   ]
  },
  {
   "cell_type": "markdown",
   "id": "2019b72f-0b4b-47c6-a863-e5571fcceac7",
   "metadata": {},
   "source": [
    "# Comparison of RAG output vs default output"
   ]
  },
  {
   "cell_type": "code",
   "execution_count": 42,
   "id": "07dd801e-66ce-45d5-ae82-74087c36b486",
   "metadata": {},
   "outputs": [
    {
     "name": "stdout",
     "output_type": "stream",
     "text": [
      "What the LLM sees:\n",
      "\n",
      "The question is: What is spirit in Hegel's hierarchy?, please make use of the following retrieved text written by Hegel when answering the question. NOTE: if you cannot find suitable information below, return 'I don't know':\n",
      " \n",
      "Info chunk 1:\n",
      "\n",
      "767. 1. Spirit, as conceived by Christianity, involves three stages that correspond not only to the three persons of the Trinity, but to the three parts of Hegel’s system. The pure substance, or God the Father, is thinking or logic: cf. Hegel, SL, p.29: ‘It can therefore be said that this content is the exposition of God as he is in his eternal essence before the creation of nature and of a finite spirit.’ Logic descends into the singularity of Christ or into nature, the second part of the system. This involves representation especially, not only in religion, but also in Hegel’s system, since the description of nature requires determinate empirical concepts, such as that of a plant, not only pure thoughts, such as those of Being or of substance. Christ is other than God and nature is other than pure thought. Finally, in the holy spirit and in Hegel’s account of mind or spirit, spirit returns from otherness and representation into self- consciousness. Each of these stages is a sort of circle, which, in completing itself, moves on to the next stage: cf. Enc. I, \n",
      ". \n",
      "Info chunk 2:\n",
      "\n",
      "353. Spirit emerges from observing reason as a singular consciousness, in search of the happiness it expects to find, or produce, in unity with other self-consciousnesses. Unlike the preceding supposition this does not correspond to any obvious historical occurrence, but to the logical sequence of Hegel’s thoughts. This suggests a tension between the historical and logical sequences. However, Hegel also has in mind an alienated modern individual, seeking a restoration of the secure order lost in the French revolution, Kantian morality, etc. \n",
      ". \n",
      "Info chunk 3:\n",
      "\n",
      "112 Addition associates mirrors with ‘reflection’ rather than speculation. Spirit: Geist. In Enc. III, Hegel explicitly distinguishes three stages of spirit: ‘subjective spirit’ (roughly, the individual mind), ‘objective spirit’ (the collective social life of a people), and ‘absolute spirit’ (art, religion, and philosophy). He does not draw this distinction explicitly in PS, and tends to call the individual mind the ‘soul’ (Seele) rather than the ‘spirit’: see \n",
      ". \n",
      "Info chunk 4:\n",
      "\n",
      "443. 1. Spirit follows the Hegelian pattern of immediate unity-division-restoration of unity on a higher level. The actual self-consciousness of absolute spirit is religion, the subject of chapter VII, while chapter VI presents the consciousness of absolute spirit: see Jarczyk and Labarrière I, pp.749f., n.12. A . THE TRUE SPIRIT , THE ETHICAL ORDER \n",
      ". \n",
      "Info chunk 5:\n",
      "\n",
      "438. 1. In PS, spirit is primarily the collective spirit of a people. It is the truth of reason in that it fulfils what was initially only reason’s subjective certainty of being all reality. Hegel then summarizes the stages by which this truth was reached. Observing reason (\n",
      ". \n",
      "Info chunk 6:\n",
      "\n",
      "442. 1. Hegel summarizes the whole development of spirit. It begins with the tightly knit ethical life of the Greek city-state. This is rent apart by its self-knowledge, leading to the abstract ‘right’ of the Roman Empire, which sets the Self in opposition to the substance. Division persists in the history of Europe down to the French revolution: there are two realms, that of culture (the hither side) and that of faith (the beyond). These realms are --- shattered by the ‘insight’ of the enlightenment, the conceptual penetration of an object that results in its dissolution. The two realms thus coalesce into morality, where the Self is all- important, culminating in conscience. \n",
      "\n",
      "\n",
      "\n",
      "Resulting answer:\n",
      "\n",
      "Spirit in Hegel's hierarchy refers to the concept of subjective spirit, objective spirit, and absolute spirit. Subjective spirit refers to the individual mind, objective spirit represents the collective social life of a people, and absolute spirit encompasses art, religion, and philosophy. These three stages of spirit move in a circular motion, completing themselves before moving on to the next stage. Spirit is seen as following the Hegelian pattern of immediate unity, division, and restoration of unity on a higher level. Ultimately, Hegel sees spirit as the collective spirit of a people, fulfilling reason's subjective certainty of being all reality. Hegel emphasizes the development and evolution of spirit throughout history, from the tightly knit ethical life of the Greek city-state to the abstract \"right\" of the Roman Empire, and onwards through various historical events such as the French revolution and the enlightenment.\n"
     ]
    }
   ],
   "source": [
    "print(rag(client, textdata=splitdata, vecdf=df, query=\"What is spirit in Hegel's hierarchy?\", k=6))"
   ]
  },
  {
   "cell_type": "code",
   "execution_count": 43,
   "id": "417287dd-0bdc-4c0f-9e24-1ce3eaf3fdcb",
   "metadata": {},
   "outputs": [
    {
     "name": "stdout",
     "output_type": "stream",
     "text": [
      "Answer from the basic LLM:\n",
      "\n",
      "In Hegel's philosophy, spirit (Geist) is the highest and most complex level in the hierarchy of development. Spirit is the culmination of the dialectical process of history, in which the contradictions and conflicts of the preceding stages (nature and human consciousness) are reconciled and synthesized at a higher level of self-awareness and freedom.\n",
      "\n",
      "Spirit is characterized by self-consciousness, rationality, and freedom, and is manifested in various forms such as art, religion, and philosophy. It is through spirit that individuals and societies come to understand themselves as part of a larger whole and strive towards self-realization and ethical action.\n",
      "\n",
      "Overall, spirit represents the highest stage of human development according to Hegel, where individuals and societies achieve self-awareness, moral autonomy, and unity with the absolute (God or the universal spirit).\n"
     ]
    }
   ],
   "source": [
    "print(\"Answer from the basic LLM:\\n\")\n",
    "\n",
    "print(answerme(client, \"What is spirit in Hegel's hierarchy?\"))"
   ]
  },
  {
   "cell_type": "code",
   "execution_count": 44,
   "id": "178ae06e-a22c-4eb8-9089-7fb43ef12d35",
   "metadata": {},
   "outputs": [
    {
     "name": "stdout",
     "output_type": "stream",
     "text": [
      "What the LLM sees:\n",
      "\n",
      "The question is: What is the the abstract universality of Being according to Hegel?, please make use of the following retrieved text written by Hegel when answering the question. NOTE: if you cannot find suitable information below, return 'I don't know':\n",
      " \n",
      "Info chunk 1:\n",
      "\n",
      "51). In Hegel’s system it corresponds to the transition from Logic to the philosophy of nature, showing how the logical ‘Idea’ necessarily burgeons into a world of space, time, matter, etc. and eventually into the human mind itself. The ‘becoming of Being-there as Being-there’ is associated with (among other things) this process, the transition from logic to nature, while the ‘becoming of the essence’ is presented in the Logic itself, the extraction of the logical essence of the world and the passage to higher and higher logical categories. The becoming of the ‘substance’, i.e. of the logical ‘essence’, passes over into ‘externality’, i.e. nature, where it is ‘for another’, i.e. known to us. The becoming of Being-there is the ‘withdrawal into essence’, perhaps in the sense that nature leads on to mind, the culminating phase of which is philosophy, i.e. logic. \n",
      ". \n",
      "Info chunk 2:\n",
      "\n",
      "774. 1. God creates the world. This is the way in which religious representation presents what is in fact a logical necessity, that pure thought or the concept should actualize itself in concrete reality or Being for another. Hegel is attempting to explain why there is anything at all rather than nothing. His argument is that God, or pure thought, could not be what it is, if it did not actualize itself, that God, abstract thought, etc. could not be, or be appropriately described as, God, abstract, etc. unless there were something concrete, etc. contrasting with them. \n",
      ". \n",
      "Info chunk 3:\n",
      "\n",
      "112. 1. Hegel uses ‘universal’ liberally: the object of perception is universal in that it has many properties. Perception does not simply supplant sensory certainty. It incorporates the sensory ‘wealth’ that sensory certainty gestured towards but could not digest. Hegel has the concept expressed by his later use of aufheben (‘abolish–preserve–elevate’), even if he does not often use the word in this way yet: but see \n",
      ". \n",
      "Info chunk 4:\n",
      "\n",
      "50): when we infer the existence of God from the ‘finite’ world, we alter our conception of the world (or ‘Being-there’). The world is no longer conceived as, say, an aggregate of contingent entities or as merely orderly. It is a world governed by universal laws and is an organic purposive whole. To infer the existence of God is not, in Hegel’s view, to infer the existence of an entity distinct from the world. It is to ascend from ‘Being’ to ‘thought’ and thus to elevate the world to thought. By contrast, the ‘ontological proof ’ proceeds in the reverse direction, from thought to Being (Enc. I, \n",
      ". \n",
      "Info chunk 5:\n",
      "\n",
      "88). These look much like propositions, though not propositions of the same type as ‘God/the --- absolute is Being’, let alone ‘The cat is black’. Nevertheless, Hegel’s idea is that the essential elements in this progression are the ‘thought-determinations’, Being, nothing, becoming, etc.—or, in PS, the ‘shapes of consciousness’. The other words in the sentences in which they figure are simply the explanatory framework, explaining in particular why each thought- determination moves on into the next. ‘The true is the subject’, not in the sense of ‘subject’ in which it is correlative with a predicate, but in the sense of the subject of activity, as in \n",
      ". \n",
      "Info chunk 6:\n",
      "\n",
      "176ff.: at first, the I is confronted by an alien world, the objects of its ‘consciousness’, but when it meets another self-consciousness it sees a duplicate of itself. The development of the absolute follows the same pattern: the original unity (the subject) splits in two (the subject and concrete reality), and then finds itself again in the world confronting it (human beings). The ‘true’ is not just the first stage of this process; it is the whole process in which God (the beginning) creates a world other than himself and then finds himself (the end) in the world. However, Hegel need not claim that the active subject is also a knowing, purposive subject. Even if the subject is blind energy, it still generates a diversified world different from itself, which eventually provides a sort of duplicate of blind energy—in the form, say, of human beings who experiment with it, write about it, etc.—though we shall be less inclined to say that this ‘equality’ is the ‘goal’ of blind energy. It remains the case that the true is the whole process, not just the energy that initiates it. \n",
      "\n",
      "\n",
      "\n",
      "Resulting answer:\n",
      "\n",
      "The abstract universality of Being according to Hegel is rooted in the idea that pure thought or the concept must actualize itself in concrete reality or Being for another. This transition from the logical 'Idea' to the philosophy of nature demonstrates how the logical essence of the world passes over into nature, where it becomes known to us. God, as pure thought, could not be truly understood as such without the contrast of something concrete. It is through this process of actualization and contrast that the abstract universality of Being is manifested, leading ultimately to the culmination of philosophy, i.e. logic. Hegel's concept of the 'universal' extends to the object of perception and the essential elements in the progression of thought-determinations such as Being, nothing, becoming, etc. This progression leads to the understanding that the true essence of Being is not just the initiator but the entire process itself, culminating in the manifestation of the world as a diversified whole governed by universal laws.\n"
     ]
    }
   ],
   "source": [
    "print(rag(client, textdata=splitdata, vecdf=df, query=\"What is the the abstract universality of Being according to Hegel?\", k=6))"
   ]
  },
  {
   "cell_type": "code",
   "execution_count": 45,
   "id": "fad06c90-537d-4632-a29e-2401f5cfe14d",
   "metadata": {},
   "outputs": [
    {
     "name": "stdout",
     "output_type": "stream",
     "text": [
      "Answer from the basic LLM:\n",
      "\n",
      "According to Hegel, the abstract universality of Being refers to the fundamental characteristic of existence that transcends individual particularities and differences. In other words, it is the concept of Being that is universal and applies to all things in existence, regardless of their specific attributes or qualities. This concept is central to Hegel's philosophy of dialectical idealism, which posits that reality is ultimately grounded in a universal, abstract principle that encompasses all individual beings. Hegel believed that by understanding and engaging with this abstract universality of Being, individuals could gain insight into the interconnectedness of all things and the underlying unity of the universe.\n"
     ]
    }
   ],
   "source": [
    "print(\"Answer from the basic LLM:\\n\")\n",
    "\n",
    "print(answerme(client, \"What is the the abstract universality of Being according to Hegel?\"))"
   ]
  },
  {
   "cell_type": "code",
   "execution_count": 46,
   "id": "39bde555-9647-4940-b1a5-a7b587702c44",
   "metadata": {},
   "outputs": [
    {
     "name": "stdout",
     "output_type": "stream",
     "text": [
      "What the LLM sees:\n",
      "\n",
      "The question is: What did Hegel say about feminimism?, please make use of the following retrieved text written by Hegel when answering the question. NOTE: if you cannot find suitable information below, return 'I don't know':\n",
      " \n",
      "Info chunk 1:\n",
      "\n",
      ", Hegel uses the neuter gender (das), but the ‘shaped unchangeable’ is masculine, both here and in \n",
      ". \n",
      "Info chunk 2:\n",
      "\n",
      "76. Hegel’s primary response to this problem is to take on board both assertions, albeit in a modified form. This is how he treats seemingly competing philoso- phies: cf. \n",
      ". \n",
      "Info chunk 3:\n",
      "\n",
      "245, 360; Hegel (1895) II, pp. 148–65; and PS \n",
      ". \n",
      "Info chunk 4:\n",
      "\n",
      ": ‘Note Hegel’s incorporation of Evil into the Absolute’. Whatever else Hegel may have believed about the absolute, he did not believe that it was purely good to the exclusion of evil. Evil, and falsity, must be taken on board. \n",
      ". \n",
      "Info chunk 5:\n",
      "\n",
      "459. 1. Hegel refers back to \n",
      ". \n",
      "Info chunk 6:\n",
      "\n",
      "213–44 for Hegel’s later use of the word. \n",
      "\n",
      "\n",
      "\n",
      "Resulting answer:\n",
      "\n",
      "I don't know.\n"
     ]
    }
   ],
   "source": [
    "print(rag(client, textdata=splitdata, vecdf=df, query=\"What did Hegel say about feminimism?\", k=6))"
   ]
  },
  {
   "cell_type": "code",
   "execution_count": 47,
   "id": "2d93a008-351b-4a74-a24f-d83db4ed4d83",
   "metadata": {},
   "outputs": [
    {
     "name": "stdout",
     "output_type": "stream",
     "text": [
      "Answer from the basic LLM:\n",
      "\n",
      "Hegel did not explicitly discuss feminism in his works as it was not a prominent social or political movement during his time. However, his philosophy of dialectical idealism, which emphasizes the development of self-consciousness and individual freedom, can be interpreted as laying the groundwork for feminist ideas. In Hegel's view, individuals should strive for self-actualization and self-determination, which are central goals of feminism. Additionally, his concept of recognition and the importance of mutual respect and equality between individuals can be seen as aligning with feminist principles. Nonetheless, Hegel's ideas are complex and open to interpretation, and it is important to consider his writings in their historical context when examining his views on feminism.\n"
     ]
    }
   ],
   "source": [
    "print(\"Answer from the basic LLM:\\n\")\n",
    "\n",
    "print(answerme(client, \"What did Hegel say about feminimism?\"))"
   ]
  },
  {
   "cell_type": "markdown",
   "id": "959e29b1-1daa-4359-84ef-3474026bde4f",
   "metadata": {},
   "source": [
    "# APPROACH 2\n",
    "\n",
    "### This time we chunk the source text into sentences rather than aphorisms. This means we need many more vector representations of chunk as the number of chunks is far higher."
   ]
  },
  {
   "cell_type": "code",
   "execution_count": 49,
   "id": "be5bd0b9-9dfe-410a-8568-d3e5973fdda0",
   "metadata": {},
   "outputs": [],
   "source": [
    "pattern = \"¶\"\n",
    "\n",
    "cleandata2 = re.sub(pattern, \" \", cleandata)"
   ]
  },
  {
   "cell_type": "markdown",
   "id": "f0cd3eaa-5373-469d-b143-3bf31028737f",
   "metadata": {},
   "source": [
    "### Sentence splitting function taken from: https://stackoverflow.com/questions/4576077/how-can-i-split-a-text-into-sentences"
   ]
  },
  {
   "cell_type": "code",
   "execution_count": 51,
   "id": "13b81bb4-3649-480c-88b1-07f922729494",
   "metadata": {},
   "outputs": [],
   "source": [
    "\n",
    "alphabets= \"([A-Za-z])\"\n",
    "prefixes = \"(Mr|St|Mrs|Ms|Dr)[.]\"\n",
    "suffixes = \"(Inc|Ltd|Jr|Sr|Co)\"\n",
    "starters = \"(Mr|Mrs|Ms|Dr|Prof|Capt|Cpt|Lt|He\\s|She\\s|It\\s|They\\s|Their\\s|Our\\s|We\\s|But\\s|However\\s|That\\s|This\\s|Wherever)\"\n",
    "acronyms = \"([A-Z][.][A-Z][.](?:[A-Z][.])?)\"\n",
    "websites = \"[.](com|net|org|io|gov|edu|me)\"\n",
    "digits = \"([0-9])\"\n",
    "multiple_dots = r'\\.{2,}'\n",
    "\n",
    "def split_into_sentences(text: str) -> list[str]:\n",
    "    \"\"\"\n",
    "    Split the text into sentences.\n",
    "\n",
    "    If the text contains substrings \"<prd>\" or \"<stop>\", they would lead \n",
    "    to incorrect splitting because they are used as markers for splitting.\n",
    "\n",
    "    :param text: text to be split into sentences\n",
    "    :type text: str\n",
    "\n",
    "    :return: list of sentences\n",
    "    :rtype: list[str]\n",
    "    \"\"\"\n",
    "    text = \" \" + text + \"  \"\n",
    "    text = text.replace(\"\\n\",\" \")\n",
    "    text = re.sub(prefixes,\"\\\\1<prd>\",text)\n",
    "    text = re.sub(websites,\"<prd>\\\\1\",text)\n",
    "    text = re.sub(digits + \"[.]\" + digits,\"\\\\1<prd>\\\\2\",text)\n",
    "    text = re.sub(multiple_dots, lambda match: \"<prd>\" * len(match.group(0)) + \"<stop>\", text)\n",
    "    if \"Ph.D\" in text: text = text.replace(\"Ph.D.\",\"Ph<prd>D<prd>\")\n",
    "    text = re.sub(\"\\s\" + alphabets + \"[.] \",\" \\\\1<prd> \",text)\n",
    "    text = re.sub(acronyms+\" \"+starters,\"\\\\1<stop> \\\\2\",text)\n",
    "    text = re.sub(alphabets + \"[.]\" + alphabets + \"[.]\" + alphabets + \"[.]\",\"\\\\1<prd>\\\\2<prd>\\\\3<prd>\",text)\n",
    "    text = re.sub(alphabets + \"[.]\" + alphabets + \"[.]\",\"\\\\1<prd>\\\\2<prd>\",text)\n",
    "    text = re.sub(\" \"+suffixes+\"[.] \"+starters,\" \\\\1<stop> \\\\2\",text)\n",
    "    text = re.sub(\" \"+suffixes+\"[.]\",\" \\\\1<prd>\",text)\n",
    "    text = re.sub(\" \" + alphabets + \"[.]\",\" \\\\1<prd>\",text)\n",
    "    if \"”\" in text: text = text.replace(\".”\",\"”.\")\n",
    "    if \"\\\"\" in text: text = text.replace(\".\\\"\",\"\\\".\")\n",
    "    if \"!\" in text: text = text.replace(\"!\\\"\",\"\\\"!\")\n",
    "    if \"?\" in text: text = text.replace(\"?\\\"\",\"\\\"?\")\n",
    "    text = text.replace(\".\",\".<stop>\")\n",
    "    text = text.replace(\"?\",\"?<stop>\")\n",
    "    text = text.replace(\"!\",\"!<stop>\")\n",
    "    text = text.replace(\"<prd>\",\".\")\n",
    "    sentences = text.split(\"<stop>\")\n",
    "    sentences = [s.strip() for s in sentences]\n",
    "    if sentences and not sentences[-1]: sentences = sentences[:-1]\n",
    "    return sentences"
   ]
  },
  {
   "cell_type": "markdown",
   "id": "5c18097a-44db-4fa8-87d8-c4b41494d0dd",
   "metadata": {},
   "source": [
    "# Creating chunks using the existing aphorisms"
   ]
  },
  {
   "cell_type": "code",
   "execution_count": 53,
   "id": "a8d30cda-c4fb-42b4-99b6-a7cf1269b1f7",
   "metadata": {},
   "outputs": [],
   "source": [
    "cleandata2 = split_into_sentences(cleandata2)"
   ]
  },
  {
   "cell_type": "code",
   "execution_count": 54,
   "id": "addb784c-a59f-4c45-a7b5-fe81bb59efae",
   "metadata": {},
   "outputs": [],
   "source": [
    "splitdata2 = [_ for _ in cleandata2 if len(_) > 20]"
   ]
  },
  {
   "cell_type": "code",
   "execution_count": 202,
   "id": "939ce09b-ad48-4eca-8ddb-5adf8464ec0b",
   "metadata": {},
   "outputs": [
    {
     "data": {
      "text/plain": [
       "'In this way we come to the point where we posit the whole of sensory certainty itself as its essence, and no longer only one of its moments, as happened in the two cases where first the object confronting the I, and then the I, was supposed to be its reality.'"
      ]
     },
     "execution_count": 202,
     "metadata": {},
     "output_type": "execute_result"
    }
   ],
   "source": [
    "splitdata2[708]"
   ]
  },
  {
   "cell_type": "markdown",
   "id": "b11af7f8-6ccf-4b8d-93c6-4dbc634ae250",
   "metadata": {},
   "source": [
    "# Vectorizing the text"
   ]
  },
  {
   "cell_type": "code",
   "execution_count": 57,
   "id": "1b11ae3d-c433-4462-9447-21a03d39d253",
   "metadata": {},
   "outputs": [],
   "source": [
    "#This only needs to be run once to obtain the vectors. \n",
    "\n",
    "#vectors2 = []\n",
    "\n",
    "#for _ in range(0, len(splitdata2)):\n",
    "\n",
    "    #try:\n",
    "        #vectors2.append(get_embedding(client, splitdata2[_]))\n",
    "    #except:\n",
    "        #vectors2.append(np.zeros(1536))"
   ]
  },
  {
   "cell_type": "code",
   "execution_count": 58,
   "id": "7de7d124-a35f-4a4d-833f-455f69596d4e",
   "metadata": {},
   "outputs": [],
   "source": [
    "#df2 = pd.DataFrame(vectors2)"
   ]
  },
  {
   "cell_type": "code",
   "execution_count": 59,
   "id": "fbab41d9-32b7-4831-931a-1ecd791b04a2",
   "metadata": {},
   "outputs": [],
   "source": [
    "#df2.to_csv(\"vectors2.csv\")"
   ]
  },
  {
   "cell_type": "markdown",
   "id": "efde08b4-0718-42de-b0d9-ead3cfb279f6",
   "metadata": {},
   "source": [
    "# Importing existing vector frame"
   ]
  },
  {
   "cell_type": "code",
   "execution_count": 61,
   "id": "a8c81f01-e51d-423b-ae24-19ff645becff",
   "metadata": {},
   "outputs": [],
   "source": [
    "df2 = pd.read_csv(\"vectors2.csv\", index_col=0)"
   ]
  },
  {
   "cell_type": "code",
   "execution_count": 62,
   "id": "5af8d5cd-1157-4a07-b6ee-99907df7853b",
   "metadata": {},
   "outputs": [
    {
     "data": {
      "text/html": [
       "<div>\n",
       "<style scoped>\n",
       "    .dataframe tbody tr th:only-of-type {\n",
       "        vertical-align: middle;\n",
       "    }\n",
       "\n",
       "    .dataframe tbody tr th {\n",
       "        vertical-align: top;\n",
       "    }\n",
       "\n",
       "    .dataframe thead th {\n",
       "        text-align: right;\n",
       "    }\n",
       "</style>\n",
       "<table border=\"1\" class=\"dataframe\">\n",
       "  <thead>\n",
       "    <tr style=\"text-align: right;\">\n",
       "      <th></th>\n",
       "      <th>0</th>\n",
       "      <th>1</th>\n",
       "      <th>2</th>\n",
       "      <th>3</th>\n",
       "      <th>4</th>\n",
       "      <th>5</th>\n",
       "      <th>6</th>\n",
       "      <th>7</th>\n",
       "      <th>8</th>\n",
       "      <th>9</th>\n",
       "      <th>...</th>\n",
       "      <th>1526</th>\n",
       "      <th>1527</th>\n",
       "      <th>1528</th>\n",
       "      <th>1529</th>\n",
       "      <th>1530</th>\n",
       "      <th>1531</th>\n",
       "      <th>1532</th>\n",
       "      <th>1533</th>\n",
       "      <th>1534</th>\n",
       "      <th>1535</th>\n",
       "    </tr>\n",
       "  </thead>\n",
       "  <tbody>\n",
       "    <tr>\n",
       "      <th>0</th>\n",
       "      <td>0.018040</td>\n",
       "      <td>-0.009153</td>\n",
       "      <td>-0.009210</td>\n",
       "      <td>-0.003637</td>\n",
       "      <td>-0.013296</td>\n",
       "      <td>0.012897</td>\n",
       "      <td>-0.020545</td>\n",
       "      <td>0.010336</td>\n",
       "      <td>-0.002603</td>\n",
       "      <td>0.015484</td>\n",
       "      <td>...</td>\n",
       "      <td>0.015522</td>\n",
       "      <td>-0.016711</td>\n",
       "      <td>0.010260</td>\n",
       "      <td>-0.004624</td>\n",
       "      <td>-0.029071</td>\n",
       "      <td>-0.027401</td>\n",
       "      <td>0.018824</td>\n",
       "      <td>-0.006341</td>\n",
       "      <td>0.017888</td>\n",
       "      <td>-0.025605</td>\n",
       "    </tr>\n",
       "    <tr>\n",
       "      <th>1</th>\n",
       "      <td>0.008922</td>\n",
       "      <td>-0.002289</td>\n",
       "      <td>0.008695</td>\n",
       "      <td>-0.017286</td>\n",
       "      <td>-0.024967</td>\n",
       "      <td>-0.000258</td>\n",
       "      <td>-0.045463</td>\n",
       "      <td>-0.024369</td>\n",
       "      <td>-0.015908</td>\n",
       "      <td>-0.010567</td>\n",
       "      <td>...</td>\n",
       "      <td>0.000769</td>\n",
       "      <td>-0.011437</td>\n",
       "      <td>0.018573</td>\n",
       "      <td>-0.018144</td>\n",
       "      <td>-0.031557</td>\n",
       "      <td>-0.017195</td>\n",
       "      <td>0.015232</td>\n",
       "      <td>-0.002611</td>\n",
       "      <td>0.008078</td>\n",
       "      <td>-0.033714</td>\n",
       "    </tr>\n",
       "    <tr>\n",
       "      <th>2</th>\n",
       "      <td>0.000723</td>\n",
       "      <td>0.018356</td>\n",
       "      <td>-0.002905</td>\n",
       "      <td>-0.015889</td>\n",
       "      <td>-0.012609</td>\n",
       "      <td>0.006137</td>\n",
       "      <td>-0.027160</td>\n",
       "      <td>-0.001853</td>\n",
       "      <td>0.004087</td>\n",
       "      <td>0.013973</td>\n",
       "      <td>...</td>\n",
       "      <td>-0.001609</td>\n",
       "      <td>-0.008837</td>\n",
       "      <td>0.028655</td>\n",
       "      <td>-0.014105</td>\n",
       "      <td>-0.036082</td>\n",
       "      <td>-0.046709</td>\n",
       "      <td>0.010857</td>\n",
       "      <td>-0.005032</td>\n",
       "      <td>0.016388</td>\n",
       "      <td>-0.043062</td>\n",
       "    </tr>\n",
       "    <tr>\n",
       "      <th>3</th>\n",
       "      <td>0.004204</td>\n",
       "      <td>0.004378</td>\n",
       "      <td>0.016330</td>\n",
       "      <td>-0.032240</td>\n",
       "      <td>-0.020872</td>\n",
       "      <td>0.003905</td>\n",
       "      <td>-0.034734</td>\n",
       "      <td>-0.018903</td>\n",
       "      <td>-0.020163</td>\n",
       "      <td>-0.012996</td>\n",
       "      <td>...</td>\n",
       "      <td>0.010771</td>\n",
       "      <td>-0.016658</td>\n",
       "      <td>0.016921</td>\n",
       "      <td>-0.010718</td>\n",
       "      <td>-0.037884</td>\n",
       "      <td>-0.008460</td>\n",
       "      <td>0.015188</td>\n",
       "      <td>-0.013757</td>\n",
       "      <td>0.000290</td>\n",
       "      <td>-0.048228</td>\n",
       "    </tr>\n",
       "    <tr>\n",
       "      <th>4</th>\n",
       "      <td>-0.002144</td>\n",
       "      <td>0.027829</td>\n",
       "      <td>0.037220</td>\n",
       "      <td>-0.007724</td>\n",
       "      <td>-0.009867</td>\n",
       "      <td>0.007248</td>\n",
       "      <td>-0.028570</td>\n",
       "      <td>-0.002568</td>\n",
       "      <td>-0.005813</td>\n",
       "      <td>-0.011375</td>\n",
       "      <td>...</td>\n",
       "      <td>0.004348</td>\n",
       "      <td>0.004894</td>\n",
       "      <td>0.031189</td>\n",
       "      <td>-0.024126</td>\n",
       "      <td>-0.017896</td>\n",
       "      <td>-0.034654</td>\n",
       "      <td>0.015422</td>\n",
       "      <td>-0.004944</td>\n",
       "      <td>-0.008710</td>\n",
       "      <td>-0.027115</td>\n",
       "    </tr>\n",
       "    <tr>\n",
       "      <th>...</th>\n",
       "      <td>...</td>\n",
       "      <td>...</td>\n",
       "      <td>...</td>\n",
       "      <td>...</td>\n",
       "      <td>...</td>\n",
       "      <td>...</td>\n",
       "      <td>...</td>\n",
       "      <td>...</td>\n",
       "      <td>...</td>\n",
       "      <td>...</td>\n",
       "      <td>...</td>\n",
       "      <td>...</td>\n",
       "      <td>...</td>\n",
       "      <td>...</td>\n",
       "      <td>...</td>\n",
       "      <td>...</td>\n",
       "      <td>...</td>\n",
       "      <td>...</td>\n",
       "      <td>...</td>\n",
       "      <td>...</td>\n",
       "      <td>...</td>\n",
       "    </tr>\n",
       "    <tr>\n",
       "      <th>11809</th>\n",
       "      <td>0.008419</td>\n",
       "      <td>-0.009955</td>\n",
       "      <td>0.024746</td>\n",
       "      <td>-0.028968</td>\n",
       "      <td>-0.012700</td>\n",
       "      <td>0.014118</td>\n",
       "      <td>-0.011399</td>\n",
       "      <td>-0.013314</td>\n",
       "      <td>-0.011510</td>\n",
       "      <td>-0.004843</td>\n",
       "      <td>...</td>\n",
       "      <td>0.029491</td>\n",
       "      <td>-0.025033</td>\n",
       "      <td>0.000802</td>\n",
       "      <td>-0.015621</td>\n",
       "      <td>-0.016458</td>\n",
       "      <td>0.012281</td>\n",
       "      <td>0.021648</td>\n",
       "      <td>-0.016327</td>\n",
       "      <td>-0.010347</td>\n",
       "      <td>-0.010412</td>\n",
       "    </tr>\n",
       "    <tr>\n",
       "      <th>11810</th>\n",
       "      <td>-0.006728</td>\n",
       "      <td>-0.001566</td>\n",
       "      <td>0.025972</td>\n",
       "      <td>-0.023427</td>\n",
       "      <td>-0.023012</td>\n",
       "      <td>-0.009872</td>\n",
       "      <td>0.003211</td>\n",
       "      <td>-0.011955</td>\n",
       "      <td>-0.008365</td>\n",
       "      <td>-0.026964</td>\n",
       "      <td>...</td>\n",
       "      <td>0.002866</td>\n",
       "      <td>0.012156</td>\n",
       "      <td>-0.001374</td>\n",
       "      <td>-0.019422</td>\n",
       "      <td>-0.013770</td>\n",
       "      <td>-0.023454</td>\n",
       "      <td>0.011727</td>\n",
       "      <td>0.013201</td>\n",
       "      <td>-0.003764</td>\n",
       "      <td>-0.021713</td>\n",
       "    </tr>\n",
       "    <tr>\n",
       "      <th>11811</th>\n",
       "      <td>0.022691</td>\n",
       "      <td>-0.026305</td>\n",
       "      <td>-0.015821</td>\n",
       "      <td>0.008549</td>\n",
       "      <td>-0.019767</td>\n",
       "      <td>0.006286</td>\n",
       "      <td>-0.025679</td>\n",
       "      <td>-0.018733</td>\n",
       "      <td>0.002104</td>\n",
       "      <td>-0.027990</td>\n",
       "      <td>...</td>\n",
       "      <td>0.020469</td>\n",
       "      <td>-0.018464</td>\n",
       "      <td>0.000081</td>\n",
       "      <td>-0.021950</td>\n",
       "      <td>-0.031847</td>\n",
       "      <td>0.040990</td>\n",
       "      <td>0.000468</td>\n",
       "      <td>0.001482</td>\n",
       "      <td>-0.020763</td>\n",
       "      <td>-0.016817</td>\n",
       "    </tr>\n",
       "    <tr>\n",
       "      <th>11812</th>\n",
       "      <td>-0.005004</td>\n",
       "      <td>-0.013928</td>\n",
       "      <td>0.015388</td>\n",
       "      <td>-0.019822</td>\n",
       "      <td>-0.016745</td>\n",
       "      <td>0.008796</td>\n",
       "      <td>-0.008307</td>\n",
       "      <td>-0.008424</td>\n",
       "      <td>0.004881</td>\n",
       "      <td>-0.018270</td>\n",
       "      <td>...</td>\n",
       "      <td>0.009624</td>\n",
       "      <td>-0.000889</td>\n",
       "      <td>0.000335</td>\n",
       "      <td>-0.021935</td>\n",
       "      <td>-0.025469</td>\n",
       "      <td>0.013693</td>\n",
       "      <td>0.002893</td>\n",
       "      <td>0.004202</td>\n",
       "      <td>-0.023030</td>\n",
       "      <td>0.005024</td>\n",
       "    </tr>\n",
       "    <tr>\n",
       "      <th>11813</th>\n",
       "      <td>-0.002260</td>\n",
       "      <td>0.005876</td>\n",
       "      <td>-0.001449</td>\n",
       "      <td>-0.020532</td>\n",
       "      <td>-0.006708</td>\n",
       "      <td>0.034355</td>\n",
       "      <td>-0.028039</td>\n",
       "      <td>-0.001324</td>\n",
       "      <td>-0.000044</td>\n",
       "      <td>-0.021658</td>\n",
       "      <td>...</td>\n",
       "      <td>0.013771</td>\n",
       "      <td>-0.024777</td>\n",
       "      <td>0.016208</td>\n",
       "      <td>-0.024384</td>\n",
       "      <td>-0.020781</td>\n",
       "      <td>0.004000</td>\n",
       "      <td>0.005582</td>\n",
       "      <td>-0.013653</td>\n",
       "      <td>0.004596</td>\n",
       "      <td>-0.018501</td>\n",
       "    </tr>\n",
       "  </tbody>\n",
       "</table>\n",
       "<p>11814 rows × 1536 columns</p>\n",
       "</div>"
      ],
      "text/plain": [
       "              0         1         2         3         4         5         6  \\\n",
       "0      0.018040 -0.009153 -0.009210 -0.003637 -0.013296  0.012897 -0.020545   \n",
       "1      0.008922 -0.002289  0.008695 -0.017286 -0.024967 -0.000258 -0.045463   \n",
       "2      0.000723  0.018356 -0.002905 -0.015889 -0.012609  0.006137 -0.027160   \n",
       "3      0.004204  0.004378  0.016330 -0.032240 -0.020872  0.003905 -0.034734   \n",
       "4     -0.002144  0.027829  0.037220 -0.007724 -0.009867  0.007248 -0.028570   \n",
       "...         ...       ...       ...       ...       ...       ...       ...   \n",
       "11809  0.008419 -0.009955  0.024746 -0.028968 -0.012700  0.014118 -0.011399   \n",
       "11810 -0.006728 -0.001566  0.025972 -0.023427 -0.023012 -0.009872  0.003211   \n",
       "11811  0.022691 -0.026305 -0.015821  0.008549 -0.019767  0.006286 -0.025679   \n",
       "11812 -0.005004 -0.013928  0.015388 -0.019822 -0.016745  0.008796 -0.008307   \n",
       "11813 -0.002260  0.005876 -0.001449 -0.020532 -0.006708  0.034355 -0.028039   \n",
       "\n",
       "              7         8         9  ...      1526      1527      1528  \\\n",
       "0      0.010336 -0.002603  0.015484  ...  0.015522 -0.016711  0.010260   \n",
       "1     -0.024369 -0.015908 -0.010567  ...  0.000769 -0.011437  0.018573   \n",
       "2     -0.001853  0.004087  0.013973  ... -0.001609 -0.008837  0.028655   \n",
       "3     -0.018903 -0.020163 -0.012996  ...  0.010771 -0.016658  0.016921   \n",
       "4     -0.002568 -0.005813 -0.011375  ...  0.004348  0.004894  0.031189   \n",
       "...         ...       ...       ...  ...       ...       ...       ...   \n",
       "11809 -0.013314 -0.011510 -0.004843  ...  0.029491 -0.025033  0.000802   \n",
       "11810 -0.011955 -0.008365 -0.026964  ...  0.002866  0.012156 -0.001374   \n",
       "11811 -0.018733  0.002104 -0.027990  ...  0.020469 -0.018464  0.000081   \n",
       "11812 -0.008424  0.004881 -0.018270  ...  0.009624 -0.000889  0.000335   \n",
       "11813 -0.001324 -0.000044 -0.021658  ...  0.013771 -0.024777  0.016208   \n",
       "\n",
       "           1529      1530      1531      1532      1533      1534      1535  \n",
       "0     -0.004624 -0.029071 -0.027401  0.018824 -0.006341  0.017888 -0.025605  \n",
       "1     -0.018144 -0.031557 -0.017195  0.015232 -0.002611  0.008078 -0.033714  \n",
       "2     -0.014105 -0.036082 -0.046709  0.010857 -0.005032  0.016388 -0.043062  \n",
       "3     -0.010718 -0.037884 -0.008460  0.015188 -0.013757  0.000290 -0.048228  \n",
       "4     -0.024126 -0.017896 -0.034654  0.015422 -0.004944 -0.008710 -0.027115  \n",
       "...         ...       ...       ...       ...       ...       ...       ...  \n",
       "11809 -0.015621 -0.016458  0.012281  0.021648 -0.016327 -0.010347 -0.010412  \n",
       "11810 -0.019422 -0.013770 -0.023454  0.011727  0.013201 -0.003764 -0.021713  \n",
       "11811 -0.021950 -0.031847  0.040990  0.000468  0.001482 -0.020763 -0.016817  \n",
       "11812 -0.021935 -0.025469  0.013693  0.002893  0.004202 -0.023030  0.005024  \n",
       "11813 -0.024384 -0.020781  0.004000  0.005582 -0.013653  0.004596 -0.018501  \n",
       "\n",
       "[11814 rows x 1536 columns]"
      ]
     },
     "execution_count": 62,
     "metadata": {},
     "output_type": "execute_result"
    }
   ],
   "source": [
    "df2"
   ]
  },
  {
   "cell_type": "code",
   "execution_count": 63,
   "id": "7dfd9919-6a9f-4d60-a307-5b3129639bfe",
   "metadata": {},
   "outputs": [
    {
     "data": {
      "text/plain": [
       "11833"
      ]
     },
     "execution_count": 63,
     "metadata": {},
     "output_type": "execute_result"
    }
   ],
   "source": [
    "# Check the indexing still matches up\n",
    "\n",
    "len(splitdata2)"
   ]
  },
  {
   "cell_type": "markdown",
   "id": "139cc57f-b8f7-4be6-9385-bc3956a714dd",
   "metadata": {},
   "source": [
    "# Comparison of RAG output vs default output"
   ]
  },
  {
   "cell_type": "code",
   "execution_count": 65,
   "id": "7a0385ec-b588-47f0-a9ad-084d5391b1eb",
   "metadata": {},
   "outputs": [
    {
     "name": "stdout",
     "output_type": "stream",
     "text": [
      "What the LLM sees:\n",
      "\n",
      "The question is: What is spirit in Hegel's hierarchy?, please make use of the following retrieved text written by Hegel when answering the question. NOTE: if you cannot find suitable information below, return 'I don't know':\n",
      " \n",
      "Info chunk 1:\n",
      "\n",
      "Moreover, while each of the previous shapes left its predecessors behind, spirit incorporates these shapes as aspects of itself.\n",
      ". \n",
      "Info chunk 2:\n",
      "\n",
      "I,  112 Addition associates mirrors with ‘reflection’ rather than speculation.\n",
      ". \n",
      "Info chunk 3:\n",
      "\n",
      "The sensory presence of Christ, distinct from other Selves, was as much a hindrance as a help: cf.\n",
      ". \n",
      "Info chunk 4:\n",
      "\n",
      "This eases the introduction of spirit.\n",
      ". \n",
      "Info chunk 5:\n",
      "\n",
      "--- c. The state of right  477.\n",
      ". \n",
      "Info chunk 6:\n",
      "\n",
      "The content of this representation is true, but the representational form is defective.\n",
      ". \n",
      "Info chunk 7:\n",
      "\n",
      "They are rather the stages of spirit’s development, while knowledge and objectivity are the ‘opposition’ that inheres in each stage.\n",
      ". \n",
      "Info chunk 8:\n",
      "\n",
      "It is this that leads to its duplication of self-consciousness.\n",
      ". \n",
      "Info chunk 9:\n",
      "\n",
      "After all, the confusion and inversion do not stem from either the sceptical or the practical attitude alone, but from their coexistence.\n",
      ". \n",
      "Info chunk 10:\n",
      "\n",
      "An initial problem is whether the penultimate sentence and the final sentence describe the same movement.\n",
      ". \n",
      "Info chunk 11:\n",
      "\n",
      "III,   413–39: if PS is science it must appear within the exposition of science.\n",
      ". \n",
      "Info chunk 12:\n",
      "\n",
      "It is to ascend from ‘Being’ to ‘thought’ and thus to elevate the world to thought.\n",
      ". \n",
      "Info chunk 13:\n",
      "\n",
      "But to what extent --- does Hegel regard the logical order as mirrored in the historical development of humanity?\n",
      ". \n",
      "Info chunk 14:\n",
      "\n",
      "Whereas Kant regarded time and space as two coordinate forms of sensibility, Spinoza regarded extension and thought as the two attributes of substance, but not time.\n",
      ". \n",
      "Info chunk 15:\n",
      "\n",
      "For spirit is the knowledge of itself in its estrangement; the essence that is the movement of retaining its equality with itself in its otherness.\n",
      "\n",
      "\n",
      "\n",
      "Resulting answer:\n",
      "\n",
      "In Hegel's hierarchy, spirit is the highest form of self-awareness and self-consciousness. It incorporates the previous shapes of consciousness as aspects of itself, leading to a duplication of self-consciousness. Spirit is the knowledge of itself in its estrangement, retaining its equality with itself in its otherness. It represents the highest level of development in Hegel's philosophy, where the individual becomes fully aware of their own identity and connection to the world around them.\n"
     ]
    }
   ],
   "source": [
    "print(rag(client, textdata=splitdata2, vecdf=df2, query=\"What is spirit in Hegel's hierarchy?\", k=15))"
   ]
  },
  {
   "cell_type": "code",
   "execution_count": 66,
   "id": "773522f8-f581-45be-baee-2cf264370013",
   "metadata": {},
   "outputs": [
    {
     "name": "stdout",
     "output_type": "stream",
     "text": [
      "Answer from the basic LLM:\n",
      "\n",
      "In Hegel's philosophy, spirit is the highest level of his hierarchy of reality. Spirit represents the highest form of self-consciousness and the realization of freedom and rationality. It is the realm where individuals are able to achieve complete self-awareness, self-determination, and moral consciousness.\n",
      "\n",
      "According to Hegel, spirit is manifested in various forms, including art, religion, and philosophy. It is through the development of spirit that individuals are able to actualize their full potential and become truly self-fulfilled beings. Spirit also plays a crucial role in the development of society, as it is through the collective spirit of individuals that cultural and societal progress is made.\n",
      "\n",
      "Overall, spirit in Hegel's hierarchy represents the pinnacle of human development and self-realization, where individuals are able to transcend their limitations and achieve a higher state of consciousness and freedom.\n"
     ]
    }
   ],
   "source": [
    "print(\"Answer from the basic LLM:\\n\")\n",
    "\n",
    "print(answerme(client, \"What is spirit in Hegel's hierarchy?\"))"
   ]
  },
  {
   "cell_type": "code",
   "execution_count": 67,
   "id": "23b171d4-d9dc-4949-a96d-b46e7fe2855f",
   "metadata": {},
   "outputs": [
    {
     "name": "stdout",
     "output_type": "stream",
     "text": [
      "What the LLM sees:\n",
      "\n",
      "The question is: What is the the abstract universality of Being according to Hegel?, please make use of the following retrieved text written by Hegel when answering the question. NOTE: if you cannot find suitable information below, return 'I don't know':\n",
      " \n",
      "Info chunk 1:\n",
      "\n",
      "However, ‘I’ is different from ‘this’, ‘here’, and ‘now’.\n",
      ". \n",
      "Info chunk 2:\n",
      "\n",
      "His arguments are not exclusively linguistic: cf.\n",
      ". \n",
      "Info chunk 3:\n",
      "\n",
      "But to what extent --- does Hegel regard the logical order as mirrored in the historical development of humanity?\n",
      ". \n",
      "Info chunk 4:\n",
      "\n",
      "This explains the aversion to prefaces expressed in   1f.\n",
      ". \n",
      "Info chunk 5:\n",
      "\n",
      "It plays with its mask to show that it is a Self, just like the actor and the spectator.\n",
      ". \n",
      "Info chunk 6:\n",
      "\n",
      "The absolute is more complex, but the principle is the same.\n",
      ". \n",
      "Info chunk 7:\n",
      "\n",
      "In this universality the reality of the ethical spirit is lost and, empty of content, the spirits of the national individuals are gathered into a single pantheon, not a pantheon of representation whose powerless form lets each spirit go its own way, but the pantheon of abstract universality, of pure thought, which disembodies them and assigns Being in- and for- itself to the spiritless Self, to the singular person.\n",
      ". \n",
      "Info chunk 8:\n",
      "\n",
      "In   18 and 19, God first becomes other than himself, in a way refuting himself, and then recovers himself in the world.\n",
      ". \n",
      "Info chunk 9:\n",
      "\n",
      "The formula ‘A=A’ expresses such indeterminacy, implying that the absolute’s only characteristic is self-identity.\n",
      ". \n",
      "Info chunk 10:\n",
      "\n",
      "The ‘independent consciousness’ is the lord.\n",
      ". \n",
      "Info chunk 11:\n",
      "\n",
      "Consciousness does not, however, recognize them as such, but regards them as an object distinct from itself.\n",
      ". \n",
      "Info chunk 12:\n",
      "\n",
      "at its return [into itself ] .\n",
      ". \n",
      "Info chunk 13:\n",
      "\n",
      "Through this movement the universal becomes joined together with Being- there in general, just as the consciousness that is-there cultivates itself to essentiality through this estrangement.\n",
      ". \n",
      "Info chunk 14:\n",
      "\n",
      "This is infinity in the sense of what Hegel calls ‘good’ or ‘true’ infinity.\n",
      ". \n",
      "Info chunk 15:\n",
      "\n",
      "Moreover, while each of the previous shapes left its predecessors behind, spirit incorporates these shapes as aspects of itself.\n",
      "\n",
      "\n",
      "\n",
      "Resulting answer:\n",
      "\n",
      "According to the retrieved text by Hegel, the abstract universality of Being is described as the gathering of the spirits of national individuals into a single pantheon of abstract universality, pure thought, which disembodies them and assigns Being in-and-for-itself to the spiritless Self, to the singular person. This universal reality loses the reality of ethical spirit and becomes empty of content, showing the complex nature of the absolute. Through this process, the universal becomes joined together with Being in general, allowing consciousness to cultivate itself to essentiality. This abstract universality is linked to the concept of 'good' or 'true' infinity, as spirit incorporates previous shapes as aspects of itself.\n"
     ]
    }
   ],
   "source": [
    "print(rag(client, textdata=splitdata2, vecdf=df2, query=\"What is the the abstract universality of Being according to Hegel?\", k=15))"
   ]
  },
  {
   "cell_type": "code",
   "execution_count": 68,
   "id": "9ef08413-2d68-473e-8e7d-f256571aac9d",
   "metadata": {},
   "outputs": [
    {
     "name": "stdout",
     "output_type": "stream",
     "text": [
      "Answer from the basic LLM:\n",
      "\n",
      "The abstract universality of Being, according to Hegel, refers to the fundamental concept of existence that underlies all phenomena and characteristics of the world. It is the idea that everything in existence is connected and part of a larger whole, and that this interconnectedness provides the basis for understanding reality and existence. Hegel argued that this abstract universality of Being is essential for understanding the nature of reality and for developing a comprehensive philosophical system that can explain the world in its entirety.\n"
     ]
    }
   ],
   "source": [
    "print(\"Answer from the basic LLM:\\n\")\n",
    "\n",
    "print(answerme(client, \"What is the the abstract universality of Being according to Hegel?\"))"
   ]
  },
  {
   "cell_type": "code",
   "execution_count": 69,
   "id": "ada07421-d974-4a43-9f8c-eb701459e186",
   "metadata": {},
   "outputs": [
    {
     "name": "stdout",
     "output_type": "stream",
     "text": [
      "What the LLM sees:\n",
      "\n",
      "The question is: What did Hegel say about blossoms and buds?, please make use of the following retrieved text written by Hegel when answering the question. NOTE: if you cannot find suitable information below, return 'I don't know':\n",
      " \n",
      "Info chunk 1:\n",
      "\n",
      "The reference to ‘theory’ as a grey shadow alludes to Mephistopheles’s words: ‘My worthy friend, grey are all theories/And green alone life’s golden tree’.\n",
      ". \n",
      "Info chunk 2:\n",
      "\n",
      "Spirit involves two estrangements, that of the essence into self-consciousness and that of self-consciousness into the essence.\n",
      ". \n",
      "Info chunk 3:\n",
      "\n",
      "The bud disappears when the blossom bursts forth, and one could say that the bud is refuted by the blossom; similarly, when the fruit appears, the blossom is declared to be a false Being-there2 of the plant, and the fruit replaces the blossom as the truth of the plant.\n",
      ". \n",
      "Info chunk 4:\n",
      "\n",
      "Nevertheless, it is useful to consider a concept in terms of Hegel’s botanical analogy.\n",
      ". \n",
      "Info chunk 5:\n",
      "\n",
      "--- c. The state of right  477.\n",
      ". \n",
      "Info chunk 6:\n",
      "\n",
      "Because of this identity in difference, love is an appropriate metaphor for God’s relationship both with other members of the Trinity and with the world he creates.\n",
      ". \n",
      "Info chunk 7:\n",
      "\n",
      "This opposition is reconciled in the act of forgiveness, whereby the conscientious Self is reintegrated into the universal order, and the singular Self becomes identical with the universal Self: see  671 and note.\n",
      ". \n",
      "Info chunk 8:\n",
      "\n",
      ", that occupy pores in the thing: see Enc.\n",
      ". \n",
      "Info chunk 9:\n",
      "\n",
      "The forms are thus arranged like the natural numbers: 1, 2, 3, .\n",
      ". \n",
      "Info chunk 10:\n",
      "\n",
      "Even a resolute sceptic has a doctrine: refusal to take a definite stance is a definite stance of refusal.\n",
      ". \n",
      "Info chunk 11:\n",
      "\n",
      "So a concept is ‘mine’ in a more intimate way than a representation is ‘mine’.\n",
      ". \n",
      "Info chunk 12:\n",
      "\n",
      "Their independence is not intrinsic to them, like the independence of a pebble, but determined by ‘an other’, the system to which it belongs and the other members of that system.\n",
      ". \n",
      "Info chunk 13:\n",
      "\n",
      "The ‘immediate unity’ is the initial organism, while the ‘reflected unity’ is the new organism generated by it, an organism of the same kind or ‘genus’ (Gattung).\n",
      ". \n",
      "Info chunk 14:\n",
      "\n",
      "Moreover, while each of the previous shapes left its predecessors behind, spirit incorporates these shapes as aspects of itself.\n",
      ". \n",
      "Info chunk 15:\n",
      "\n",
      "The differences and gradations of human law are dealt with in  455, those of divine law in  456.\n",
      "\n",
      "\n",
      "\n",
      "Resulting answer:\n",
      "\n",
      "In the text written by Hegel, he mentioned that the bud disappears when the blossom bursts forth, and one could say that the bud is refuted by the blossom; similarly, when the fruit appears, the blossom is declared to be a false Being-there of the plant, and the fruit replaces the blossom as the truth of the plant. Hegel used this botanical analogy to illustrate the idea of transformation and development, where one form is replaced by another as the truth or essence of the plant.\n"
     ]
    }
   ],
   "source": [
    "print(rag(client, textdata=splitdata2, vecdf=df2, query=\"What did Hegel say about blossoms and buds?\", k=15))"
   ]
  },
  {
   "cell_type": "code",
   "execution_count": 70,
   "id": "ebb89171-29a7-48b5-892b-a56f9025c3b3",
   "metadata": {},
   "outputs": [
    {
     "name": "stdout",
     "output_type": "stream",
     "text": [
      "Answer from the basic LLM:\n",
      "\n",
      "Hegel did not directly talk about blossoms and buds, as it was not a central theme in his philosophical works. However, he did use the metaphor of blossoming or unfolding to describe the development of ideas and concepts in his dialectical method. Hegel believed that ideas and concepts evolve and develop over time, much like a bud blossoming into a flower. This process of development and unfolding is central to his dialectical approach to philosophy, where contradictions and conflicts lead to the resolution of opposing ideas, resulting in a higher level of understanding.\n"
     ]
    }
   ],
   "source": [
    "print(\"Answer from the basic LLM:\\n\")\n",
    "\n",
    "print(answerme(client, \"What did Hegel say about blossoms and buds?\"))"
   ]
  },
  {
   "cell_type": "markdown",
   "id": "d877b47f-62b5-4463-a9a6-576b56a16ae4",
   "metadata": {},
   "source": [
    "# Approach 3 "
   ]
  },
  {
   "cell_type": "markdown",
   "id": "00d272db-9b15-43a0-9526-2f7a50af2acd",
   "metadata": {},
   "source": [
    "### This time we'll try a sentence approach but we'll also take n sentences to the left and right of the k selected sentences for context as a synthesis of approach 1 and approach 2"
   ]
  },
  {
   "cell_type": "code",
   "execution_count": 234,
   "id": "53ec2a12-da14-43af-9592-f2b480b9a6cf",
   "metadata": {},
   "outputs": [],
   "source": [
    "def ragpad(client, textdata, vecdf, query, k, n):\n",
    "\n",
    "    ind = find_top_k_matches(query, vecdf, textdata, k)\n",
    "\n",
    "    chunks = []\n",
    "    \n",
    "    for ki in ind:\n",
    "        padinds = []\n",
    "        for i in range(ki-n,ki+n):\n",
    "            padinds.append(i)\n",
    "        padinds = [i for i in padinds if i >= 0 and i < len(textdata)]\n",
    "        chunk = \" \".join([textdata[i] for i in padinds])\n",
    "        chunks.append(chunk)\n",
    "\n",
    "    info = \" \".join([f\"\\nInfo chunk {_+1}:\\n\\n\" + chunks[_] + \"\\n\" for _ in range(len(chunks))])\n",
    "\n",
    "    combquery = f\"The question is: {query}, please answer it comprehensively, please make use of the following retrieved text written by Hegel when answering the question. NOTE: if you cannot find suitable information below, return 'I don't know':\\n {info}\"\n",
    "\n",
    "    print(\"What the LLM sees:\\n\")\n",
    "    print(combquery + \"\\n\\n\")\n",
    "\n",
    "    print(\"Resulting answer:\\n\") \n",
    "    return answerme(client, combquery)"
   ]
  },
  {
   "cell_type": "code",
   "execution_count": 236,
   "id": "6a610c6f-cada-46dd-8639-bf2e7b256a5f",
   "metadata": {},
   "outputs": [
    {
     "name": "stdout",
     "output_type": "stream",
     "text": [
      "What the LLM sees:\n",
      "\n",
      "The question is: What is spirit in Hegel's hierarchy?, please answer it comprehensively, please make use of the following retrieved text written by Hegel when answering the question. NOTE: if you cannot find suitable information below, return 'I don't know':\n",
      " \n",
      "Info chunk 1:\n",
      "\n",
      "It is never sublated, and it has been at work all along in various guises, seeking to actualize itself, as the title of PS indicates. The isolation and analyses of the previous shapes were conducted by spirit, focusing on particular aspects of itself in order to discover and develop its true nature. These aspects are only abstractions from spirit, whereas spirit itself is ‘existence’, a word that has the flavour of ‘stepping-forth’, in accordance with its Latin etymology. This may be why (as Hyppolite, II, p.16, n.6 suggests) the dialectical development of spirit corresponds to a coherent temporal and historical development, which is, in the preceding shapes, dimly discernible in the development of self-consciousness, but not elsewhere. Moreover, while each of the previous shapes left its predecessors behind, spirit incorporates these shapes as aspects of itself. It is an objective being, as the objects of consciousness are. It is Being-for-itself, as self-consciousness is. It is the unity of both, an object which reason determines in accordance with the category.\n",
      " \n",
      "Info chunk 2:\n",
      "\n",
      "I,  81), are restored in a satisfying unity- in-difference (Enc. The words occur frequently in the Preface, but rarely in the rest of PS, since they are associated primarily with Hegel’s logic. The Latin verb also gave rise to speculum, ‘mirror’, and Hegel’s usage is often said to involve mirroring: see e.g. Enc. But speculum is only a minor member of the specul-family, and there is no trace in Hegel of a link between ‘speculation’ and mirrors. I,  112 Addition associates mirrors with ‘reflection’ rather than speculation. III, Hegel explicitly distinguishes three stages of spirit: ‘subjective spirit’ (roughly, the individual mind), ‘objective spirit’ (the collective social life of a people), and ‘absolute spirit’ (art, religion, and philosophy). He does not draw this distinction explicitly in PS, and tends to call the individual mind the ‘soul’ (Seele) rather than the ‘spirit’: see  77. Geist’s wide range of senses (including the ‘holy spirit’) and its tendency develop from one to the other, as well as its tendency to embrace what is other than Geist, make it an especially suitable candidate for the status of the absolute.\n",
      " \n",
      "Info chunk 3:\n",
      "\n",
      "This transformation is achieved initially not by conceptual thought, but in the representation of his death, resurrection, and ascension. This is similar to what happened in chapter II, when the sensory This passed into the thing of perception, not the universal of the understanding: humans are regarded as distinct perceptible things, not as participants in a shared rationality. The passage of Christ into the past (like the Now in  106) transforms the believer into spiritual consciousness. Christ is now resurrected in the spirit. The sensory presence of Christ, distinct from other Selves, was as much a hindrance as a help: cf. the unhappy consciousness in  212. Now that he has gone, spirit becomes the universal self- consciousness of the community of believers. What matters is not Christ alone, but what he is for this community.\n",
      " \n",
      "Info chunk 4:\n",
      "\n",
      "So perhaps (i) means ‘The true (i.e. the absolute, since ‘true’ here is also used in its objective sense) is only actual (i.e. complete) when it develops into a system (i.e.an organized structure)’. Then the connection with proposition (ii) is this: if the absolute is only substance, it cannot develop into a system; it can only do so if it is also an active, purposive subject. However, Hegel may instead, or even also, be continuing his subjective use of ‘system’, which also makes decent sense of (ii): ‘The true or absolute is only completely actualized when it is presented in a system by us, for only then does it fully recover itself in its creation. ’ This suggests that the ‘subject’ in (ii) is not only an active subject, but also a knowing, system-building subject. This eases the introduction of spirit. Here Hegel speaks of ‘the spiritual’ (das Geistige) as well as of ‘spirit’ (Geist), perhaps because he is discussing the emergence and development of spirit, which begins not from fully fledged spirit, but the spiritual aspect of ordinary life. This is initially embedded in substance, rather than free and independent (‘in-and-for-itself ’): it is ‘spiritual substance’ (geistige Substanz), an expression that recurs in PS   26 and 36 as well as in chapter VI. That ‘the spiritual alone is the actual’ means that only the spiritual has the power to undertake the following process: (1) It is the ‘essence’ or ‘in itself ’, it has an intrinsic nature that does not depend on its relationships to other things or, more specifically, on its being revealed to itself or to others.\n",
      " \n",
      "Info chunk 5:\n",
      "\n",
      "Secondly, it is inevitably limited and vulnerable to encroachment by other individual substances. Its naturalness is its limitation, but also its very essence or Self. Hence when it perishes, so does the living spirit that animates everyone. They cease to be a compact body of citizens and become a collection of separate individuals. --- c. The state of right  477. ‘True’ (wahre) is here close to ‘objective’. It contrasts with subjective ‘certainty’, which is no longer the subjective identification with ‘substance’ that characterized the city-state and is now directed elsewhere. On ‘self-essence’, see  472.\n",
      " \n",
      "Info chunk 6:\n",
      "\n",
      "Now that he has gone, spirit becomes the universal self- consciousness of the community of believers. What matters is not Christ alone, but what he is for this community. The immediacy of Christ’s sensory presence is mediated and universalized by its removal to a remote time and place. But this is just a representation, an artificial mixture of sensory immediacy and thought. The content of this representation is true, but the representational form is defective. It splits the world in two, earth and heaven, with no intelligible connection between them. In itself, i.e. for us philosophers, the religious doctrine has been comprehended conceptually. Now the religion should make this a reality, and elevate its consciousness up to the level of its self-consciousness.\n",
      " \n",
      "Info chunk 7:\n",
      "\n",
      "Correspondingly, ‘objectivity’ is Gegenständlichkeit. Objectivity is ‘negative’ to knowledge, in that while neither can occur without the other, they are distinct from each other, as are, say, the poles of a magnet or wife and husband: see also  37. The moments that spirit ‘unfolds’ are not the same as the moments of consciousness, viz. knowledge and objectivity. They are rather the stages of spirit’s development, while knowledge and objectivity are the ‘opposition’ that inheres in each stage. Hegel’s argument is: spirit unfolds its spirit-moments in consciousness, so the opposition involved in consciousness-moments inheres in every spirit-moment and every spirit-moment becomes a ‘shape’ or form of consciousness. On substance and its ‘movement’, cf. 18; on ‘spiritual substance’, cf.\n",
      " \n",
      "Info chunk 8:\n",
      "\n",
      "But it is the ‘self-confusing’ conscious- ness, or ‘the changeable’, that has to deal with all the confusions, and the drama is presented from its point of view. So it tends be an overseer as well. Hegel gives no hint here that Stoicism too is also a divided consciousness; its self- consciousness is ‘simple freedom’. Scepticism realizes this freedom by annihilating the ‘Being-there’ that threatens it, not simply retreating from it. It is this that leads to its duplication of self-consciousness. Duplication is a recurrent theme in PS: e.g.  486 on the duplication into the world of ‘actuality’ and the world of the ‘aether of pure consciousness’. Especially memorable is the description of ‘faith’ in  572: ‘The faithful consciousness weighs and measures by a twofold standard, it has two sorts of eyes, two sorts of ears, two sorts of tongue and language, etc. See also   468, 525, and 583, and, for references to unhappy consciousness,   483 and 528.\n",
      "\n",
      "\n",
      "\n",
      "Resulting answer:\n",
      "\n",
      "The concept of spirit in Hegel's hierarchy plays a crucial role as it represents the highest form of self-realization and actualization. Spirit, according to Hegel, is never sublated, meaning it is not negated or eliminated, but rather continues to evolve and manifest itself in various forms throughout history. It is the driving force behind the development of self-consciousness and the growth of individual minds.\n",
      "\n",
      "Hegel distinguishes three main stages of spirit: subjective spirit, which pertains to the individual mind; objective spirit, which refers to the collective social life of a community or people; and absolute spirit, which encompasses art, religion, and philosophy. While these distinctions are not explicitly outlined in Hegel's Phenomenology of Spirit, they are crucial to understanding the full scope of spirit's development and manifestation.\n",
      "\n",
      "Spirit, as Hegel describes it, is the unity of both objective being and self-consciousness. It incorporates previous shapes and aspects of itself, continually seeking to actualize its true nature. Through the process of dialectical development, spirit progresses towards a coherent temporal and historical development, mirroring the evolution of self-consciousness and human understanding.\n",
      "\n",
      "Spirit is closely linked to the concept of the absolute, representing the highest form of truth and actualization. It is through the unfolding and development of spirit that the absolute becomes fully realized, either through a system of organized structure guided by an active, purposive subject or through the emergence of spiritual consciousness embedded in ordinary life.\n",
      "\n",
      "Furthermore, spirit is interconnected with religious concepts, such as the transformation experienced through the representation of Christ's death, resurrection, and ascension. This transformation leads believers towards a universal self-consciousness within a community, emphasizing the importance of spiritual unity and connection beyond individual sensory experiences.\n",
      "\n",
      "Overall, spirit in Hegel's hierarchy represents the pinnacle of self-awareness, self-realization, and the unity of objective being and consciousness. It is through the evolution and development of spirit that the absolute truth is actualized and manifested in various forms throughout history.\n"
     ]
    }
   ],
   "source": [
    "print(ragpad(client, textdata=splitdata2, vecdf=df2, query=\"What is spirit in Hegel's hierarchy?\", k=8, n=4))"
   ]
  },
  {
   "cell_type": "code",
   "execution_count": 237,
   "id": "3a12299a-e59e-4092-98c4-8e19e988c64e",
   "metadata": {},
   "outputs": [
    {
     "name": "stdout",
     "output_type": "stream",
     "text": [
      "Answer from the basic LLM:\n",
      "\n",
      "In Hegel's philosophy, spirit is seen as the highest and most complex level of development in his hierarchy of categories. Spirit, or Geist in German, represents the pinnacle of human consciousness and self-awareness.\n",
      "\n",
      "Hegel's concept of spirit is not just limited to individual human minds, but also encompasses the collective thoughts, beliefs, and actions of society as a whole. According to Hegel, spirit is the driving force behind history and civilization, guiding the progress of humanity towards greater self-awareness and freedom.\n",
      "\n",
      "Spirit is characterized by its ability to reflect upon itself, to critically examine its own beliefs and values, and to strive for self-determination and self-realization. This process of self-reflection and self-development is what drives the dialectical movement of history, as individuals and societies constantly seek to overcome contradictions and conflicts in order to progress towards greater freedom and self-actualization.\n",
      "\n",
      "In Hegel's philosophy, spirit is the culmination of the dialectical development of nature and consciousness, and represents the highest form of human rationality and freedom. Spirit is both the subject and object of history, as it shapes and is shaped by the social, political, and cultural institutions of society.\n",
      "\n",
      "Overall, spirit in Hegel's hierarchy represents the highest form of human consciousness and self-awareness, embodying the ideals of rationality, freedom, and self-determination. It is through the development of spirit that individuals and societies can achieve greater self-realization and fulfillment.\n"
     ]
    }
   ],
   "source": [
    "print(\"Answer from the basic LLM:\\n\")\n",
    "\n",
    "print(answerme(client, \"What is spirit in Hegel's hierarchy? Please answer comprehensively\"))"
   ]
  },
  {
   "cell_type": "code",
   "execution_count": 238,
   "id": "55ceadde-c42a-48b9-9a51-1c008f87268c",
   "metadata": {},
   "outputs": [
    {
     "name": "stdout",
     "output_type": "stream",
     "text": [
      "What the LLM sees:\n",
      "\n",
      "The question is: What is the the abstract universality of Being according to Hegel?, please answer it comprehensively, please make use of the following retrieved text written by Hegel when answering the question. NOTE: if you cannot find suitable information below, return 'I don't know':\n",
      " \n",
      "Info chunk 1:\n",
      "\n",
      "The knowing I is now the essential, active party. This reversal acknowledges all the work done by the I in its attempt to pick out the object, and provides another way of picking it out, viz. by reference to the I itself. Then Hegel notes that ‘I’ is itself an indexical, applicable to everyone, and so cannot be used to refer to anyone in particular. However, ‘I’ is different from ‘this’, ‘here’, and ‘now’. Once we know who is using the word ‘this’, we still may not know what is referred to. But once we know who is using the word ‘I’, we know who is referred to. On the peculiarity of ‘I’, see further Chisholm (1981).\n",
      " \n",
      "Info chunk 2:\n",
      "\n",
      "So sensory certainty cannot fulfil its own requirement that its knowledge be immediate, with nothing, let alone anything universal, intruding between --- itself and the object. This modest (and charitable) interpretation leads naturally into the next shape of consciousness, perception, if we add that for an object to be identifiable in universal terms it must have an intrinsic universal aspect, not being only a This, but also having properties that are potentially shareable by an indefinite number of objects. ‘To perceive’ is ‘wahrnehmen’, which Hegel treats as a compound of ‘wahr’ (‘true(ly)’) and ‘nehmen’ (‘to take’), and thus as meaning ‘to take [something] truly, as it truly is’. His eulogy of language is hyperbolic. His arguments are not exclusively linguistic: cf. Nor, presumably, did he recognize his wife from a unique definite description of her. Perception: The Thing and Illusion  111. Hegel has two points in mind: (i) In sensory certainty, the two moments, the I and its object, do not develop out of something else, whereas in perception they do.\n",
      " \n",
      "Info chunk 3:\n",
      "\n",
      "‘Logical necessity’ holds sway only at a high level of abstraction. Hegel provides no clear criterion for deciding where necessity ends and contingency begins, nor is it always clear where he locates the boundary between them. There also remains the question whether the ‘movement’ is only logical (as in logic itself and—on Hegel’s view— in nature) or also temporal (as in history). Hegel clearly regards the order in which the terms occur as logical, both in his Logic and in PS, and this logical order is mirrored in a corresponding temporal sequence in the minds of Hegel and his readers. But to what extent --- does Hegel regard the logical order as mirrored in the historical development of humanity? He makes some attempt to correlate early stages of his Logic with stages in the history of philosophy, the concept of pure Being corresponding to Parmenides and that of becoming to Heraclitus, but thereafter his attempt to correlate the two orders becomes piecemeal and arbitrary. On the face of it, much of PS is not correlated with history, and those parts of it that are fall into three distinct historical sequences: from early Greece and/or the state of nature down to medieval Christianity (Self-consciousness: the struggle for recognition- Stoicism–Scepticism–the Unhappy Consciousness), from the Greek city-state to the French revolution and Kantian morality (Spirit), and from ancient Persia or thereabouts down to the Reformation (Religion). Critics of Hegel, such as Adolf Trendelenberg (1802–1872) and Hermann Lotze (1816–1881), have long argued that Hegel’s belief that concepts are embedded in extra-logical things and determine their structure as well as, in some cases, their development over time, is fallacious.\n",
      " \n",
      "Info chunk 4:\n",
      "\n",
      "One might simply list the parts of the body (a ‘table of contents’) or, more adventurously, study its structure in descriptive morphology. But at a more advanced stage we learn the functions of the various organs and how they interact with each other to form a system, in fact a system of systems, e.g. the muscular system, the nervous system, and so on. That this overall system in biological organisms is regarded by Hegel as deriving from a concept owes much to Kant’s Critique of Judgement. It applies more properly to a system such as Hegel’s, where it is obviously inadequate simply to list its contents, when the overall conception and the movement from one stage to another is integral to the system. This explains the aversion to prefaces expressed in   1f. , along with a comparison with anatomy. Hegel has in mind the development of his own system rather than the human body, when he speaks of the becoming of a ‘determinate simplicity’, e.g. the shape of consciousness that emerges from the ruins of its predecessor, and of its passing over into a ‘higher truth’, e.g. the more advanced shape of consciousness. On substance as subject, see   17f.\n",
      " \n",
      "Info chunk 5:\n",
      "\n",
      "So did the chorus in tragedies. For Hegel, the removal of the mask symbolizes the unhypocritical plain speaking of comedy about the gods and everything else. The comic Self has the gods in its power. It is elevated above them as if they were each just a property or attribute of a thing, pretending to be something in its own right. It plays with its mask to show that it is a Self, just like the actor and the spectator. There is some similarity to the resolution of the division between enlightenment and superstition, when heaven is transplanted to earth and the Self breaks free: see  581. The old gods took care of the natural and the ethical well-being of man. But now the divine order has broken down and man takes his fate into his own hands, with unhappy results.\n",
      " \n",
      "Info chunk 6:\n",
      "\n",
      ", but whereas Socrates’s wisdom and justice are distinct from Socrates himself, God’s wisdom and justice are identical with God. Yovel (2005, p.103) plausibly suggests that Hegel effected ‘a becoming-other that must be taken back’ in yet another way, retracting the initial predication by further predications. The subject ‘becomes other’ when a predicate is ascribed to it: e.g. if we say ‘Man is an animal’, man becomes other than himself, namely an animal. But if we add a further predicate, ‘rational’, we restore man to his original status, only on a higher, more explicit plane: ‘Man is a rational animal’. The absolute is more complex, but the principle is the same. We start by saying, e.g. ‘The absolute is pure Being’, which makes it other than itself, and eventually (by the end of Hegel’s Logic, at least by the end of his system) we arrive at a way of speaking about the absolute that is adequate to it and restores it to its initial grandeur. Hegel’s Logic can be seen initially as a series of predications of the absolute or God. Here Hegel agrees with Aquinas and disagrees with Plotinus.\n",
      " \n",
      "Info chunk 7:\n",
      "\n",
      "1of itself as its objective substance, and simple self-consciousness remaining  750. The religion of art belongs to the ethical spirit which we earlier saw perish in the state of right, i.e. in the proposition: the Self as such, the abstract person, is absolute essence. In the ethical life, the Self is submerged in the spirit of its people, it is universality filled. But simple singularity arises out of this content, and its levity refines it into a person, into the abstract universality of right. In this universality the reality of the ethical spirit is lost and, empty of content, the spirits of the national individuals are gathered into a single pantheon, not a pantheon of representation whose powerless form lets each spirit go its own way, but the pantheon of abstract universality, of pure thought, which disembodies them and assigns Being in- and for- itself to the spiritless Self, to the singular person. But this Self has, through its emptiness, let the content go free; consciousness is the essence only within itself; its own Being-there, the juridical recognition of the person, is the unfilled abstraction; it possesses, therefore, rather only the thought of itself; or as it is there and knows itself as object, it is the consciousness that is not actual. Hence it is only the stoical independence of thinking, and this, passing through the movement of the sceptical consciousness, finds its truth in that shape which was called the unhappy self-consciousness. This self-consciousness knows all about the actual validity of the abstract person and all about its validity in pure thought.\n",
      " \n",
      "Info chunk 8:\n",
      "\n",
      "But this new principle restricts the first: ‘Insofar as the not-self is posited, the Self is not posited; for the not-self completely nullifies the Self ’ (ibid. By the first principle the I is established (or establishes itself) as the unrestricted lord of the universe, but it has to ‘posit’ an opponent, and this contracts its domain. The simple models that Hegel has presented earlier have a similar structure. In PS  2 successive philosophies are related to each other like the stages in the growth of a plant, each ‘refuted’ by its successor. In   18 and 19, God first becomes other than himself, in a way refuting himself, and then recovers himself in the world. Here Hegel is primarily referring to the treatment of abstract concepts in his logic. But his procedure in the body of PS follows the same pattern. Each shape of consciousness (including the opening one, sensory certainty) is supplanted by its successor; it does not persist unmodified in the way that a traditional axiom, premise, or theorem does.\n",
      "\n",
      "\n",
      "\n",
      "Resulting answer:\n",
      "\n",
      "The abstract universality of Being according to Hegel lies in the concept of self-consciousness and its development through various stages of consciousness. Hegel emphasizes the importance of the knowing \"I\" as the active party in the process of understanding the object, acknowledging the role of the self in the perception of the external world. The \"I\" is considered an indexical that applies universally, as it refers to the self in a way that is recognizable across individuals.\n",
      "\n",
      "Hegel explores the idea that for an object to be identifiable in universal terms, it must possess an intrinsic universal aspect beyond its mere existence as a singular entity. This leads to the development of perception as a stage of consciousness, where the true nature of objects is perceived as part of a larger system of shared properties. The progression from sensory certainty to perception involves a shift from immediate knowledge to a more nuanced understanding of objects in relation to their universal aspects.\n",
      "\n",
      "Furthermore, Hegel's view of logical necessity operates at a high level of abstraction, with the distinction between necessity and contingency not always clearly defined. He also considers the correlation between logical order and temporal sequence, both in the development of his philosophical system and in historical progress. Hegel attempts to align early stages of his logic with historical movements in philosophy, but critics have pointed out inconsistencies in this approach.\n",
      "\n",
      "In his discussion of self-consciousness and the evolution of consciousness, Hegel delves into the concept of abstract universality within the ethical spirit. The development of the Self from simple singularity to abstract universality of right represents a progression towards a more refined understanding of individuality within a broader social and ethical context.\n",
      "\n",
      "Overall, Hegel's exploration of self-consciousness, perception, and logical necessity provides insights into the abstract universality of Being, highlighting the interconnectedness between individual selves, objects, and the larger systems of consciousness and reality.\n"
     ]
    }
   ],
   "source": [
    "print(ragpad(client, textdata=splitdata2, vecdf=df2, query=\"What is the the abstract universality of Being according to Hegel?\", k=8, n=4))"
   ]
  },
  {
   "cell_type": "code",
   "execution_count": 239,
   "id": "c40374bc-05bf-4b0b-b68d-108aebfcd26a",
   "metadata": {},
   "outputs": [
    {
     "name": "stdout",
     "output_type": "stream",
     "text": [
      "Answer from the basic LLM:\n",
      "\n",
      "Hegel's concept of the abstract universality of Being is central to his philosophical system. According to Hegel, Being is the most fundamental category of thought, representing the purest form of existence. Being is abstract in the sense that it is devoid of any particular determinations or characteristics, existing in a state of simple, undifferentiated unity.\n",
      "\n",
      "Hegel believed that the abstract universality of Being is the starting point of all philosophical inquiry, as it represents the most basic level of existence from which all other categories of thought emerge. Being is the ground of all reality, the underlying principle that gives rise to the diversity of the world we experience.\n",
      "\n",
      "Hegel argued that the abstract universality of Being is a necessary concept for understanding the nature of reality, as it serves as the foundation upon which all other categories of thought are based. By starting with the concept of Being, Hegel believed that we can move towards a more comprehensive understanding of the world and the nature of existence.\n",
      "\n",
      "In his famous dialectical method, Hegel sought to demonstrate how the abstract universality of Being gives rise to its opposite, Nothingness, and how the interplay between these two concepts leads to the emergence of higher-order categories such as Becoming, Essence, and finally, Absolute Spirit. By tracing the development of these categories through a process of negation and reconciliation, Hegel sought to show how the abstract universality of Being forms the basis for the dynamic and interconnected nature of reality.\n",
      "\n",
      "In summary, the abstract universality of Being according to Hegel represents the most fundamental level of existence, serving as the starting point for all philosophical inquiry and providing the foundation upon which the diversity of the world emerges. Hegel's exploration of the concept of Being is a key aspect of his philosophy, as it forms the basis for his dialectical method and his broader understanding of the nature of reality.\n"
     ]
    }
   ],
   "source": [
    "print(\"Answer from the basic LLM:\\n\")\n",
    "\n",
    "print(answerme(client, \"What is the the abstract universality of Being according to Hegel? Please answer comprehensively\"))"
   ]
  },
  {
   "cell_type": "code",
   "execution_count": 240,
   "id": "5e44501e-a204-452a-8003-e5c98b0fcdf5",
   "metadata": {},
   "outputs": [
    {
     "name": "stdout",
     "output_type": "stream",
     "text": [
      "What the LLM sees:\n",
      "\n",
      "The question is: What did Hegel say about blossoms and buds?, please answer it comprehensively, please make use of the following retrieved text written by Hegel when answering the question. NOTE: if you cannot find suitable information below, return 'I don't know':\n",
      " \n",
      "Info chunk 1:\n",
      "\n",
      "), where an attempt is made to close the gap between self-consciousness and external actuality, and especially to its first subsection, ‘The spiritual animal kingdom’ (  397ff. ), where the individual sets out to express himself in an unresisting actuality. a. Pleasure and necessity  360. A free quotation from Goethe’s Faust, Part I of 1790, which inspires this whole section. The reference to ‘theory’ as a grey shadow alludes to Mephistopheles’s words: ‘My worthy friend, grey are all theories/And green alone life’s golden tree’. Self-consciousness has, like Faust himself, abandoned observing reason’s theoretical approach to Being and now exploits it for its own pleasure. As  364 reveals, the expression ‘es nimmt sich das Leben’, translated as ‘it takes hold of life’, can also mean ‘it takes its own life’, i.e. kills itself. Desire here does not, as it did in   167ff.\n",
      " \n",
      "Info chunk 2:\n",
      "\n",
      "The first estrangement, that of substance into the Self, is an unconscious necessity: substance is in itself, or potentially, self-conscious, but that is not enough for it to conduct or be aware of its own estrangement. By contrast, while the second estrangement also expresses self-consciousness’s implicit identity with its opposite, the universal essence, self-consciousness is aware of the transition and conducts it itself. Christ had an actual mother, but only the in-itself for a father. This symbolizes the union of self-consciousness and the substance. Spirit involves two estrangements, that of the essence into self-consciousness and that of self-consciousness into the essence. Some religions of the Roman Empire (such as neo- Platonism and the mystery religions of Isis and Mithras) acknowledged only the second of these, the Self ’s self-estrangement into substance, thereby regarding the whole world as imbued with spirit. But without the first estrangement, the genuine transition of the essence into self-consciousness, this is just an imaginative projection. It attributes to worldly reality a hidden sense that is not apparent to sober consciousness and that was far from the minds of the original adherents of the ancient religions that are now revived.\n",
      " \n",
      "Info chunk 3:\n",
      "\n",
      "In the case of philosophy, by contrast, this would give rise to the incon- gruity that this manner of which philosophy makes use is shown by philosophy itself to be incapable of grasping the truth. So too, determining the relationship that a philosophical work supposes it has with other undertakings on the same subject introduces an extraneous concern, and obscures what really matters in the cognition of the truth. As the opposition between the true and the false becomes firmly fixed for opinion, 1 opinion tends to expect either assent or contradiction in response to a current philosophical system, and to see in any comment on such a system only the one or the other. Opinion does not comprehend the diversity of philosophical systems as the progressive unfolding of the truth; rather it sees in the diversity only contradiction. The bud disappears when the blossom bursts forth, and one could say that the bud is refuted by the blossom; similarly, when the fruit appears, the blossom is declared to be a false Being-there2 of the plant, and the fruit replaces the blossom as the truth of the plant. These forms are not only different, they also supplant one another as mutually incompatible. Yet at the same time their fluid nature makes them moments of the organic unity, in which they not only do not conflict, but each is as necessary as the other; and this shared --- necessity alone constitutes the life of the whole. But the contradiction levelled against a philosophical system does not usually comprehend itself in this way; nor does the apprehending consciousness generally know how to liberate the contradiction from its one-sidedness or keep it free, and to recognize the reciprocally necessary moments in the shape of seeming conflict and contrariety.\n",
      " \n",
      "Info chunk 4:\n",
      "\n",
      "It contrasts, in particular, with Vorstellung, pictorial ‘representation’. Whereas Vorstellung tends to separate things, Begreifen brings them together as interacting activities or processes, and hence combines inclusion with abstraction. A concept, for Hegel, is abstract and non-empirical. Thus, e.g., Being is a concept, but redness is not. Nevertheless, it is useful to consider a concept in terms of Hegel’s botanical analogy. A concept is comparable to the plan or programme embodied in a seed. Thus the concept of something is often just the undeveloped beginning of it, as in  78. But this concept generates and controls the subsequent growth of the plant.\n",
      " \n",
      "Info chunk 5:\n",
      "\n",
      "Secondly, it is inevitably limited and vulnerable to encroachment by other individual substances. Its naturalness is its limitation, but also its very essence or Self. Hence when it perishes, so does the living spirit that animates everyone. They cease to be a compact body of citizens and become a collection of separate individuals. --- c. The state of right  477. ‘True’ (wahre) is here close to ‘objective’. It contrasts with subjective ‘certainty’, which is no longer the subjective identification with ‘substance’ that characterized the city-state and is now directed elsewhere. On ‘self-essence’, see  472.\n",
      " \n",
      "Info chunk 6:\n",
      "\n",
      "—though we shall be less inclined to say that this ‘equality’ is the ‘goal’ of blind energy. It remains the case that the true is the whole process, not just the energy that initiates it. ‘Love’s play with itself ’ does not refer to solitary masturbation, but to the idea that each of two lovers identifies him- or herself with the other. Thus each of the pair, in playing with the other, is in a way playing with him- or herself. Because of this identity in difference, love is an appropriate metaphor for God’s relationship both with other members of the Trinity and with the world he creates. In Hegel (1895) III, pp. 11 and 35, Hegel applies the metaphor to the eternal (or atemporal) triplicity within God, while PS  19 applies it to God’s creation, and subsequent redemption, of the world, which, in contrast to God’s inner triune life, requires ‘alienation’ (Entfremdung) of himself, and then the labour of redis- covering himself in the world. However, God as the ‘essence’, i.e. the atemporal triune God, involves the ‘form’ in which the essence is to develop, and so also involves temporal creation and redemption, whereby the ‘in-itself ’, God as merely potential, becomes ‘for itself ’, fully actual, and also self-aware.\n",
      " \n",
      "Info chunk 7:\n",
      "\n",
      "This stance is ultimately unsatisfactory, but then the conscientious Self relents and receives forgiveness: see  670. We have here the three moments that we saw in  789: immediate Being-there, determinate Being-there or relationship, and the essence or universality, corresponding respectively to sensory certainty, perception, and understanding. Immediate Being-there is accommodated by acknowledging the importance of conscience. Determinate Being-there, which in  791 was represented as utility, is now accommodated as the oppositional relationship between the singular Self ’s dutiful action and the universal ethical order. This opposition is reconciled in the act of forgiveness, whereby the conscientious Self is reintegrated into the universal order, and the singular Self becomes identical with the universal Self: see  671 and note. The upshot is a society that gives their due both to the moral conscience and to the ethical order. This amounts to a reconciliation of self-consciousness, the singular Self, with consciousness, the universal Self, that we also find in Christianity. Religion effects this reconciliation in the form of Being-in-itself, or according to its absolute content.\n",
      " \n",
      "Info chunk 8:\n",
      "\n",
      "So another thing is needed with properties incompatible with those of the first thing, but similarly compatible with each other, e.g. sweet, brown chocolate. Owing to the presence of other things, the first thing ceases to be merely thinghood, a medium for properties, and becomes a unitary thing, excluding other things and their opposing properties. Within the passive universality or medium, properties are relatively independent and loosely related to each other. In the science of Hegel’s time, they are regarded as ‘matters’, such as heat-matter, electrical-matter, etc. , that occupy pores in the thing: see Enc. In the unitary thing, by contrast, properties are tightly integrated into the thing, enabling it to exclude other things with their competing properties. There is a tension between these two views of the thing and its properties. Somehow the unity of the thing needs to be maintained along with the diversity of its properties.\n",
      "\n",
      "\n",
      "\n",
      "Resulting answer:\n",
      "\n",
      "Hegel's thoughts on blossoms and buds can be found in the retrieved text in chunk 3. He uses the metaphor of the blossom and bud to explain the progression and development of concepts or ideas. Hegel discusses how the bud disappears when the blossom bursts forth, and how the fruit replaces the blossom as the truth of the plant. According to Hegel, these forms, such as the bud, blossom, and fruit, are not only different from each other but also supplant one another as mutually incompatible. However, he points out that their fluid nature makes them moments of the organic unity, where each form is as necessary as the other. This shared necessity alone constitutes the life of the whole.\n",
      "\n",
      "Hegel uses this analogy to illustrate the unfolding of truth in philosophical systems. He mentions how opposition towards a philosophical system does not usually comprehend itself in the same way, nor does the consciousness know how to liberate the contradiction from its one-sidedness. Hegel emphasizes the importance of recognizing the reciprocally necessary moments in the seeming conflict and contrariety, similar to how the bud is necessary for the blossom to emerge and for the fruit to later replace the blossom.\n",
      "\n",
      "In essence, Hegel's discussion on blossoms and buds highlights the dynamic and interconnected nature of concepts and ideas, where different forms or stages are necessary for the development and realization of truth or the whole. This progression is not about refuting earlier stages but rather acknowledging their importance and necessity in the larger process of growth and realization.\n"
     ]
    }
   ],
   "source": [
    "print(ragpad(client, textdata=splitdata2, vecdf=df2, query=\"What did Hegel say about blossoms and buds?\", k=8, n=4))"
   ]
  },
  {
   "cell_type": "code",
   "execution_count": 241,
   "id": "c9cd7b6c-854f-47a4-afdb-dcbdc473f5ae",
   "metadata": {},
   "outputs": [
    {
     "name": "stdout",
     "output_type": "stream",
     "text": [
      "Answer from the basic LLM:\n",
      "\n",
      "Hegel, the German philosopher, discussed the concept of blossoms and buds in his philosophy of nature and human development.\n",
      "\n",
      "He used the metaphor of blossoms and buds to illustrate the process of growth and development. Buds represent the potential and possibility of a plant or idea, while blossoms represent the actualization and fulfillment of that potential.\n",
      "\n",
      "Hegel argued that just as a bud must go through a process of growth and development to become a blossom, individuals and societies must go through a similar process of development to realize their full potential.\n",
      "\n",
      "He believed that this process was a dialectical one, where opposing forces and contradictions must be reconciled in order for growth and development to occur. This dialectical process is what drives history and human progress, according to Hegel.\n",
      "\n",
      "In conclusion, Hegel used the metaphor of blossoms and buds to emphasize the importance of growth, development, and the reconciliation of contradictions in the process of human and societal evolution.\n"
     ]
    }
   ],
   "source": [
    "print(\"Answer from the basic LLM:\\n\")\n",
    "\n",
    "print(answerme(client, \"What did Hegel say about blossoms and buds? Please answer comprehensively\"))"
   ]
  }
 ],
 "metadata": {
  "kernelspec": {
   "display_name": "Python 3 (ipykernel)",
   "language": "python",
   "name": "python3"
  },
  "language_info": {
   "codemirror_mode": {
    "name": "ipython",
    "version": 3
   },
   "file_extension": ".py",
   "mimetype": "text/x-python",
   "name": "python",
   "nbconvert_exporter": "python",
   "pygments_lexer": "ipython3",
   "version": "3.11.5"
  }
 },
 "nbformat": 4,
 "nbformat_minor": 5
}
