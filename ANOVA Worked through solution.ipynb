{
 "cells": [
  {
   "cell_type": "code",
   "execution_count": 407,
   "metadata": {},
   "outputs": [],
   "source": [
    "import numpy as np\n",
    "import matplotlib.pyplot as plt\n",
    "import scipy as sp\n",
    "from scipy import stats\n",
    "import seaborn as sns\n",
    "sns.set()\n",
    "\n",
    "plt.rcParams[\"figure.figsize\"] = (20,12)"
   ]
  },
  {
   "cell_type": "markdown",
   "metadata": {},
   "source": [
    "ANOVA = Analysis of Variance\n",
    "\n",
    "What is it for? \n",
    "\n",
    "It allows us to compare the means of different groups to see if their sample means are demonstratably different statistically, or whether the difference between the sample means is possibly just due to random variation.\n",
    "\n",
    "When would we use it?\n",
    "\n",
    "Imagine we have 100 respondents to a survey. We categorise the respondents into three categories:\n",
    "\n",
    "1. Big spenders\n",
    "2. Average spenders\n",
    "3. Budget customers\n",
    "\n",
    "All respondents rate how much they like our new branding on a scale of one to ten. \n",
    "\n",
    "Imagine we find the following:\n",
    "\n",
    "$$ \\bar{x}_{big} = 8.2 $$\n",
    "\n",
    "$$\\bar{x}_{avg} = 7.8$$\n",
    "\n",
    "$$\\bar{x}_{budget} = 6.9  $$\n",
    "\n",
    "Note these are the sample means from the data! They are estimators, not parameters i.e. they are evidence for a hidden parameter"
   ]
  },
  {
   "cell_type": "markdown",
   "metadata": {},
   "source": [
    "What if we want to test this hypothesis:\n",
    "\n",
    "$$H_0 : \\mu_{big} = \\mu_{avg} = \\mu_{budget}$$"
   ]
  },
  {
   "cell_type": "markdown",
   "metadata": {},
   "source": [
    "You might think it is a simple as saying, if the sample means are different, then the true means (parameters) are probably different!\n",
    "\n",
    "Yes, but how likely? In statistics, we only accept something as true if it can be demonstrated to some specific level of confidence."
   ]
  },
  {
   "cell_type": "markdown",
   "metadata": {},
   "source": [
    "In ANOVA, we use the following formulae to find out if this is true:\n",
    "\n",
    "$SST = \\sum_{i=1}^k  \\sum_{j=1}^{n_i} (Y_{ij} - \\bar{Y})^2 = \\sum_{a = 1}^N (Y_a - \\bar{Y})^2$\n",
    "\n",
    "$SSE = \\sum_{i=1}^k  \\sum_{j=1}^{n_i} (Y_{ij} - \\bar{Y_{i}})^2$\n",
    "\n",
    "$SST = SSE + SSTr$\n",
    "\n",
    "Therefore:\n",
    "\n",
    "$SST - SSE = SSTr$"
   ]
  },
  {
   "cell_type": "markdown",
   "metadata": {},
   "source": [
    "$MSE = \\frac{SSE}{N-k}$\n",
    "\n",
    "$MSTr = \\frac{SSTr}{k-1}$\n",
    "\n",
    "$\\frac{MSTr}{MSE} = F-stat$\n",
    "\n",
    "$F > F_{\\alpha} (k-1, N-k) \\rightarrow Reject H_0$"
   ]
  },
  {
   "cell_type": "markdown",
   "metadata": {},
   "source": [
    "This actually turns out to be a generalisation of linear regression!"
   ]
  },
  {
   "cell_type": "markdown",
   "metadata": {},
   "source": [
    "Q1. Find $F_{\\alpha} (k-1, N-k)$ if $\\alpha = 0.05$"
   ]
  },
  {
   "cell_type": "markdown",
   "metadata": {},
   "source": [
    "Answer:"
   ]
  },
  {
   "cell_type": "code",
   "execution_count": 408,
   "metadata": {},
   "outputs": [
    {
     "data": {
      "text/plain": [
       "3.8852938346523933"
      ]
     },
     "execution_count": 408,
     "metadata": {},
     "output_type": "execute_result"
    }
   ],
   "source": [
    "sp.stats.f.ppf(q=0.95, dfn=2, dfd=12)"
   ]
  },
  {
   "cell_type": "code",
   "execution_count": 409,
   "metadata": {},
   "outputs": [],
   "source": [
    "big = [8.2, 8.4, 8, 8.6, 7.8]"
   ]
  },
  {
   "cell_type": "code",
   "execution_count": 410,
   "metadata": {},
   "outputs": [],
   "source": [
    "avg = [7.8, 7.7, 7.9, 7.5, 8.1]"
   ]
  },
  {
   "cell_type": "code",
   "execution_count": 411,
   "metadata": {},
   "outputs": [],
   "source": [
    "budget = [6.9, 5.9, 7.9, 5, 8.8]"
   ]
  },
  {
   "cell_type": "markdown",
   "metadata": {},
   "source": [
    "Big spenders: $[8.2, 8.4, 8, 8.6, 7.8]$\n",
    "\n",
    "Avg. spenders: $[7.8, 7.7, 7.9, 7.5, 8.1]$\n",
    "\n",
    "Budget spenders: $[6.9, 5.9, 7.9, 5, 8.8]$\n",
    "\n",
    "Can we assume that the means are different at a 95% confidence level?"
   ]
  },
  {
   "cell_type": "code",
   "execution_count": 412,
   "metadata": {},
   "outputs": [],
   "source": [
    "obs = big + avg + budget"
   ]
  },
  {
   "cell_type": "code",
   "execution_count": 413,
   "metadata": {},
   "outputs": [
    {
     "data": {
      "text/plain": [
       "[8.2, 8.4, 8, 8.6, 7.8, 7.8, 7.7, 7.9, 7.5, 8.1, 6.9, 5.9, 7.9, 5, 8.8]"
      ]
     },
     "execution_count": 413,
     "metadata": {},
     "output_type": "execute_result"
    }
   ],
   "source": [
    "obs"
   ]
  },
  {
   "cell_type": "markdown",
   "metadata": {},
   "source": [
    "Let's find the grand mean $\\bar{Y}$"
   ]
  },
  {
   "cell_type": "code",
   "execution_count": 414,
   "metadata": {},
   "outputs": [],
   "source": [
    "gmean = sum(obs)/15"
   ]
  },
  {
   "cell_type": "code",
   "execution_count": 415,
   "metadata": {
    "scrolled": true
   },
   "outputs": [
    {
     "data": {
      "text/plain": [
       "7.633333333333335"
      ]
     },
     "execution_count": 415,
     "metadata": {},
     "output_type": "execute_result"
    }
   ],
   "source": [
    "gmean"
   ]
  },
  {
   "cell_type": "markdown",
   "metadata": {},
   "source": [
    "Now let's find the SST\n",
    "\n",
    "$SST = \\sum_{i=1}^k  \\sum_{j=1}^{n_i} (Y_{ij} - \\bar{Y})^2 = \\sum_{a = 1}^N (Y_a - \\bar{Y})^2$"
   ]
  },
  {
   "cell_type": "code",
   "execution_count": 416,
   "metadata": {},
   "outputs": [],
   "source": [
    "SST = sum([(_ - gmean)**2 for _ in obs])"
   ]
  },
  {
   "cell_type": "code",
   "execution_count": 417,
   "metadata": {},
   "outputs": [
    {
     "data": {
      "text/plain": [
       "14.253333333333334"
      ]
     },
     "execution_count": 417,
     "metadata": {},
     "output_type": "execute_result"
    }
   ],
   "source": [
    "SST"
   ]
  },
  {
   "cell_type": "markdown",
   "metadata": {},
   "source": [
    "Now the SSE: \n",
    "\n",
    "$SSE = \\sum_{i=1}^k  \\sum_{j=1}^{n_i} (Y_{ij} - \\bar{Y_{i}})^2$\n",
    "\n"
   ]
  },
  {
   "cell_type": "code",
   "execution_count": 418,
   "metadata": {},
   "outputs": [],
   "source": [
    "SSE = sum([(_ - np.mean(big))**2 for _ in big]) + sum([(_ - np.mean(avg))**2 for _ in avg]) + sum([(_ - np.mean(budget))**2 for _ in budget])"
   ]
  },
  {
   "cell_type": "code",
   "execution_count": 419,
   "metadata": {},
   "outputs": [
    {
     "data": {
      "text/plain": [
       "9.820000000000002"
      ]
     },
     "execution_count": 419,
     "metadata": {},
     "output_type": "execute_result"
    }
   ],
   "source": [
    "SSE"
   ]
  },
  {
   "cell_type": "markdown",
   "metadata": {},
   "source": [
    "$SSTr = SST - SSE$\n",
    "\n",
    "$MSE = \\frac{SSE}{N-k}$\n",
    "\n",
    "$MSTr = \\frac{SSTr}{k-1}$"
   ]
  },
  {
   "cell_type": "code",
   "execution_count": 420,
   "metadata": {},
   "outputs": [],
   "source": [
    "SSTr = SST - SSE"
   ]
  },
  {
   "cell_type": "code",
   "execution_count": 421,
   "metadata": {},
   "outputs": [],
   "source": [
    "MSE = SSE/(15-3)"
   ]
  },
  {
   "cell_type": "code",
   "execution_count": 422,
   "metadata": {},
   "outputs": [],
   "source": [
    "MSTr = SSTr/(3-1)"
   ]
  },
  {
   "cell_type": "code",
   "execution_count": 423,
   "metadata": {},
   "outputs": [
    {
     "data": {
      "text/plain": [
       "4.433333333333332"
      ]
     },
     "execution_count": 423,
     "metadata": {},
     "output_type": "execute_result"
    }
   ],
   "source": [
    "SSTr"
   ]
  },
  {
   "cell_type": "code",
   "execution_count": 424,
   "metadata": {},
   "outputs": [
    {
     "data": {
      "text/plain": [
       "0.8183333333333335"
      ]
     },
     "execution_count": 424,
     "metadata": {},
     "output_type": "execute_result"
    }
   ],
   "source": [
    "MSE"
   ]
  },
  {
   "cell_type": "code",
   "execution_count": 425,
   "metadata": {},
   "outputs": [
    {
     "data": {
      "text/plain": [
       "2.216666666666666"
      ]
     },
     "execution_count": 425,
     "metadata": {},
     "output_type": "execute_result"
    }
   ],
   "source": [
    "MSTr"
   ]
  },
  {
   "cell_type": "code",
   "execution_count": 426,
   "metadata": {},
   "outputs": [],
   "source": [
    "F = MSTr/MSE"
   ]
  },
  {
   "cell_type": "code",
   "execution_count": 427,
   "metadata": {},
   "outputs": [
    {
     "data": {
      "text/plain": [
       "2.7087576374745406"
      ]
     },
     "execution_count": 427,
     "metadata": {},
     "output_type": "execute_result"
    }
   ],
   "source": [
    "F"
   ]
  },
  {
   "cell_type": "code",
   "execution_count": 428,
   "metadata": {},
   "outputs": [],
   "source": [
    "Fcrit = sp.stats.f.ppf(q=0.95, dfn=2, dfd=12)"
   ]
  },
  {
   "cell_type": "code",
   "execution_count": 429,
   "metadata": {},
   "outputs": [
    {
     "data": {
      "text/plain": [
       "3.8852938346523933"
      ]
     },
     "execution_count": 429,
     "metadata": {},
     "output_type": "execute_result"
    }
   ],
   "source": [
    "Fcrit"
   ]
  },
  {
   "cell_type": "code",
   "execution_count": 430,
   "metadata": {},
   "outputs": [
    {
     "data": {
      "text/plain": [
       "False"
      ]
     },
     "execution_count": 430,
     "metadata": {},
     "output_type": "execute_result"
    }
   ],
   "source": [
    "F > Fcrit"
   ]
  },
  {
   "cell_type": "markdown",
   "metadata": {},
   "source": [
    "Conclusion: We cannot reject $H_0$ with statistical significance at $\\alpha = 0.05$\n",
    "\n",
    "What about 90%?"
   ]
  },
  {
   "cell_type": "code",
   "execution_count": 431,
   "metadata": {},
   "outputs": [],
   "source": [
    "Fcrit2 = sp.stats.f.ppf(q=0.90, dfn=2, dfd=12)"
   ]
  },
  {
   "cell_type": "code",
   "execution_count": 432,
   "metadata": {},
   "outputs": [
    {
     "data": {
      "text/plain": [
       "2.806795605732417"
      ]
     },
     "execution_count": 432,
     "metadata": {},
     "output_type": "execute_result"
    }
   ],
   "source": [
    "Fcrit2"
   ]
  },
  {
   "cell_type": "code",
   "execution_count": 433,
   "metadata": {},
   "outputs": [
    {
     "data": {
      "text/plain": [
       "False"
      ]
     },
     "execution_count": 433,
     "metadata": {},
     "output_type": "execute_result"
    }
   ],
   "source": [
    "F > Fcrit2"
   ]
  },
  {
   "cell_type": "markdown",
   "metadata": {},
   "source": [
    "Also no, but it's close!\n",
    "\n",
    "Now let's repeat the process, but this time we'll reduce the amount of variance for the budget spender column!"
   ]
  },
  {
   "cell_type": "code",
   "execution_count": 434,
   "metadata": {},
   "outputs": [
    {
     "data": {
      "text/plain": [
       "6.9"
      ]
     },
     "execution_count": 434,
     "metadata": {},
     "output_type": "execute_result"
    }
   ],
   "source": [
    "np.mean(budget)"
   ]
  },
  {
   "cell_type": "code",
   "execution_count": 435,
   "metadata": {},
   "outputs": [
    {
     "data": {
      "text/plain": [
       "1.8440000000000005"
      ]
     },
     "execution_count": 435,
     "metadata": {},
     "output_type": "execute_result"
    }
   ],
   "source": [
    "np.var(budget)"
   ]
  },
  {
   "cell_type": "code",
   "execution_count": 436,
   "metadata": {},
   "outputs": [],
   "source": [
    "budget2 = [6.9, 6.8, 7, 6.8, 7]"
   ]
  },
  {
   "cell_type": "code",
   "execution_count": 437,
   "metadata": {},
   "outputs": [
    {
     "data": {
      "text/plain": [
       "6.9"
      ]
     },
     "execution_count": 437,
     "metadata": {},
     "output_type": "execute_result"
    }
   ],
   "source": [
    " np.mean(budget2)"
   ]
  },
  {
   "cell_type": "code",
   "execution_count": 438,
   "metadata": {},
   "outputs": [
    {
     "data": {
      "text/plain": [
       "0.008000000000000014"
      ]
     },
     "execution_count": 438,
     "metadata": {},
     "output_type": "execute_result"
    }
   ],
   "source": [
    "np.var(budget2)"
   ]
  },
  {
   "cell_type": "code",
   "execution_count": 439,
   "metadata": {},
   "outputs": [],
   "source": [
    "obs = big + avg + budget2"
   ]
  },
  {
   "cell_type": "markdown",
   "metadata": {},
   "source": [
    "Note how small the SST has become! Previously it was 14.253. This is because, now, our sample means are generally much better predictions for the actual observed values."
   ]
  },
  {
   "cell_type": "code",
   "execution_count": 440,
   "metadata": {},
   "outputs": [
    {
     "data": {
      "text/plain": [
       "5.0733333333333315"
      ]
     },
     "execution_count": 440,
     "metadata": {},
     "output_type": "execute_result"
    }
   ],
   "source": [
    "SST = sum([(_ - gmean)**2 for _ in obs])\n",
    "SST"
   ]
  },
  {
   "cell_type": "markdown",
   "metadata": {},
   "source": [
    "However, the SSE has also become smaller! A lot smaller! Previously it was 9.82!\n",
    "\n",
    "Remember that the SSE will be used to find the Within-treatment variation! It gives a value that measures the within treatment variation across all groups."
   ]
  },
  {
   "cell_type": "code",
   "execution_count": 441,
   "metadata": {},
   "outputs": [
    {
     "data": {
      "text/plain": [
       "0.6399999999999999"
      ]
     },
     "execution_count": 441,
     "metadata": {},
     "output_type": "execute_result"
    }
   ],
   "source": [
    "SSE = sum([(_ - np.mean(big))**2 for _ in big]) + sum([(_ - np.mean(avg))**2 for _ in avg]) + sum([(_ - np.mean(budget2))**2 for _ in budget2])\n",
    "SSE"
   ]
  },
  {
   "cell_type": "code",
   "execution_count": 442,
   "metadata": {},
   "outputs": [],
   "source": [
    "SSTr = SST - SSE\n",
    "MSE = SSE/(15-3)\n",
    "MSTr = SSTr/(3-1)"
   ]
  },
  {
   "cell_type": "markdown",
   "metadata": {},
   "source": [
    "SSTr (sum of squared treatments) measures the variation between the treatments groups. Specifically the means of the treatment groups. \n",
    "\n",
    "In fact, SSTr can be calculated:\n",
    "\n",
    "$$\\sum_{i=1}^k n_i (\\bar{Y_i} - \\bar{Y})^2 $$\n",
    "\n",
    "Which is just a sum of squared calculation comparing the means of the each group with the grand mean, weighted by the size of the sub-sample for each group!"
   ]
  },
  {
   "cell_type": "code",
   "execution_count": 443,
   "metadata": {},
   "outputs": [
    {
     "data": {
      "text/plain": [
       "4.4333333333333265"
      ]
     },
     "execution_count": 443,
     "metadata": {},
     "output_type": "execute_result"
    }
   ],
   "source": [
    "output = []\n",
    "\n",
    "for _ in [big, avg, budget2]:\n",
    "    \n",
    "    output.append(len(_)*(np.mean(_) - gmean)**2)\n",
    "\n",
    "sum(output)\n",
    "    \n",
    "    "
   ]
  },
  {
   "cell_type": "code",
   "execution_count": 444,
   "metadata": {},
   "outputs": [
    {
     "data": {
      "text/plain": [
       "4.433333333333332"
      ]
     },
     "execution_count": 444,
     "metadata": {},
     "output_type": "execute_result"
    }
   ],
   "source": [
    "SSTr"
   ]
  },
  {
   "cell_type": "markdown",
   "metadata": {},
   "source": [
    "Note how the sum of squares treatment is the same as before we reduced the variance for the budget group! This is because the means of each group i.e. the $\\bar{Y_i}$'s have remained the same.\n",
    "\n",
    "Below, note that MSE is a measure of the within-group variance. Look how small it is! 0.053!"
   ]
  },
  {
   "cell_type": "code",
   "execution_count": 445,
   "metadata": {},
   "outputs": [
    {
     "data": {
      "text/plain": [
       "0.05333333333333332"
      ]
     },
     "execution_count": 445,
     "metadata": {},
     "output_type": "execute_result"
    }
   ],
   "source": [
    "MSE"
   ]
  },
  {
   "cell_type": "markdown",
   "metadata": {},
   "source": [
    "Below we see the MSTr, a measure of the between-group variance. Look it's the same as before! 2.216"
   ]
  },
  {
   "cell_type": "code",
   "execution_count": 446,
   "metadata": {},
   "outputs": [
    {
     "data": {
      "text/plain": [
       "2.216666666666666"
      ]
     },
     "execution_count": 446,
     "metadata": {},
     "output_type": "execute_result"
    }
   ],
   "source": [
    "MSTr"
   ]
  },
  {
   "cell_type": "markdown",
   "metadata": {},
   "source": [
    "The ratio between the within-group and between-group variance will be very different now. Look at the F-stat we get!"
   ]
  },
  {
   "cell_type": "code",
   "execution_count": 447,
   "metadata": {},
   "outputs": [
    {
     "data": {
      "text/plain": [
       "41.56249999999999"
      ]
     },
     "execution_count": 447,
     "metadata": {},
     "output_type": "execute_result"
    }
   ],
   "source": [
    "F = MSTr/MSE\n",
    "F"
   ]
  },
  {
   "cell_type": "markdown",
   "metadata": {},
   "source": [
    "Wow! Look that F-stat. "
   ]
  },
  {
   "cell_type": "code",
   "execution_count": 448,
   "metadata": {},
   "outputs": [
    {
     "data": {
      "text/plain": [
       "6.9266081401913"
      ]
     },
     "execution_count": 448,
     "metadata": {},
     "output_type": "execute_result"
    }
   ],
   "source": [
    "Fcrit3 = sp.stats.f.ppf(q=0.99, dfn=2, dfd=12)\n",
    "Fcrit3"
   ]
  },
  {
   "cell_type": "code",
   "execution_count": 449,
   "metadata": {},
   "outputs": [
    {
     "data": {
      "text/plain": [
       "True"
      ]
     },
     "execution_count": 449,
     "metadata": {},
     "output_type": "execute_result"
    }
   ],
   "source": [
    "F > Fcrit3"
   ]
  },
  {
   "cell_type": "markdown",
   "metadata": {},
   "source": [
    "Now we have reduced the variance for budget customers, we have statistical confidence even at $\\alpha = 0.01$\n",
    "\n",
    "Conclusion: If the within-group variation (measured by MSE via the SSE) is smaller than the between group variation (measured by MSTr via the SSTr), then we can be more confident that the means of the group are truly different from each other. \n",
    "\n",
    "At some point, this reaches the confidence level for some given alpha $\\alpha$.\n",
    "\n",
    "Think about it. The less variance inside a group, the more confident we can be that we will find members of that \"class\" or group clustered around the mean for that group. \n",
    "\n",
    "If we find two groups like this i.e. very clustered around the mean for their group, and the means for each group are very different from each other, it becomes more likely that the means for each class are truly different. \n",
    "\n",
    "Alternatively, you can think of this as us having more reason to believe that the means for the parameters are truly different (Bayesian thinking!). \n",
    "\n",
    "On the other hand, imagine we had two groups that had quite similar means, and within each group we found a huge amount of variance (i.e. the values are scattered and spread). This would make it far more likely that the different between the means could be explained the random static exhibited by the groups. \n",
    "\n",
    "In that case, it would not be reasonable to believe that we had found a true difference."
   ]
  }
 ],
 "metadata": {
  "kernelspec": {
   "display_name": "Python 3 (ipykernel)",
   "language": "python",
   "name": "python3"
  },
  "language_info": {
   "codemirror_mode": {
    "name": "ipython",
    "version": 3
   },
   "file_extension": ".py",
   "mimetype": "text/x-python",
   "name": "python",
   "nbconvert_exporter": "python",
   "pygments_lexer": "ipython3",
   "version": "3.11.5"
  }
 },
 "nbformat": 4,
 "nbformat_minor": 4
}
